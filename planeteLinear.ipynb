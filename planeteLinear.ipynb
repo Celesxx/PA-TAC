{
 "cells": [
  {
   "cell_type": "code",
   "execution_count": null,
   "metadata": {},
   "outputs": [],
   "source": [
    "import ctypes\n",
    "from ctypes import c_char_p\n",
    "import os\n",
    "import numpy as np\n",
    "import matplotlib.pyplot as plt\n",
    "from PIL import Image\n",
    "from sklearn.model_selection import train_test_split\n",
    "from tqdm.notebook import tqdm"
   ]
  },
  {
   "cell_type": "code",
   "execution_count": null,
   "metadata": {},
   "outputs": [],
   "source": [
    "\n",
    "def load_images_from_folder(folder, label):\n",
    "    images = []\n",
    "    labels = []\n",
    "    for filename in os.listdir(folder):\n",
    "        img_path = os.path.join(folder, filename)\n",
    "        img = Image.open(img_path).convert('L')  # Conversion en gris\n",
    "        img = Image.open(img_path).convert('RGB')  # Conversion en gris\n",
    "        img = img.resize((128, 128))  # Resize les images\n",
    "        img_array = np.array(img, dtype=np.float64).flatten()  # Flatten les vecteurs\n",
    "        images.append(img_array)\n",
    "        labels.append(label)\n",
    "    return images, labels\n",
    "\n",
    "folder_a = 'data/dataset/resized/gas_giant'\n",
    "folder_b = 'data/dataset/resized/neptune-like'\n",
    "folder_c = 'data/dataset/resized/super_earth'\n",
    "\n",
    "images_a, labels_a = load_images_from_folder(folder_a, [1.0, 0.0, 0.0])\n",
    "images_b, labels_b = load_images_from_folder(folder_b, [0.0, 1.0, 0.0])\n",
    "images_c, labels_c = load_images_from_folder(folder_c, [0.0, 0.0, 1.0])\n",
    "\n",
    "X = np.array(images_a + images_b + images_c)\n",
    "y = np.array(labels_a + labels_b + labels_c)\n",
    "\n",
    "# Séparer les données entrainement / test\n",
    "X_train, X_test, y_train, y_test = train_test_split(X, y, test_size=0.2, random_state=42)\n",
    "\n",
    "print(f\"Training data shape: {X_train.shape}\")\n",
    "print(f\"Training data shape: {y_train.shape}\")\n",
    "print(f\"Test data shape: {X_test.shape}\")\n",
    "print(f\"Test data shape: {y_test.shape}\")"
   ]
  },
  {
   "cell_type": "code",
   "execution_count": null,
   "metadata": {},
   "outputs": [],
   "source": [
    "def display_selected_images(images, labels, indices, nrows, ncols):\n",
    "    fig, axes = plt.subplots(nrows, ncols, figsize=(10, 10))\n",
    "    axes = axes.flatten()\n",
    "    for i, ax in enumerate(axes):\n",
    "        if i < len(indices):\n",
    "            index = indices[i]\n",
    "            # image_2d = images[index].reshape((64, 64)) \n",
    "            image_3d = images[index].reshape((128, 128, 3)) \n",
    "            if image_3d.max() > 1.0:\n",
    "                image_3d = image_3d / 255.0 \n",
    "            # ax.imshow(image_2d, cmap='gray')\n",
    "            ax.imshow(image_3d)\n",
    "            ax.set_title(f\"Label: {labels[index]}\")\n",
    "        ax.axis('off')\n",
    "    plt.tight_layout()\n",
    "    plt.show()"
   ]
  },
  {
   "cell_type": "code",
   "execution_count": null,
   "metadata": {},
   "outputs": [],
   "source": [
    "selected_indices = [39, 100, 70, 320, 230, 159]\n",
    "nrows, ncols = 2, 3\n",
    "\n",
    "display_selected_images(X_train, y_train, selected_indices, nrows, ncols)"
   ]
  },
  {
   "cell_type": "markdown",
   "metadata": {},
   "source": [
    "# Perceptron multi couche"
   ]
  },
  {
   "cell_type": "code",
   "execution_count": null,
   "metadata": {},
   "outputs": [],
   "source": [
    "mlp_model = ctypes.CDLL(\"modele/mlp/target/release/libmlp_classification.so\")\n",
    "\n",
    "# Définir les types d'arguments et de retour des fonctions C\n",
    "PROGRESS_CALLBACK = ctypes.CFUNCTYPE(None, ctypes.c_int, ctypes.c_double)\n",
    "mlp_model.mlpInit.argtypes = [ctypes.POINTER(ctypes.c_uint), ctypes.c_size_t, ctypes.c_double]\n",
    "mlp_model.mlpInit.restype = ctypes.POINTER(ctypes.c_void_p)\n",
    "\n",
    "mlp_model.mlpTrain.argtypes = [\n",
    "    ctypes.POINTER(ctypes.c_void_p),\n",
    "    ctypes.POINTER(ctypes.c_double),\n",
    "    ctypes.POINTER(ctypes.c_double),\n",
    "    ctypes.c_size_t,\n",
    "    ctypes.c_size_t,\n",
    "    ctypes.c_size_t,\n",
    "    ctypes.c_size_t,\n",
    "    ctypes.c_size_t,\n",
    "    ctypes.c_bool,\n",
    "    PROGRESS_CALLBACK,\n",
    "    ctypes.c_size_t\n",
    "]\n",
    "mlp_model.mlpTrain.restype = ctypes.c_double\n",
    "\n",
    "\n",
    "mlp_model.mlpPredict.argtypes = [\n",
    "    ctypes.POINTER(ctypes.c_void_p),\n",
    "    ctypes.POINTER(ctypes.c_double),\n",
    "    ctypes.c_size_t,\n",
    "    ctypes.c_bool,\n",
    "    ctypes.POINTER(ctypes.c_double)\n",
    "]\n",
    "mlp_model.mlpPredict.restype = None\n",
    "\n",
    "mlp_model.mlpFree.argtypes = [ctypes.POINTER(ctypes.c_void_p)]\n",
    "mlp_model.mlpFree.restype = None"
   ]
  },
  {
   "cell_type": "code",
   "execution_count": null,
   "metadata": {},
   "outputs": [],
   "source": [
    "print(f\"vecteur : {X_train}\")\n",
    "print(f\"type : {type(X_train[0][0])}\")\n",
    "print(f\"pointer : {X_train.ctypes.data_as(ctypes.POINTER(ctypes.c_double))}\")\n",
    "print(f\"Training data shape: {X_train.shape}\")\n",
    "print(f\"Training data shape: {y_train.shape}\")\n",
    "print(f\"Test data shape: {X_test.shape}\")\n",
    "print(f\"Test data shape: {y_test.shape}\")"
   ]
  },
  {
   "cell_type": "code",
   "execution_count": null,
   "metadata": {},
   "outputs": [],
   "source": [
    "neurons_size = np.array([X_train.shape[1], 32, 3], dtype=np.uintp)\n",
    "learning_rate = 0.001\n",
    "epochs = 1000\n",
    "callback_interval = 10\n",
    "\n",
    "parameter_ptr = neurons_size.ctypes.data_as(ctypes.POINTER(ctypes.c_uint))\n",
    "nn = mlp_model.mlpInit(parameter_ptr, neurons_size.size, learning_rate)"
   ]
  },
  {
   "cell_type": "code",
   "execution_count": null,
   "metadata": {},
   "outputs": [],
   "source": [
    "progress_bar = tqdm(total=epochs, desc=\"Training Progress\")\n",
    "\n",
    "def progress_callback(epochs, loss):\n",
    "    progress_bar.update(callback_interval)\n",
    "    progress_bar.set_postfix(loss=loss)\n",
    "\n",
    "callback_func = PROGRESS_CALLBACK(progress_callback)\n",
    "\n",
    "loss = mlp_model.mlpTrain(\n",
    "    nn,\n",
    "    X_train.ctypes.data_as(ctypes.POINTER(ctypes.c_double)),\n",
    "    y_train.ctypes.data_as(ctypes.POINTER(ctypes.c_double)),\n",
    "    X_train.shape[0],\n",
    "    X_train.shape[1],\n",
    "    y_train.shape[1],\n",
    "    epochs,\n",
    "    32,\n",
    "    True,  \n",
    "    callback_func,\n",
    "    callback_interval  \n",
    ")\n",
    "progress_bar.close()"
   ]
  },
  {
   "cell_type": "code",
   "execution_count": null,
   "metadata": {},
   "outputs": [],
   "source": [
    "predictions_list = []\n",
    "labels_list = []\n",
    "\n",
    "for k in range(len(X_test)):\n",
    "    predictions = np.zeros(y_train.shape[1], dtype=np.float64)\n",
    "    mlp_model.mlpPredict(\n",
    "        nn,\n",
    "        X_test[k].ctypes.data_as(ctypes.POINTER(ctypes.c_double)),\n",
    "        X_test[k].size,\n",
    "        True,\n",
    "        predictions.ctypes.data_as(ctypes.POINTER(ctypes.c_double))\n",
    "    )\n",
    "    predictions_list.append(predictions)\n",
    "    labels_list.append(y_test[k])"
   ]
  },
  {
   "cell_type": "code",
   "execution_count": null,
   "metadata": {},
   "outputs": [],
   "source": [
    "predictions_array = np.array(predictions_list)\n",
    "labels_array = np.array(labels_list)\n",
    "\n",
    "for i in range(10):\n",
    "    print(f\"Sample {i}, True Label: {labels_array[i]}, Predictions: {predictions_array[i]}\")\n",
    "\n",
    "accuracy = np.mean(np.argmax(predictions_array, axis=1) == np.argmax(labels_array, axis=1))\n",
    "print(f\"Accuracy: {accuracy * 100:.2f}%\")"
   ]
  },
  {
   "cell_type": "code",
   "execution_count": null,
   "metadata": {},
   "outputs": [],
   "source": [
    "from sklearn.metrics import confusion_matrix, ConfusionMatrixDisplay\n",
    "\n",
    "cm = confusion_matrix(np.argmax(labels_array, axis=1), np.argmax(predictions_array, axis=1))\n",
    "disp = ConfusionMatrixDisplay(confusion_matrix=cm)\n",
    "disp.plot(cmap=plt.cm.Blues)\n",
    "plt.show()"
   ]
  },
  {
   "cell_type": "code",
   "execution_count": null,
   "metadata": {},
   "outputs": [],
   "source": [
    "mlp_model.mlpFree(nn)"
   ]
  },
  {
   "cell_type": "code",
   "execution_count": null,
   "metadata": {},
   "outputs": [],
   "source": []
  }
 ],
 "metadata": {
  "kernelspec": {
   "display_name": "PA",
   "language": "python",
   "name": "python3"
  },
  "language_info": {
   "codemirror_mode": {
    "name": "ipython",
    "version": 3
   },
   "file_extension": ".py",
   "mimetype": "text/x-python",
   "name": "python",
   "nbconvert_exporter": "python",
   "pygments_lexer": "ipython3",
   "version": "3.12.2"
  }
 },
 "nbformat": 4,
 "nbformat_minor": 2
}
