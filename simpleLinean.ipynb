{
 "cells": [
  {
   "cell_type": "code",
   "execution_count": 1,
   "metadata": {},
   "outputs": [],
   "source": [
    "import ctypes\n",
    "import numpy as np\n",
    "import matplotlib.pyplot as plt"
   ]
  },
  {
   "cell_type": "code",
   "execution_count": 2,
   "metadata": {},
   "outputs": [],
   "source": [
    "linear_model = ctypes.CDLL(\"modele/linear/target/release/liblinear_classification.so\")\n",
    "\n",
    "linear_model.LM_init.argtypes = [\n",
    "    ctypes.c_double,\n",
    "    np.ctypeslib.ndpointer(dtype=np.float64, ndim=1, flags='C_CONTIGUOUS'),\n",
    "    ctypes.c_size_t,\n",
    "    ctypes.c_double\n",
    "]\n",
    "linear_model.LM_init.restype = ctypes.POINTER(ctypes.c_void_p)\n",
    "\n",
    "linear_model.LM_free.argtypes = [ctypes.POINTER(ctypes.c_void_p)]\n",
    "\n",
    "linear_model.LM_train.argtypes = [\n",
    "    ctypes.POINTER(ctypes.c_void_p),\n",
    "    np.ctypeslib.ndpointer(dtype=np.float64, ndim=1, flags='C_CONTIGUOUS'),\n",
    "    np.ctypeslib.ndpointer(dtype=np.float64, ndim=1, flags='C_CONTIGUOUS'),\n",
    "    ctypes.c_size_t,\n",
    "    ctypes.c_size_t,\n",
    "    ctypes.c_size_t\n",
    "]\n",
    "\n",
    "linear_model.LM_predict.argtypes = [\n",
    "    ctypes.POINTER(ctypes.c_void_p),\n",
    "    np.ctypeslib.ndpointer(dtype=np.float64, ndim=1, flags='C_CONTIGUOUS'),\n",
    "    ctypes.c_size_t,\n",
    "    ctypes.c_size_t,\n",
    "    np.ctypeslib.ndpointer(dtype=np.float64, ndim=1, flags='C_CONTIGUOUS')\n",
    "]"
   ]
  },
  {
   "cell_type": "code",
   "execution_count": 6,
   "metadata": {},
   "outputs": [],
   "source": [
    "learning_rate = 0.01\n",
    "weights = np.array([0.1, -0.2, 0.3, -0.4], dtype=np.float64, order='C')\n",
    "bias = 1\n",
    "epochs = 1000\n",
    "\n",
    "# Initialisation du modèle\n",
    "model = linear_model.LM_init(learning_rate, weights, weights.size, bias)"
   ]
  },
  {
   "cell_type": "code",
   "execution_count": 7,
   "metadata": {},
   "outputs": [
    {
     "name": "stdout",
     "output_type": "stream",
     "text": [
      "flatten vector [[0. 0.]\n",
      " [0. 1.]\n",
      " [1. 0.]\n",
      " [1. 1.]]\n"
     ]
    },
    {
     "data": {
      "image/png": "[encoded data removed]",
      "text/plain": [
       "<Figure size 640x480 with 1 Axes>"
      ]
     },
     "metadata": {},
     "output_type": "display_data"
    },
    {
     "data": {
      "text/plain": [
       "<Figure size 640x480 with 0 Axes>"
      ]
     },
     "metadata": {},
     "output_type": "display_data"
    }
   ],
   "source": [
    "# XOR test\n",
    "x_train = np.array([\n",
    "    [0.0, 0.0],\n",
    "    [0.0, 1.0],\n",
    "    [1.0, 0.0],\n",
    "    [1.0, 1.0]\n",
    "], dtype=np.float64, order='C')\n",
    "x_train_flatten = x_train.flatten()\n",
    "y_train = np.array([-1.0, 1.0, 1.0, -1.0], dtype=np.float64, order='C')\n",
    "n_samples, n_features = 3, 2\n",
    "\n",
    "print(f\"flatten vector {x_train}\")\n",
    "plt.scatter(x_train[0, 0], x_train[0, 1], color='blue')\n",
    "plt.scatter(x_train[1:4,0], x_train[1:4,1], color='red')\n",
    "plt.show()\n",
    "plt.clf()"
   ]
  },
  {
   "cell_type": "code",
   "execution_count": 8,
   "metadata": {},
   "outputs": [
    {
     "name": "stdout",
     "output_type": "stream",
     "text": [
      "Epoch 0 completed\n",
      "[0.03532394 0.64546973 0.65096668 0.98933122]\n",
      "Epoch 100 completed\n",
      "Epoch 200 completed\n",
      "Epoch 300 completed\n",
      "Epoch 400 completed\n",
      "Epoch 500 completed\n",
      "Epoch 600 completed\n",
      "Epoch 700 completed\n",
      "Epoch 800 completed\n",
      "Epoch 900 completed\n"
     ]
    }
   ],
   "source": [
    "linear_model.LM_train(model, x_train_flatten, y_train, n_samples, n_features, epochs)\n",
    "\n",
    "# x_test = np.array([\n",
    "#     [1.0, 1.0],\n",
    "#     [0.0, 1.0],\n",
    "#     [1.0, 0.0],\n",
    "#     [0.0, 0.0]\n",
    "# ], dtype=np.float64).flatten()\n",
    "\n",
    "n_samples_new = x_train.shape[0]\n",
    "predictions = np.zeros(n_samples_new, dtype=np.float64)\n",
    "\n",
    "linear_model.LM_predict(\n",
    "    model,\n",
    "    x_train_flatten,\n",
    "    n_samples_new,\n",
    "    n_features,\n",
    "    predictions\n",
    ")\n",
    "\n",
    "print(predictions)"
   ]
  },
  {
   "cell_type": "code",
   "execution_count": 6,
   "metadata": {},
   "outputs": [
    {
     "data": {
      "text/plain": [
       "0"
      ]
     },
     "execution_count": 6,
     "metadata": {},
     "output_type": "execute_result"
    }
   ],
   "source": [
    "linear_model.LM_free(model)"
   ]
  },
  {
   "cell_type": "code",
   "execution_count": null,
   "metadata": {},
   "outputs": [],
   "source": []
  }
 ],
 "metadata": {
  "kernelspec": {
   "display_name": "PA",
   "language": "python",
   "name": "python3"
  },
  "language_info": {
   "codemirror_mode": {
    "name": "ipython",
    "version": 3
   },
   "file_extension": ".py",
   "mimetype": "text/x-python",
   "name": "python",
   "nbconvert_exporter": "python",
   "pygments_lexer": "ipython3",
   "version": "3.12.3"
  }
 },
 "nbformat": 4,
 "nbformat_minor": 2
}
