{
 "cells": [
  {
   "cell_type": "code",
   "execution_count": 1,
   "metadata": {},
   "outputs": [],
   "source": [
    "import ctypes\n",
    "import numpy as np\n",
    "import matplotlib.pyplot as plt"
   ]
  },
  {
   "cell_type": "code",
   "execution_count": 2,
   "metadata": {},
   "outputs": [],
   "source": [
    "linear_model = ctypes.CDLL(\"modele/linear/target/release/liblinear_classification.so\")\n",
    "\n",
    "linear_model.LM_init.argtypes = [\n",
    "    ctypes.c_double,\n",
    "    np.ctypeslib.ndpointer(dtype=np.float64, ndim=1, flags='C_CONTIGUOUS'),\n",
    "    ctypes.c_size_t,\n",
    "    ctypes.c_double\n",
    "]\n",
    "linear_model.LM_init.restype = ctypes.POINTER(ctypes.c_void_p)\n",
    "\n",
    "linear_model.LM_free.argtypes = [ctypes.POINTER(ctypes.c_void_p)]\n",
    "\n",
    "linear_model.LM_train.argtypes = [\n",
    "    ctypes.POINTER(ctypes.c_void_p),\n",
    "    np.ctypeslib.ndpointer(dtype=np.float64, ndim=2, flags='C_CONTIGUOUS'),\n",
    "    np.ctypeslib.ndpointer(dtype=np.float64, ndim=1, flags='C_CONTIGUOUS'),\n",
    "    ctypes.c_size_t,\n",
    "    ctypes.c_size_t,\n",
    "    ctypes.c_size_t\n",
    "]\n"
   ]
  },
  {
   "cell_type": "code",
   "execution_count": 3,
   "metadata": {},
   "outputs": [],
   "source": [
    "learning_rate = 0.01\n",
    "weights = np.array([0.1, -0.2, 0.3, -0.4], dtype=np.float64)\n",
    "bias = 0.5\n",
    "epochs = 1000\n",
    "\n",
    "# Initialisation du modèle\n",
    "model = linear_model.LM_init(learning_rate, weights, weights.size, bias)"
   ]
  },
  {
   "cell_type": "code",
   "execution_count": null,
   "metadata": {},
   "outputs": [
    {
     "ename": "",
     "evalue": "",
     "output_type": "error",
     "traceback": [
      "\u001b[1;31mThe Kernel crashed while executing code in the current cell or a previous cell. \n",
      "\u001b[1;31mPlease review the code in the cell(s) to identify a possible cause of the failure. \n",
      "\u001b[1;31mClick <a href='https://aka.ms/vscodeJupyterKernelCrash'>here</a> for more info. \n",
      "\u001b[1;31mView Jupyter <a href='command:jupyter.viewOutput'>log</a> for further details."
     ]
    }
   ],
   "source": [
    "\n",
    "# Données de test\n",
    "X_train = np.array([\n",
    "    [0.5, -0.3, 0.1, 0.7],\n",
    "    [0.6, 0.2, -0.4, 0.8],\n",
    "    [-0.7, 0.4, 0.2, -0.1]\n",
    "], dtype=np.float64)\n",
    "\n",
    "y_train = np.array([1.0, 0.0, 1.0], dtype=np.float64)\n",
    "\n",
    "\n",
    "# Entraînement du modèle le modèle\n",
    "linear_model.LM_train(model, X_train, y_train, X_train.shape[0], X_train.shape[1], epochs)\n",
    "\n",
    "# Libérer le modèle\n",
    "linear_model.LM_free(model)"
   ]
  },
  {
   "cell_type": "code",
   "execution_count": null,
   "metadata": {},
   "outputs": [],
   "source": []
  }
 ],
 "metadata": {
  "kernelspec": {
   "display_name": "PA",
   "language": "python",
   "name": "python3"
  },
  "language_info": {
   "codemirror_mode": {
    "name": "ipython",
    "version": 3
   },
   "file_extension": ".py",
   "mimetype": "text/x-python",
   "name": "python",
   "nbconvert_exporter": "python",
   "pygments_lexer": "ipython3",
   "version": "3.12.3"
  }
 },
 "nbformat": 4,
 "nbformat_minor": 2
}
