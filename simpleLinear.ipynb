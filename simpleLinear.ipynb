{
 "cells": [
  {
   "cell_type": "code",
   "execution_count": 1,
   "metadata": {},
   "outputs": [],
   "source": [
    "import ctypes\n",
    "import numpy as np\n",
    "import matplotlib.pyplot as plt"
   ]
  },
  {
   "cell_type": "code",
   "execution_count": 2,
   "metadata": {},
   "outputs": [],
   "source": [
    "linear_model = ctypes.CDLL(\"modele/linear/target/release/liblinear_classification.so\")\n",
    "\n",
    "linear_model.LM_init.argtypes = [\n",
    "    ctypes.c_double,\n",
    "    np.ctypeslib.ndpointer(dtype=np.float64, ndim=1, flags='C_CONTIGUOUS'),\n",
    "    ctypes.c_size_t,\n",
    "    ctypes.c_double,\n",
    "    ctypes.c_char\n",
    "]\n",
    "linear_model.LM_init.restype = ctypes.POINTER(ctypes.c_void_p)\n",
    "\n",
    "linear_model.LM_free.argtypes = [ctypes.POINTER(ctypes.c_void_p)]\n",
    "\n",
    "linear_model.LM_train.argtypes = [\n",
    "    ctypes.POINTER(ctypes.c_void_p),\n",
    "    np.ctypeslib.ndpointer(dtype=np.float64, ndim=1, flags='C_CONTIGUOUS'),\n",
    "    np.ctypeslib.ndpointer(dtype=np.float64, ndim=1, flags='C_CONTIGUOUS'),\n",
    "    ctypes.c_size_t,\n",
    "    ctypes.c_size_t,\n",
    "    ctypes.c_size_t\n",
    "]\n",
    "\n",
    "linear_model.LM_predict.argtypes = [\n",
    "    ctypes.POINTER(ctypes.c_void_p),\n",
    "    np.ctypeslib.ndpointer(dtype=np.float64, ndim=1, flags='C_CONTIGUOUS'),\n",
    "    ctypes.c_size_t,\n",
    "    ctypes.c_size_t,\n",
    "    np.ctypeslib.ndpointer(dtype=np.float64, ndim=1, flags='C_CONTIGUOUS')\n",
    "]"
   ]
  },
  {
   "cell_type": "markdown",
   "metadata": {},
   "source": [
    "## Xor test"
   ]
  },
  {
   "cell_type": "markdown",
   "metadata": {},
   "source": [
    "### Parameters"
   ]
  },
  {
   "cell_type": "code",
   "execution_count": 54,
   "metadata": {},
   "outputs": [],
   "source": [
    "learning_rate = 0.001\n",
    "weights = np.array([0.1, -0.2, 0.3, -0.4], dtype=np.float64, order='C')\n",
    "bias = 0.1\n",
    "epochs = 1000000\n",
    "activation = b't'\n",
    "# Initialisation du modèle\n",
    "model = linear_model.LM_init(learning_rate, weights, weights.size, bias, activation)"
   ]
  },
  {
   "cell_type": "code",
   "execution_count": 58,
   "metadata": {},
   "outputs": [
    {
     "name": "stdout",
     "output_type": "stream",
     "text": [
      "flatten vector [[0. 0.]\n",
      " [0. 1.]\n",
      " [1. 0.]\n",
      " [1. 1.]]\n"
     ]
    },
    {
     "data": {
      "image/png": "[encoded data removed]",
      "text/plain": [
       "<Figure size 640x480 with 1 Axes>"
      ]
     },
     "metadata": {},
     "output_type": "display_data"
    },
    {
     "data": {
      "text/plain": [
       "<Figure size 640x480 with 0 Axes>"
      ]
     },
     "metadata": {},
     "output_type": "display_data"
    }
   ],
   "source": [
    "# XOR test\n",
    "\n",
    "x_train = np.array([\n",
    "    [0.0, 0.0],\n",
    "    [0.0, 1.0],\n",
    "    [1.0, 0.0],\n",
    "    [1.0, 1.0],\n",
    "], dtype=np.float64)\n",
    "x_train_flatten = x_train.flatten()\n",
    "y_train = np.array([-1.0, 1.0, 1.0, -1.0], dtype=np.float64, order='C')\n",
    "n_samples, n_features = 4, 1\n",
    "# n_samples, n_features = x_train.shape[0], x_train.shape[1]\n",
    "\n",
    "print(f\"flatten vector {x_train}\")\n",
    "plt.scatter(x_train[0, 0], x_train[0, 1], color='blue')\n",
    "plt.scatter(x_train[1:4,0], x_train[1:4,1], color='red')\n",
    "plt.show()\n",
    "plt.clf()"
   ]
  },
  {
   "cell_type": "code",
   "execution_count": 59,
   "metadata": {},
   "outputs": [
    {
     "name": "stdout",
     "output_type": "stream",
     "text": [
      "vector x : [[0.0], [0.0], [0.0], [1.0]]\n",
      "vector y : [-1.0, 1.0, 1.0, -1.0]\n",
      "Training completed\n"
     ]
    },
    {
     "data": {
      "text/plain": [
       "0"
      ]
     },
     "execution_count": 59,
     "metadata": {},
     "output_type": "execute_result"
    }
   ],
   "source": [
    "linear_model.LM_train(model, x_train_flatten, y_train, n_samples, n_features, epochs)"
   ]
  },
  {
   "cell_type": "code",
   "execution_count": 60,
   "metadata": {},
   "outputs": [
    {
     "name": "stdout",
     "output_type": "stream",
     "text": [
      "---------------\n",
      "[ 0.3337585   0.3337585   0.3337585  -0.99949774]\n",
      "---------------\n",
      "vector x : [0.0, 0.0, 0.0, 1.0]\n",
      "samples : 4\n",
      "features : 1\n",
      "vector x converted : [[0.0], [0.0], [0.0], [1.0]]\n"
     ]
    }
   ],
   "source": [
    "predictions = np.zeros(n_samples, dtype=np.float64)\n",
    "\n",
    "linear_model.LM_predict(\n",
    "    model,\n",
    "    x_train_flatten,\n",
    "    n_samples,\n",
    "    n_features,\n",
    "    predictions\n",
    ")\n",
    "\n",
    "print(\"---------------\")\n",
    "print(predictions)\n",
    "print(\"---------------\")"
   ]
  },
  {
   "cell_type": "code",
   "execution_count": 53,
   "metadata": {},
   "outputs": [
    {
     "data": {
      "text/plain": [
       "0"
      ]
     },
     "execution_count": 53,
     "metadata": {},
     "output_type": "execute_result"
    }
   ],
   "source": [
    "linear_model.LM_free(model)"
   ]
  },
  {
   "cell_type": "markdown",
   "metadata": {},
   "source": [
    "## simple linear test"
   ]
  },
  {
   "cell_type": "code",
   "execution_count": 3,
   "metadata": {},
   "outputs": [],
   "source": [
    "learning_rate = 0.01\n",
    "weights = np.array([0.1, -0.2, 0.3, -0.4], dtype=np.float64, order='C')\n",
    "bias = 0.5\n",
    "epochs = 1000000\n",
    "activation = b't'\n",
    "# Initialisation du modèle\n",
    "model = linear_model.LM_init(learning_rate, weights, weights.size, bias, activation)"
   ]
  },
  {
   "cell_type": "code",
   "execution_count": 4,
   "metadata": {},
   "outputs": [
    {
     "name": "stdout",
     "output_type": "stream",
     "text": [
      "flatten vector [[1. 1.]\n",
      " [2. 3.]\n",
      " [3. 3.]]\n"
     ]
    },
    {
     "data": {
      "image/png": "[encoded data removed]",
      "text/plain": [
       "<Figure size 640x480 with 1 Axes>"
      ]
     },
     "metadata": {},
     "output_type": "display_data"
    },
    {
     "data": {
      "text/plain": [
       "<Figure size 640x480 with 0 Axes>"
      ]
     },
     "metadata": {},
     "output_type": "display_data"
    }
   ],
   "source": [
    "x_train = np.array([\n",
    "    [1.0, 1.0],\n",
    "    [2.0, 3.0],\n",
    "    [3.0, 3.0]\n",
    "], dtype=np.float64)\n",
    "x_train_flatten = x_train.flatten()\n",
    "y_train = np.array([1.0, -1.0, -1.0], dtype=np.float64, order='C')\n",
    "n_samples, n_features = 3, 2\n",
    "\n",
    "print(f\"flatten vector {x_train}\")\n",
    "plt.scatter(x_train[0, 0], x_train[0, 1], color='blue')\n",
    "plt.scatter(x_train[1:4,0], x_train[1:4,1], color='red')\n",
    "plt.show()\n",
    "plt.clf()"
   ]
  },
  {
   "cell_type": "code",
   "execution_count": 5,
   "metadata": {},
   "outputs": [
    {
     "name": "stdout",
     "output_type": "stream",
     "text": [
      "vector x : [[1.0, 1.0], [2.0, 3.0], [3.0, 3.0]]\n",
      "vector y : [1.0, -1.0, -1.0]\n",
      "Training completed\n"
     ]
    },
    {
     "data": {
      "text/plain": [
       "0"
      ]
     },
     "execution_count": 5,
     "metadata": {},
     "output_type": "execute_result"
    }
   ],
   "source": [
    "linear_model.LM_train(model, x_train_flatten, y_train, n_samples, n_features, epochs)"
   ]
  },
  {
   "cell_type": "code",
   "execution_count": 6,
   "metadata": {},
   "outputs": [
    {
     "name": "stdout",
     "output_type": "stream",
     "text": [
      "[-0.42 -0.42 -0.42]\n",
      "vector x : [1.0, 1.0, 2.0, 3.0, 3.0, 3.0]\n",
      "samples : 3\n",
      "features : 2\n",
      "vector x converted : [[1.0, 1.0], [2.0, 3.0], [3.0, 3.0]]\n"
     ]
    }
   ],
   "source": [
    "n_samples_new = x_train.shape[0]\n",
    "predictions = np.zeros(n_samples_new, dtype=np.float64)\n",
    "\n",
    "linear_model.LM_predict(\n",
    "    model,\n",
    "    x_train_flatten,\n",
    "    n_samples_new,\n",
    "    n_features,\n",
    "    predictions\n",
    ")\n",
    "\n",
    "print(predictions)"
   ]
  },
  {
   "cell_type": "code",
   "execution_count": 36,
   "metadata": {},
   "outputs": [
    {
     "data": {
      "text/plain": [
       "0"
      ]
     },
     "execution_count": 36,
     "metadata": {},
     "output_type": "execute_result"
    }
   ],
   "source": [
    "linear_model.LM_free(model)"
   ]
  },
  {
   "cell_type": "markdown",
   "metadata": {},
   "source": [
    "# test nuage point "
   ]
  },
  {
   "cell_type": "code",
   "execution_count": 44,
   "metadata": {},
   "outputs": [],
   "source": [
    "learning_rate = 0.01\n",
    "weights = np.array([0.1, -0.4, 0.6, -0.24], dtype=np.float64, order='C')\n",
    "bias = 0.2\n",
    "epochs = 1000000\n",
    "activation = b't'\n",
    "n_samples, n_features = 100, 2\n",
    "# Initialisation du modèle\n",
    "model = linear_model.LM_init(learning_rate, weights, weights.size, bias, activation)"
   ]
  },
  {
   "cell_type": "code",
   "execution_count": 45,
   "metadata": {},
   "outputs": [
    {
     "data": {
      "image/png": "[encoded data removed]",
      "text/plain": [
       "<Figure size 640x480 with 1 Axes>"
      ]
     },
     "metadata": {},
     "output_type": "display_data"
    },
    {
     "data": {
      "text/plain": [
       "<Figure size 640x480 with 0 Axes>"
      ]
     },
     "metadata": {},
     "output_type": "display_data"
    }
   ],
   "source": [
    "x_train = np.concatenate([np.random.random((50,2)) * 0.9 + np.array([1, 1]), np.random.random((50,2)) * 0.9 + np.array([2, 2])])\n",
    "x_train_flatten = x_train.flatten()\n",
    "y_train = np.concatenate([np.ones((50, 1)), np.ones((50, 1)) * -1.0]).flatten()\n",
    "# print(y_train)\n",
    "plt.scatter(x_train[0:50, 0], x_train[0:50, 1], color='blue')\n",
    "plt.scatter(x_train[50:100,0], x_train[50:100,1], color='red')\n",
    "plt.show()\n",
    "plt.clf()"
   ]
  },
  {
   "cell_type": "code",
   "execution_count": 46,
   "metadata": {},
   "outputs": [
    {
     "name": "stdout",
     "output_type": "stream",
     "text": [
      "vector x : [[1.6751926603123537, 1.7401221981837116], [1.0431635357776905, 1.343357784004101], [1.4386214887859736, 1.1613001188313006], [1.2976190515170452, 1.8663366401352277], [1.5013515351463016, 1.2982270919688563], [1.4335332303231167, 1.8878473454249245], [1.5355675191062472, 1.3959908902045541], [1.2736837803373537, 1.5956606529114201], [1.360288462948994, 1.4041967054897988], [1.6136919096790094, 1.7242293735306449], [1.379550410140089, 1.3559353990593221], [1.2293972937607731, 1.2650685642398982], [1.1509322897946874, 1.489711144726282], [1.5223784609362263, 1.5471813723595431], [1.1409401711223324, 1.7016952588004632], [1.8319158358397905, 1.7400331413441732], [1.0337735476797703, 1.0910305665916193], [1.4606160439684737, 1.6216560173119452], [1.3847075801316886, 1.507815821235932], [1.0159226936101298, 1.168928324826254], [1.5402766785142328, 1.717624306859229], [1.082648172175606, 1.3742547336606106], [1.063095563002346, 1.1980474498453015], [1.8560204067308876, 1.7178096186714042], [1.596192537953701, 1.5364023163442164], [1.3381231874189925, 1.5297980953984398], [1.3150524690670617, 1.2832634666658445], [1.6236369434582278, 1.393469659019738], [1.8234149684111622, 1.797698311806187], [1.4683843961464753, 1.4438631117222043], [1.469117267439764, 1.7980344469237952], [1.367085466356834, 1.5839049502929994], [1.3212764307238005, 1.3436799834012925], [1.334424924559817, 1.041689629787798], [1.6383095242730439, 1.0557787939810133], [1.088074399811627, 1.3584652261432946], [1.876992929469704, 1.3308312800259974], [1.1949177336338423, 1.3944120589995985], [1.0567946643095107, 1.3578421491585173], [1.575298537032976, 1.6888490523531154], [1.0981926720290778, 1.734051490198182], [1.163060873231565, 1.4972721364762638], [1.3266508678822526, 1.2577982799098892], [1.0653399048928778, 1.5537902977814997], [1.88956693060875, 1.6745889772278946], [1.6000295019345379, 1.054242737388914], [1.701134817728589, 1.5939366261461556], [1.5511225342295627, 1.423170235929384], [1.6070905557980246, 1.0619268592392268], [1.843850031798556, 1.483807394908052], [2.3559499736689653, 2.3006795970185525], [2.672722515918567, 2.132211301412109], [2.5323115646377854, 2.019767549942115], [2.7470587199805214, 2.0655431705348946], [2.431907999189965, 2.671291179722694], [2.045451298297273, 2.5484213817350465], [2.823306205493052, 2.0985050804505567], [2.041331639748392, 2.8867859771561357], [2.272430444596843, 2.3641814181696335], [2.4308072085557053, 2.7737323718967506], [2.6027829588820777, 2.8284912358977428], [2.5878619141393258, 2.2569002683669344], [2.3578281640275986, 2.8987759436832827], [2.3680084534653263, 2.4391363189294717], [2.088182855632556, 2.782643414215861], [2.6745494665861713, 2.6682623528117264], [2.236855985144838, 2.204383414791006], [2.4290117776728923, 2.7694076570955817], [2.6193781782393395, 2.557748859362887], [2.0029522931886716, 2.719880251951536], [2.1142287398091186, 2.009947078595487], [2.0871881678217425, 2.746849772032585], [2.754142395861937, 2.323155023414226], [2.3516484910198017, 2.520406105420025], [2.304877866993346, 2.0792713781128356], [2.5709848574759047, 2.602389401828295], [2.6425975366556713, 2.545776255421515], [2.0503725728816327, 2.328471922147132], [2.0889290027998992, 2.022339202680462], [2.803991492105929, 2.375843768275892], [2.1032915429098953, 2.5569290704054337], [2.133791859652982, 2.3776834954489865], [2.8565777022000303, 2.2426148808800246], [2.476806692137493, 2.4487373914613233], [2.8244428044507512, 2.869268728292226], [2.8827077126787963, 2.6607594438252486], [2.5101295613126027, 2.73437015661925], [2.42701997627363, 2.4913156879440224], [2.714762489390344, 2.621567116090608], [2.5580779892969323, 2.663784372514074], [2.335618576693599, 2.0592637075569042], [2.202806578295381, 2.2192293543254547], [2.8036572847312358, 2.072445847620958], [2.1203698874169636, 2.717774919837817], [2.2540380396007005, 2.4884541072918895], [2.507381355793314, 2.018431214831785], [2.640926334291252, 2.3188298999347823], [2.827735615607517, 2.5558025831615803], [2.2902818382525894, 2.029843017724997], [2.8078852638756855, 2.228584220524089]]\n",
      "vector y : [1.0, 1.0, 1.0, 1.0, 1.0, 1.0, 1.0, 1.0, 1.0, 1.0, 1.0, 1.0, 1.0, 1.0, 1.0, 1.0, 1.0, 1.0, 1.0, 1.0, 1.0, 1.0, 1.0, 1.0, 1.0, 1.0, 1.0, 1.0, 1.0, 1.0, 1.0, 1.0, 1.0, 1.0, 1.0, 1.0, 1.0, 1.0, 1.0, 1.0, 1.0, 1.0, 1.0, 1.0, 1.0, 1.0, 1.0, 1.0, 1.0, 1.0, -1.0, -1.0, -1.0, -1.0, -1.0, -1.0, -1.0, -1.0, -1.0, -1.0, -1.0, -1.0, -1.0, -1.0, -1.0, -1.0, -1.0, -1.0, -1.0, -1.0, -1.0, -1.0, -1.0, -1.0, -1.0, -1.0, -1.0, -1.0, -1.0, -1.0, -1.0, -1.0, -1.0, -1.0, -1.0, -1.0, -1.0, -1.0, -1.0, -1.0, -1.0, -1.0, -1.0, -1.0, -1.0, -1.0, -1.0, -1.0, -1.0, -1.0]\n",
      "Training completed\n"
     ]
    },
    {
     "data": {
      "text/plain": [
       "0"
      ]
     },
     "execution_count": 46,
     "metadata": {},
     "output_type": "execute_result"
    }
   ],
   "source": [
    "linear_model.LM_train(model, x_train_flatten, y_train, n_samples, n_features, epochs)"
   ]
  },
  {
   "cell_type": "code",
   "execution_count": 50,
   "metadata": {},
   "outputs": [
    {
     "name": "stdout",
     "output_type": "stream",
     "text": [
      "---------------------------------------------------------------\n",
      "[ 0.99998001  1.          1.          0.99999995  1.          0.99999727\n",
      "  1.          1.          1.          0.99999718  1.          1.\n",
      "  1.          1.          1.          0.99902381  1.          1.\n",
      "  1.          1.          0.99999962  1.          1.          0.99902837\n",
      "  0.99999999  1.          1.          1.          0.99622453  1.\n",
      "  0.99999942  1.          1.          1.          1.          1.\n",
      "  0.99999996  1.          1.          0.99999958  1.          1.\n",
      "  1.          1.          0.99930842  1.          0.99999928  1.\n",
      "  1.          0.99999875 -1.         -1.         -0.99999994 -1.\n",
      " -1.         -0.99999999 -1.         -1.         -1.         -1.\n",
      " -1.         -1.         -1.         -1.         -1.         -1.\n",
      " -0.99999941 -1.         -1.         -1.         -0.99756699 -1.\n",
      " -1.         -1.         -0.99999674 -1.         -1.         -0.99999791\n",
      " -0.99674389 -1.         -1.         -0.99999993 -1.         -1.\n",
      " -1.         -1.         -1.         -1.         -1.         -1.\n",
      " -0.99999738 -0.99999908 -1.         -1.         -1.         -0.99999989\n",
      " -1.         -1.         -0.99998206 -1.        ]\n",
      "---------------------------------------------------------------\n",
      "vector x : [1.6751926603123537, 1.7401221981837116, 1.0431635357776905, 1.343357784004101, 1.4386214887859736, 1.1613001188313006, 1.2976190515170452, 1.8663366401352277, 1.5013515351463016, 1.2982270919688563, 1.4335332303231167, 1.8878473454249245, 1.5355675191062472, 1.3959908902045541, 1.2736837803373537, 1.5956606529114201, 1.360288462948994, 1.4041967054897988, 1.6136919096790094, 1.7242293735306449, 1.379550410140089, 1.3559353990593221, 1.2293972937607731, 1.2650685642398982, 1.1509322897946874, 1.489711144726282, 1.5223784609362263, 1.5471813723595431, 1.1409401711223324, 1.7016952588004632, 1.8319158358397905, 1.7400331413441732, 1.0337735476797703, 1.0910305665916193, 1.4606160439684737, 1.6216560173119452, 1.3847075801316886, 1.507815821235932, 1.0159226936101298, 1.168928324826254, 1.5402766785142328, 1.717624306859229, 1.082648172175606, 1.3742547336606106, 1.063095563002346, 1.1980474498453015, 1.8560204067308876, 1.7178096186714042, 1.596192537953701, 1.5364023163442164, 1.3381231874189925, 1.5297980953984398, 1.3150524690670617, 1.2832634666658445, 1.6236369434582278, 1.393469659019738, 1.8234149684111622, 1.797698311806187, 1.4683843961464753, 1.4438631117222043, 1.469117267439764, 1.7980344469237952, 1.367085466356834, 1.5839049502929994, 1.3212764307238005, 1.3436799834012925, 1.334424924559817, 1.041689629787798, 1.6383095242730439, 1.0557787939810133, 1.088074399811627, 1.3584652261432946, 1.876992929469704, 1.3308312800259974, 1.1949177336338423, 1.3944120589995985, 1.0567946643095107, 1.3578421491585173, 1.575298537032976, 1.6888490523531154, 1.0981926720290778, 1.734051490198182, 1.163060873231565, 1.4972721364762638, 1.3266508678822526, 1.2577982799098892, 1.0653399048928778, 1.5537902977814997, 1.88956693060875, 1.6745889772278946, 1.6000295019345379, 1.054242737388914, 1.701134817728589, 1.5939366261461556, 1.5511225342295627, 1.423170235929384, 1.6070905557980246, 1.0619268592392268, 1.843850031798556, 1.483807394908052, 2.3559499736689653, 2.3006795970185525, 2.672722515918567, 2.132211301412109, 2.5323115646377854, 2.019767549942115, 2.7470587199805214, 2.0655431705348946, 2.431907999189965, 2.671291179722694, 2.045451298297273, 2.5484213817350465, 2.823306205493052, 2.0985050804505567, 2.041331639748392, 2.8867859771561357, 2.272430444596843, 2.3641814181696335, 2.4308072085557053, 2.7737323718967506, 2.6027829588820777, 2.8284912358977428, 2.5878619141393258, 2.2569002683669344, 2.3578281640275986, 2.8987759436832827, 2.3680084534653263, 2.4391363189294717, 2.088182855632556, 2.782643414215861, 2.6745494665861713, 2.6682623528117264, 2.236855985144838, 2.204383414791006, 2.4290117776728923, 2.7694076570955817, 2.6193781782393395, 2.557748859362887, 2.0029522931886716, 2.719880251951536, 2.1142287398091186, 2.009947078595487, 2.0871881678217425, 2.746849772032585, 2.754142395861937, 2.323155023414226, 2.3516484910198017, 2.520406105420025, 2.304877866993346, 2.0792713781128356, 2.5709848574759047, 2.602389401828295, 2.6425975366556713, 2.545776255421515, 2.0503725728816327, 2.328471922147132, 2.0889290027998992, 2.022339202680462, 2.803991492105929, 2.375843768275892, 2.1032915429098953, 2.5569290704054337, 2.133791859652982, 2.3776834954489865, 2.8565777022000303, 2.2426148808800246, 2.476806692137493, 2.4487373914613233, 2.8244428044507512, 2.869268728292226, 2.8827077126787963, 2.6607594438252486, 2.5101295613126027, 2.73437015661925, 2.42701997627363, 2.4913156879440224, 2.714762489390344, 2.621567116090608, 2.5580779892969323, 2.663784372514074, 2.335618576693599, 2.0592637075569042, 2.202806578295381, 2.2192293543254547, 2.8036572847312358, 2.072445847620958, 2.1203698874169636, 2.717774919837817, 2.2540380396007005, 2.4884541072918895, 2.507381355793314, 2.018431214831785, 2.640926334291252, 2.3188298999347823, 2.827735615607517, 2.5558025831615803, 2.2902818382525894, 2.029843017724997, 2.8078852638756855, 2.228584220524089]\n",
      "samples : 100\n",
      "features : 2\n",
      "vector x converted : [[1.6751926603123537, 1.7401221981837116], [1.0431635357776905, 1.343357784004101], [1.4386214887859736, 1.1613001188313006], [1.2976190515170452, 1.8663366401352277], [1.5013515351463016, 1.2982270919688563], [1.4335332303231167, 1.8878473454249245], [1.5355675191062472, 1.3959908902045541], [1.2736837803373537, 1.5956606529114201], [1.360288462948994, 1.4041967054897988], [1.6136919096790094, 1.7242293735306449], [1.379550410140089, 1.3559353990593221], [1.2293972937607731, 1.2650685642398982], [1.1509322897946874, 1.489711144726282], [1.5223784609362263, 1.5471813723595431], [1.1409401711223324, 1.7016952588004632], [1.8319158358397905, 1.7400331413441732], [1.0337735476797703, 1.0910305665916193], [1.4606160439684737, 1.6216560173119452], [1.3847075801316886, 1.507815821235932], [1.0159226936101298, 1.168928324826254], [1.5402766785142328, 1.717624306859229], [1.082648172175606, 1.3742547336606106], [1.063095563002346, 1.1980474498453015], [1.8560204067308876, 1.7178096186714042], [1.596192537953701, 1.5364023163442164], [1.3381231874189925, 1.5297980953984398], [1.3150524690670617, 1.2832634666658445], [1.6236369434582278, 1.393469659019738], [1.8234149684111622, 1.797698311806187], [1.4683843961464753, 1.4438631117222043], [1.469117267439764, 1.7980344469237952], [1.367085466356834, 1.5839049502929994], [1.3212764307238005, 1.3436799834012925], [1.334424924559817, 1.041689629787798], [1.6383095242730439, 1.0557787939810133], [1.088074399811627, 1.3584652261432946], [1.876992929469704, 1.3308312800259974], [1.1949177336338423, 1.3944120589995985], [1.0567946643095107, 1.3578421491585173], [1.575298537032976, 1.6888490523531154], [1.0981926720290778, 1.734051490198182], [1.163060873231565, 1.4972721364762638], [1.3266508678822526, 1.2577982799098892], [1.0653399048928778, 1.5537902977814997], [1.88956693060875, 1.6745889772278946], [1.6000295019345379, 1.054242737388914], [1.701134817728589, 1.5939366261461556], [1.5511225342295627, 1.423170235929384], [1.6070905557980246, 1.0619268592392268], [1.843850031798556, 1.483807394908052], [2.3559499736689653, 2.3006795970185525], [2.672722515918567, 2.132211301412109], [2.5323115646377854, 2.019767549942115], [2.7470587199805214, 2.0655431705348946], [2.431907999189965, 2.671291179722694], [2.045451298297273, 2.5484213817350465], [2.823306205493052, 2.0985050804505567], [2.041331639748392, 2.8867859771561357], [2.272430444596843, 2.3641814181696335], [2.4308072085557053, 2.7737323718967506], [2.6027829588820777, 2.8284912358977428], [2.5878619141393258, 2.2569002683669344], [2.3578281640275986, 2.8987759436832827], [2.3680084534653263, 2.4391363189294717], [2.088182855632556, 2.782643414215861], [2.6745494665861713, 2.6682623528117264], [2.236855985144838, 2.204383414791006], [2.4290117776728923, 2.7694076570955817], [2.6193781782393395, 2.557748859362887], [2.0029522931886716, 2.719880251951536], [2.1142287398091186, 2.009947078595487], [2.0871881678217425, 2.746849772032585], [2.754142395861937, 2.323155023414226], [2.3516484910198017, 2.520406105420025], [2.304877866993346, 2.0792713781128356], [2.5709848574759047, 2.602389401828295], [2.6425975366556713, 2.545776255421515], [2.0503725728816327, 2.328471922147132], [2.0889290027998992, 2.022339202680462], [2.803991492105929, 2.375843768275892], [2.1032915429098953, 2.5569290704054337], [2.133791859652982, 2.3776834954489865], [2.8565777022000303, 2.2426148808800246], [2.476806692137493, 2.4487373914613233], [2.8244428044507512, 2.869268728292226], [2.8827077126787963, 2.6607594438252486], [2.5101295613126027, 2.73437015661925], [2.42701997627363, 2.4913156879440224], [2.714762489390344, 2.621567116090608], [2.5580779892969323, 2.663784372514074], [2.335618576693599, 2.0592637075569042], [2.202806578295381, 2.2192293543254547], [2.8036572847312358, 2.072445847620958], [2.1203698874169636, 2.717774919837817], [2.2540380396007005, 2.4884541072918895], [2.507381355793314, 2.018431214831785], [2.640926334291252, 2.3188298999347823], [2.827735615607517, 2.5558025831615803], [2.2902818382525894, 2.029843017724997], [2.8078852638756855, 2.228584220524089]]\n"
     ]
    }
   ],
   "source": [
    "n_samples_new = x_train.shape[0]\n",
    "predictions = np.zeros(n_samples_new, dtype=np.float64)\n",
    "\n",
    "linear_model.LM_predict(\n",
    "    model,\n",
    "    x_train_flatten,\n",
    "    n_samples_new,\n",
    "    n_features,\n",
    "    predictions\n",
    ")\n",
    "print(\"---------------------------------------------------------------\")\n",
    "print(predictions)\n",
    "print(\"---------------------------------------------------------------\")"
   ]
  },
  {
   "cell_type": "code",
   "execution_count": null,
   "metadata": {},
   "outputs": [],
   "source": [
    "linear_model.LM_free(model)"
   ]
  }
 ],
 "metadata": {
  "kernelspec": {
   "display_name": "PA",
   "language": "python",
   "name": "python3"
  },
  "language_info": {
   "codemirror_mode": {
    "name": "ipython",
    "version": 3
   },
   "file_extension": ".py",
   "mimetype": "text/x-python",
   "name": "python",
   "nbconvert_exporter": "python",
   "pygments_lexer": "ipython3",
   "version": "3.1.undefined"
  }
 },
 "nbformat": 4,
 "nbformat_minor": 2
}
