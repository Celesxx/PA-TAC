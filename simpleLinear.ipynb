{
 "cells": [
  {
   "cell_type": "code",
   "execution_count": 1,
   "metadata": {},
   "outputs": [],
   "source": [
    "import ctypes\n",
    "import numpy as np\n",
    "import matplotlib.pyplot as plt\n",
    "from script.plotDisplayLinear import plotDisplay"
   ]
  },
  {
   "cell_type": "code",
   "execution_count": 2,
   "metadata": {},
   "outputs": [],
   "source": [
    "linear_model = ctypes.CDLL(\"modele/linear/target/release/liblinear_classification.so\")\n",
    "\n",
    "linear_model.LM_init.argtypes = [\n",
    "    ctypes.c_double,\n",
    "    np.ctypeslib.ndpointer(dtype=np.float64, ndim=1, flags='C_CONTIGUOUS'),\n",
    "    ctypes.c_size_t,\n",
    "    ctypes.c_double,\n",
    "    ctypes.c_char\n",
    "]\n",
    "linear_model.LM_init.restype = ctypes.POINTER(ctypes.c_void_p)\n",
    "\n",
    "linear_model.LM_free.argtypes = [ctypes.POINTER(ctypes.c_void_p)]\n",
    "\n",
    "linear_model.LM_train.argtypes = [\n",
    "    ctypes.POINTER(ctypes.c_void_p),\n",
    "    np.ctypeslib.ndpointer(dtype=np.float64, ndim=1, flags='C_CONTIGUOUS'),\n",
    "    np.ctypeslib.ndpointer(dtype=np.float64, ndim=1, flags='C_CONTIGUOUS'),\n",
    "    ctypes.c_size_t,\n",
    "    ctypes.c_size_t,\n",
    "    ctypes.c_size_t\n",
    "]\n",
    "\n",
    "linear_model.LM_predict.argtypes = [\n",
    "    ctypes.POINTER(ctypes.c_void_p),\n",
    "    np.ctypeslib.ndpointer(dtype=np.float64, ndim=1, flags='C_CONTIGUOUS'),\n",
    "    ctypes.c_size_t,\n",
    "    ctypes.c_size_t,\n",
    "    np.ctypeslib.ndpointer(dtype=np.float64, ndim=1, flags='C_CONTIGUOUS')\n",
    "]"
   ]
  },
  {
   "cell_type": "markdown",
   "metadata": {},
   "source": [
    "## Xor test"
   ]
  },
  {
   "cell_type": "markdown",
   "metadata": {},
   "source": [
    "### Parameters"
   ]
  },
  {
   "cell_type": "code",
   "execution_count": 3,
   "metadata": {},
   "outputs": [],
   "source": [
    "learning_rate = 0.001\n",
    "weights = np.array([0.1, -0.2, 0.3, -0.4], dtype=np.float64, order='C')\n",
    "bias = 0.1\n",
    "epochs = 1000000\n",
    "activation = b't'\n",
    "# Initialisation du modèle\n",
    "model = linear_model.LM_init(learning_rate, weights, weights.size, bias, activation)"
   ]
  },
  {
   "cell_type": "code",
   "execution_count": 4,
   "metadata": {},
   "outputs": [
    {
     "name": "stdout",
     "output_type": "stream",
     "text": [
      "flatten vector [[0. 0.]\n",
      " [0. 1.]\n",
      " [1. 0.]\n",
      " [1. 1.]]\n"
     ]
    },
    {
     "data": {
      "image/png": "[encoded data removed]",
      "text/plain": [
       "<Figure size 640x480 with 1 Axes>"
      ]
     },
     "metadata": {},
     "output_type": "display_data"
    },
    {
     "data": {
      "text/plain": [
       "<Figure size 640x480 with 0 Axes>"
      ]
     },
     "metadata": {},
     "output_type": "display_data"
    }
   ],
   "source": [
    "# XOR test\n",
    "\n",
    "x_train = np.array([\n",
    "    [0.0, 0.0],\n",
    "    [0.0, 1.0],\n",
    "    [1.0, 0.0],\n",
    "    [1.0, 1.0],\n",
    "], dtype=np.float64)\n",
    "x_train_flatten = x_train.flatten()\n",
    "y_train = np.array([-1.0, 1.0, 1.0, -1.0], dtype=np.float64, order='C')\n",
    "n_samples, n_features = 4, 1\n",
    "# n_samples, n_features = x_train.shape[0], x_train.shape[1]\n",
    "\n",
    "print(f\"flatten vector {x_train}\")\n",
    "plt.scatter(x_train[0, 0], x_train[0, 1], color='blue')\n",
    "plt.scatter(x_train[1:4,0], x_train[1:4,1], color='red')\n",
    "plt.show()\n",
    "plt.clf()"
   ]
  },
  {
   "cell_type": "code",
   "execution_count": 5,
   "metadata": {},
   "outputs": [
    {
     "name": "stdout",
     "output_type": "stream",
     "text": [
      "vector x : [[0.0], [0.0], [0.0], [1.0]]\n",
      "vector y : [-1.0, 1.0, 1.0, -1.0]\n",
      "Training completed\n"
     ]
    },
    {
     "data": {
      "text/plain": [
       "0"
      ]
     },
     "execution_count": 5,
     "metadata": {},
     "output_type": "execute_result"
    }
   ],
   "source": [
    "linear_model.LM_train(model, x_train_flatten, y_train, n_samples, n_features, epochs)"
   ]
  },
  {
   "cell_type": "code",
   "execution_count": 6,
   "metadata": {},
   "outputs": [
    {
     "name": "stdout",
     "output_type": "stream",
     "text": [
      "---------------\n",
      "[-0.42 -0.42 -0.42 -0.42]\n",
      "---------------\n",
      "vector x : [0.0, 0.0, 0.0, 1.0]\n",
      "samples : 4\n",
      "features : 1\n",
      "vector x converted : [[0.0], [0.0], [0.0], [1.0]]\n"
     ]
    }
   ],
   "source": [
    "predictions = np.zeros(n_samples, dtype=np.float64)\n",
    "\n",
    "linear_model.LM_predict(\n",
    "    model,\n",
    "    x_train_flatten,\n",
    "    n_samples,\n",
    "    n_features,\n",
    "    predictions\n",
    ")\n",
    "\n",
    "print(\"---------------\")\n",
    "print(predictions)\n",
    "print(\"---------------\")\n",
    "\n",
    "\n"
   ]
  },
  {
   "cell_type": "code",
   "execution_count": 7,
   "metadata": {},
   "outputs": [
    {
     "data": {
      "text/plain": [
       "0"
      ]
     },
     "execution_count": 7,
     "metadata": {},
     "output_type": "execute_result"
    }
   ],
   "source": [
    "linear_model.LM_free(model)"
   ]
  },
  {
   "cell_type": "markdown",
   "metadata": {},
   "source": [
    "## simple linear test"
   ]
  },
  {
   "cell_type": "code",
   "execution_count": 8,
   "metadata": {},
   "outputs": [],
   "source": [
    "learning_rate = 0.01\n",
    "weights = np.array([0.1, -0.2, 0.3, -0.4], dtype=np.float64, order='C')\n",
    "bias = 0.5\n",
    "epochs = 1000000\n",
    "activation = b't'\n",
    "# Initialisation du modèle\n",
    "model = linear_model.LM_init(learning_rate, weights, weights.size, bias, activation)"
   ]
  },
  {
   "cell_type": "code",
   "execution_count": 9,
   "metadata": {},
   "outputs": [
    {
     "name": "stdout",
     "output_type": "stream",
     "text": [
      "flatten vector [[1. 1.]\n",
      " [2. 3.]\n",
      " [3. 3.]]\n"
     ]
    }
   ],
   "source": [
    "x_train = np.array([\n",
    "    [1.0, 1.0],\n",
    "    [2.0, 3.0],\n",
    "    [3.0, 3.0]\n",
    "], dtype=np.float64)\n",
    "x_train_flatten = x_train.flatten()\n",
    "y_train = np.array([1.0, -1.0, -1.0], dtype=np.float64, order='C')\n",
    "n_samples, n_features = 3, 2\n",
    "\n",
    "print(f\"flatten vector {x_train}\")\n",
    "# plt.scatter(x_train[0, 0], x_train[0, 1], color='blue')\n",
    "# plt.scatter(x_train[1:4,0], x_train[1:4,1], color='red')\n",
    "# plt.show()\n",
    "# plt.clf()"
   ]
  },
  {
   "cell_type": "code",
   "execution_count": 10,
   "metadata": {},
   "outputs": [
    {
     "name": "stdout",
     "output_type": "stream",
     "text": [
      "vector x : [[1.0, 1.0], [2.0, 3.0], [3.0, 3.0]]\n",
      "vector y : [1.0, -1.0, -1.0]\n",
      "Training completed\n"
     ]
    },
    {
     "data": {
      "text/plain": [
       "0"
      ]
     },
     "execution_count": 10,
     "metadata": {},
     "output_type": "execute_result"
    }
   ],
   "source": [
    "linear_model.LM_train(model, x_train_flatten, y_train, n_samples, n_features, epochs)"
   ]
  },
  {
   "cell_type": "code",
   "execution_count": 11,
   "metadata": {},
   "outputs": [
    {
     "name": "stdout",
     "output_type": "stream",
     "text": [
      "[-0.42 -0.42 -0.42]\n",
      "vector x : [1.0, 1.0, 2.0, 3.0, 3.0, 3.0]\n",
      "samples : 3\n",
      "features : 2\n",
      "vector x converted : [[1.0, 1.0], [2.0, 3.0], [3.0, 3.0]]\n"
     ]
    }
   ],
   "source": [
    "n_samples_new = x_train.shape[0]\n",
    "predictions = np.zeros(n_samples_new, dtype=np.float64)\n",
    "\n",
    "linear_model.LM_predict(\n",
    "    model,\n",
    "    x_train_flatten,\n",
    "    n_samples_new,\n",
    "    n_features,\n",
    "    predictions\n",
    ")\n",
    "\n",
    "print(predictions)\n",
    "\n",
    "# y_train = y_train.reshape(-1, 1)\n",
    "\n",
    "# plotDisplay(x_train, y_train, model, linear_model, n_features)"
   ]
  },
  {
   "cell_type": "code",
   "execution_count": 12,
   "metadata": {},
   "outputs": [
    {
     "data": {
      "text/plain": [
       "0"
      ]
     },
     "execution_count": 12,
     "metadata": {},
     "output_type": "execute_result"
    }
   ],
   "source": [
    "linear_model.LM_free(model)"
   ]
  },
  {
   "cell_type": "markdown",
   "metadata": {},
   "source": [
    "# test nuage point "
   ]
  },
  {
   "cell_type": "code",
   "execution_count": 13,
   "metadata": {},
   "outputs": [],
   "source": [
    "learning_rate = 0.01\n",
    "weights = np.array([0.1, -0.4, 0.6, -0.24], dtype=np.float64, order='C')\n",
    "bias = 0.2\n",
    "epochs = 1000000\n",
    "activation = b't'\n",
    "n_samples, n_features = 100, 2\n",
    "# Initialisation du modèle\n",
    "model = linear_model.LM_init(learning_rate, weights, weights.size, bias, activation)"
   ]
  },
  {
   "cell_type": "code",
   "execution_count": 14,
   "metadata": {},
   "outputs": [
    {
     "data": {
      "image/png": "[encoded data removed]",
      "text/plain": [
       "<Figure size 640x480 with 1 Axes>"
      ]
     },
     "metadata": {},
     "output_type": "display_data"
    },
    {
     "data": {
      "text/plain": [
       "<Figure size 640x480 with 0 Axes>"
      ]
     },
     "metadata": {},
     "output_type": "display_data"
    }
   ],
   "source": [
    "x_train = np.concatenate([np.random.random((50,2)) * 0.9 + np.array([1, 1]), np.random.random((50,2)) * 0.9 + np.array([2, 2])])\n",
    "x_train_flatten = x_train.flatten()\n",
    "y_train = np.concatenate([np.ones((50, 1)), np.ones((50, 1)) * -1.0]).flatten()\n",
    "# print(y_train)\n",
    "plt.scatter(x_train[0:50, 0], x_train[0:50, 1], color='blue')\n",
    "plt.scatter(x_train[50:100,0], x_train[50:100,1], color='red')\n",
    "plt.show()\n",
    "plt.clf()"
   ]
  },
  {
   "cell_type": "code",
   "execution_count": 15,
   "metadata": {},
   "outputs": [
    {
     "name": "stdout",
     "output_type": "stream",
     "text": [
      "vector x : [[1.5086577463284057, 1.3333035711626113], [1.2182808330077994, 1.4024221460253758], [1.4312971277785356, 1.8482646726731264], [1.8271469405696306, 1.4291097189733888], [1.8251366004712064, 1.8985163165237455], [1.2034190200750436, 1.3436691397575997], [1.5982774616672826, 1.2991143547246937], [1.6011334003168116, 1.3863525315387224], [1.8541884282213545, 1.012844624125693], [1.7995096410396734, 1.813640041645968], [1.1461019156605063, 1.5851394459223989], [1.2762252547567812, 1.0173114843772884], [1.2305220469865676, 1.3749739503570533], [1.841122760182024, 1.7265252194412106], [1.2476620915188676, 1.340459040070994], [1.091044661506809, 1.57571815588563], [1.8434779424334844, 1.7635169260785297], [1.447135399792735, 1.2025383519182056], [1.0364185259796586, 1.6959513096396597], [1.3783588045135056, 1.3318307175939117], [1.6993141646839505, 1.046753186752468], [1.7257849103778937, 1.3455639150791494], [1.282347183222686, 1.2005766886054499], [1.0162363726647432, 1.6470387240796547], [1.2374210657755829, 1.4794431825911556], [1.1118940562297561, 1.1242942937827642], [1.378043949800014, 1.509370460056759], [1.3052304291713337, 1.6741040855314173], [1.0088382789695394, 1.5324534096030156], [1.3807667288897296, 1.8488615838520963], [1.2568783197380349, 1.8447009170183202], [1.5354290768089065, 1.1199690312034876], [1.4637485087584743, 1.77444188787302], [1.188142648751068, 1.6497481512528602], [1.7288071768387034, 1.438741615006537], [1.4907946473448095, 1.5641147946846674], [1.8064718585208137, 1.2296682147176716], [1.7631051503236543, 1.6955748639300112], [1.8073180194749539, 1.3869381771643576], [1.3793588388700533, 1.1012242054932928], [1.5782174284229349, 1.1126565305399887], [1.6670792851831533, 1.3063671613315795], [1.8048340549592172, 1.3376634944562702], [1.6023560663672083, 1.2479140552449624], [1.2509265312165436, 1.559389040142337], [1.8235925136447069, 1.1890498377612408], [1.1343772208795593, 1.4162279533300208], [1.6167943720371252, 1.433561753011121], [1.3515775488643857, 1.2275811343594003], [1.7945167244007993, 1.402535321892759], [2.270957965378766, 2.3896717329097017], [2.3393762838720313, 2.8165241022023886], [2.222721632193068, 2.307053370398863], [2.149872135811644, 2.113191844005705], [2.4924730774952444, 2.855585164173943], [2.8752559732351983, 2.4172596149122025], [2.1537059154995872, 2.1133527303542134], [2.1333150164778543, 2.4299247807930535], [2.194095379610763, 2.431762030447335], [2.239743236420984, 2.6017943476188177], [2.2640574264215245, 2.6240873133588183], [2.2527078315436206, 2.08016488725714], [2.669582404488938, 2.8589534484076427], [2.839929591471811, 2.3407013849184044], [2.89535475605844, 2.8927480016052596], [2.629116776502711, 2.0059318991530213], [2.7555960259088708, 2.238042585399378], [2.431878198613967, 2.4549540737490556], [2.8890236705718224, 2.6893687131642734], [2.523358228788517, 2.397670202980212], [2.8514245742821647, 2.6172128384321023], [2.8325469453586103, 2.1048523626158753], [2.5850814347719164, 2.0562423271396266], [2.0418102076088727, 2.7653071275178314], [2.124009276739754, 2.8578478293825427], [2.1517814682593723, 2.166155695794806], [2.502404744523277, 2.60088622918034], [2.4207026387357238, 2.071775358504376], [2.524605827192638, 2.1579195898872965], [2.877944471095088, 2.8398649647373984], [2.235369476083248, 2.59223200578513], [2.5655408513985467, 2.7699484924821296], [2.0941077434118682, 2.8286039004912307], [2.881161219478705, 2.3086406406628797], [2.367418815533479, 2.396275126686112], [2.5319996642904417, 2.660135936333683], [2.5704637775413746, 2.8234191817499266], [2.4458002027769377, 2.3593678181120996], [2.1346988713253356, 2.1223752037979726], [2.175825664310944, 2.5162551095412162], [2.774204608817505, 2.828213410191588], [2.1349400329302286, 2.803017468816373], [2.499032377925003, 2.5538501009417867], [2.5147723453926467, 2.4515602533275302], [2.026923170756571, 2.1238179088727227], [2.5387151711056104, 2.7800385283665126], [2.5507933847383257, 2.8073041167783996], [2.4212714105484845, 2.7443302143484827], [2.499368654440757, 2.5677961742038584], [2.189151160486317, 2.8662478139075516]]\n",
      "vector y : [1.0, 1.0, 1.0, 1.0, 1.0, 1.0, 1.0, 1.0, 1.0, 1.0, 1.0, 1.0, 1.0, 1.0, 1.0, 1.0, 1.0, 1.0, 1.0, 1.0, 1.0, 1.0, 1.0, 1.0, 1.0, 1.0, 1.0, 1.0, 1.0, 1.0, 1.0, 1.0, 1.0, 1.0, 1.0, 1.0, 1.0, 1.0, 1.0, 1.0, 1.0, 1.0, 1.0, 1.0, 1.0, 1.0, 1.0, 1.0, 1.0, 1.0, -1.0, -1.0, -1.0, -1.0, -1.0, -1.0, -1.0, -1.0, -1.0, -1.0, -1.0, -1.0, -1.0, -1.0, -1.0, -1.0, -1.0, -1.0, -1.0, -1.0, -1.0, -1.0, -1.0, -1.0, -1.0, -1.0, -1.0, -1.0, -1.0, -1.0, -1.0, -1.0, -1.0, -1.0, -1.0, -1.0, -1.0, -1.0, -1.0, -1.0, -1.0, -1.0, -1.0, -1.0, -1.0, -1.0, -1.0, -1.0, -1.0, -1.0]\n",
      "Training completed\n"
     ]
    },
    {
     "data": {
      "text/plain": [
       "0"
      ]
     },
     "execution_count": 15,
     "metadata": {},
     "output_type": "execute_result"
    }
   ],
   "source": [
    "linear_model.LM_train(model, x_train_flatten, y_train, n_samples, n_features, epochs)"
   ]
  },
  {
   "cell_type": "code",
   "execution_count": 16,
   "metadata": {},
   "outputs": [
    {
     "name": "stdout",
     "output_type": "stream",
     "text": [
      "vector x : [1.5086577463284057, 1.3333035711626113, 1.2182808330077994, 1.4024221460253758, 1.4312971277785356, 1.8482646726731264, 1.8271469405696306, 1.4291097189733888, 1.8251366004712064, 1.8985163165237455, 1.2034190200750436, 1.3436691397575997, 1.5982774616672826, 1.2991143547246937, 1.6011334003168116, 1.3863525315387224, 1.8541884282213545, 1.012844624125693, 1.7995096410396734, 1.813640041645968, 1.1461019156605063, 1.5851394459223989, 1.2762252547567812, 1.0173114843772884, 1.2305220469865676, 1.3749739503570533, 1.841122760182024, 1.7265252194412106, 1.2476620915188676, 1.340459040070994, 1.091044661506809, 1.57571815588563, 1.8434779424334844, 1.7635169260785297, 1.447135399792735, 1.2025383519182056, 1.0364185259796586, 1.6959513096396597, 1.3783588045135056, 1.3318307175939117, 1.6993141646839505, 1.046753186752468, 1.7257849103778937, 1.3455639150791494, 1.282347183222686, 1.2005766886054499, 1.0162363726647432, 1.6470387240796547, 1.2374210657755829, 1.4794431825911556---------------------------------------------------------------\n",
      "[-0.42 -0.42 -0.42 -0.42 -0.42 -0.42 -0.42 -0.42 -0.42 -0.42 -0.42 -0.42\n",
      " -0.42 -0.42 -0.42 -0.42 -0.42 -0.42 -0.42 -0.42 -0.42 -0.42 -0.42 -0.42\n",
      " -0.42 -0.42 -0.42 -0.42 -0.42 -0.42 -0.42 -0.42 -0.42 -0.42 -0.42 -0.42\n",
      " -0.42 -0.42 -0.42 -0.42 -0.42 -0.42 -0.42 -0.42 -0.42 -0.42 -0.42 -0.42\n",
      " -0.42 -0.42 -0.42 -0.42 -0.42 -0.42 -0.42 -0.42 -0.42 -0.42 -0.42 -0.42\n",
      " -0.42 -0.42 -0.42 -0.42 -0.42 -0.42 -0.42 -0.42 -0.42 -0.42 -0.42 -0.42\n",
      " -0.42 -0.42 -0.42 -0.42 -0.42 -0.42 -0.42 -0.42 -0.42 -0.42 -0.42 -0.42\n",
      " -0.42 -0.42 -0.42 -0.42 -0.42 -0.42 -0.42 -0.42 -0.42 -0.42 -0.42 -0.42\n",
      " -0.42 -0.42 -0.42 -0.42]\n",
      "---------------------------------------------------------------\n",
      ", 1.1118940562297561, 1.1242942937827642, 1.378043949800014, 1.509370460056759, 1.3052304291713337, 1.6741040855314173, 1.0088382789695394, 1.5324534096030156, 1.3807667288897296, 1.8488615838520963, 1.2568783197380349, 1.8447009170183202, 1.5354290768089065, 1.1199690312034876, 1.4637485087584743, 1.77444188787302, 1.188142648751068, 1.6497481512528602, 1.7288071768387034, 1.438741615006537, 1.4907946473448095, 1.5641147946846674, 1.8064718585208137, 1.2296682147176716, 1.7631051503236543, 1.6955748639300112, 1.8073180194749539, 1.3869381771643576, 1.3793588388700533, 1.1012242054932928, 1.5782174284229349, 1.1126565305399887, 1.6670792851831533, 1.3063671613315795, 1.8048340549592172, 1.3376634944562702, 1.6023560663672083, 1.2479140552449624, 1.2509265312165436, 1.559389040142337, 1.8235925136447069, 1.1890498377612408, 1.1343772208795593, 1.4162279533300208, 1.6167943720371252, 1.433561753011121, 1.3515775488643857, 1.2275811343594003, 1.7945167244007993, 1.402535321892759, 2.270957965378766, 2.3896717329097017, 2.3393762838720313, 2.8165241022023886, 2.222721632193068, 2.307053370398863, 2.149872135811644, 2.113191844005705, 2.4924730774952444, 2.855585164173943, 2.8752559732351983, 2.4172596149122025, 2.1537059154995872, 2.1133527303542134, 2.1333150164778543, 2.4299247807930535, 2.194095379610763, 2.431762030447335, 2.239743236420984, 2.6017943476188177, 2.2640574264215245, 2.6240873133588183, 2.2527078315436206, 2.08016488725714, 2.669582404488938, 2.8589534484076427, 2.839929591471811, 2.3407013849184044, 2.89535475605844, 2.8927480016052596, 2.629116776502711, 2.0059318991530213, 2.7555960259088708, 2.238042585399378, 2.431878198613967, 2.4549540737490556, 2.8890236705718224, 2.6893687131642734, 2.523358228788517, 2.397670202980212, 2.8514245742821647, 2.6172128384321023, 2.8325469453586103, 2.1048523626158753, 2.5850814347719164, 2.0562423271396266, 2.0418102076088727, 2.7653071275178314, 2.124009276739754, 2.8578478293825427, 2.1517814682593723, 2.166155695794806, 2.502404744523277, 2.60088622918034, 2.4207026387357238, 2.071775358504376, 2.524605827192638, 2.1579195898872965, 2.877944471095088, 2.8398649647373984, 2.235369476083248, 2.59223200578513, 2.5655408513985467, 2.7699484924821296, 2.0941077434118682, 2.8286039004912307, 2.881161219478705, 2.3086406406628797, 2.367418815533479, 2.396275126686112, 2.5319996642904417, 2.660135936333683, 2.5704637775413746, 2.8234191817499266, 2.4458002027769377, 2.3593678181120996, 2.1346988713253356, 2.1223752037979726, 2.175825664310944, 2.5162551095412162, 2.774204608817505, 2.828213410191588, 2.1349400329302286, 2.803017468816373, 2.499032377925003, 2.5538501009417867, 2.5147723453926467, 2.4515602533275302, 2.026923170756571, 2.1238179088727227, 2.5387151711056104, 2.7800385283665126, 2.5507933847383257, 2.8073041167783996, 2.4212714105484845, 2.7443302143484827, 2.499368654440757, 2.5677961742038584, 2.189151160486317, 2.8662478139075516]\n",
      "samples : 100\n",
      "features : 2\n",
      "vector x converted : [[1.5086577463284057, 1.3333035711626113], [1.2182808330077994, 1.4024221460253758], [1.4312971277785356, 1.8482646726731264], [1.8271469405696306, 1.4291097189733888], [1.8251366004712064, 1.8985163165237455], [1.2034190200750436, 1.3436691397575997], [1.5982774616672826, 1.2991143547246937], [1.6011334003168116, 1.3863525315387224], [1.8541884282213545, 1.012844624125693], [1.7995096410396734, 1.813640041645968], [1.1461019156605063, 1.5851394459223989], [1.2762252547567812, 1.0173114843772884], [1.2305220469865676, 1.3749739503570533], [1.841122760182024, 1.7265252194412106], [1.2476620915188676, 1.340459040070994], [1.091044661506809, 1.57571815588563], [1.8434779424334844, 1.7635169260785297], [1.447135399792735, 1.2025383519182056], [1.0364185259796586, 1.6959513096396597], [1.3783588045135056, 1.3318307175939117], [1.6993141646839505, 1.046753186752468], [1.7257849103778937, 1.3455639150791494], [1.282347183222686, 1.2005766886054499], [1.0162363726647432, 1.6470387240796547], [1.2374210657755829, 1.4794431825911556], [1.1118940562297561, 1.1242942937827642], [1.378043949800014, 1.509370460056759], [1.3052304291713337, 1.6741040855314173], [1.0088382789695394, 1.5324534096030156], [1.3807667288897296, 1.8488615838520963], [1.2568783197380349, 1.8447009170183202], [1.5354290768089065, 1.1199690312034876], [1.4637485087584743, 1.77444188787302], [1.188142648751068, 1.6497481512528602], [1.7288071768387034, 1.438741615006537], [1.4907946473448095, 1.5641147946846674], [1.8064718585208137, 1.2296682147176716], [1.7631051503236543, 1.6955748639300112], [1.8073180194749539, 1.3869381771643576], [1.3793588388700533, 1.1012242054932928], [1.5782174284229349, 1.1126565305399887], [1.6670792851831533, 1.3063671613315795], [1.8048340549592172, 1.3376634944562702], [1.6023560663672083, 1.2479140552449624], [1.2509265312165436, 1.559389040142337], [1.8235925136447069, 1.1890498377612408], [1.1343772208795593, 1.4162279533300208], [1.6167943720371252, 1.433561753011121], [1.3515775488643857, 1.2275811343594003], [1.7945167244007993, 1.402535321892759], [2.270957965378766, 2.3896717329097017], [2.3393762838720313, 2.8165241022023886], [2.222721632193068, 2.307053370398863], [2.149872135811644, 2.113191844005705], [2.4924730774952444, 2.855585164173943], [2.8752559732351983, 2.4172596149122025], [2.1537059154995872, 2.1133527303542134], [2.1333150164778543, 2.4299247807930535], [2.194095379610763, 2.431762030447335], [2.239743236420984, 2.6017943476188177], [2.2640574264215245, 2.6240873133588183], [2.2527078315436206, 2.08016488725714], [2.669582404488938, 2.8589534484076427], [2.839929591471811, 2.3407013849184044], [2.89535475605844, 2.8927480016052596], [2.629116776502711, 2.0059318991530213], [2.7555960259088708, 2.238042585399378], [2.431878198613967, 2.4549540737490556], [2.8890236705718224, 2.6893687131642734], [2.523358228788517, 2.397670202980212], [2.8514245742821647, 2.6172128384321023], [2.8325469453586103, 2.1048523626158753], [2.5850814347719164, 2.0562423271396266], [2.0418102076088727, 2.7653071275178314], [2.124009276739754, 2.8578478293825427], [2.1517814682593723, 2.166155695794806], [2.502404744523277, 2.60088622918034], [2.4207026387357238, 2.071775358504376], [2.524605827192638, 2.1579195898872965], [2.877944471095088, 2.8398649647373984], [2.235369476083248, 2.59223200578513], [2.5655408513985467, 2.7699484924821296], [2.0941077434118682, 2.8286039004912307], [2.881161219478705, 2.3086406406628797], [2.367418815533479, 2.396275126686112], [2.5319996642904417, 2.660135936333683], [2.5704637775413746, 2.8234191817499266], [2.4458002027769377, 2.3593678181120996], [2.1346988713253356, 2.1223752037979726], [2.175825664310944, 2.5162551095412162], [2.774204608817505, 2.828213410191588], [2.1349400329302286, 2.803017468816373], [2.499032377925003, 2.5538501009417867], [2.5147723453926467, 2.4515602533275302], [2.026923170756571, 2.1238179088727227], [2.5387151711056104, 2.7800385283665126], [2.5507933847383257, 2.8073041167783996], [2.4212714105484845, 2.7443302143484827], [2.499368654440757, 2.5677961742038584], [2.189151160486317, 2.8662478139075516]]\n"
     ]
    }
   ],
   "source": [
    "n_samples_new = x_train.shape[0]\n",
    "predictions = np.zeros(n_samples_new, dtype=np.float64)\n",
    "\n",
    "linear_model.LM_predict(\n",
    "    model,\n",
    "    x_train_flatten,\n",
    "    n_samples_new,\n",
    "    n_features,\n",
    "    predictions\n",
    ")\n",
    "print(\"---------------------------------------------------------------\")\n",
    "print(predictions)\n",
    "print(\"---------------------------------------------------------------\")"
   ]
  },
  {
   "cell_type": "code",
   "execution_count": 17,
   "metadata": {},
   "outputs": [
    {
     "data": {
      "text/plain": [
       "0"
      ]
     },
     "execution_count": 17,
     "metadata": {},
     "output_type": "execute_result"
    }
   ],
   "source": [
    "linear_model.LM_free(model)"
   ]
  }
 ],
 "metadata": {
  "kernelspec": {
   "display_name": "PA",
   "language": "python",
   "name": "python3"
  },
  "language_info": {
   "codemirror_mode": {
    "name": "ipython",
    "version": 3
   },
   "file_extension": ".py",
   "mimetype": "text/x-python",
   "name": "python",
   "nbconvert_exporter": "python",
   "pygments_lexer": "ipython3",
   "version": "3.12.2"
  }
 },
 "nbformat": 4,
 "nbformat_minor": 2
}
