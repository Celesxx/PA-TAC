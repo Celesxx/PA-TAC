{
 "cells": [
  {
   "cell_type": "code",
   "execution_count": null,
   "metadata": {},
   "outputs": [],
   "source": [
    "losses = []\n",
    "for epoch in range(1000):\n",
    "    epoch_loss = 0.0\n",
    "    for x, y in zip(X_train, y_train):\n",
    "        activations_ptr = mlp_model.mlpForward(\n",
    "            nn,\n",
    "            x.ctypes.data_as(ctypes.POINTER(ctypes.c_double)),\n",
    "            x.size,\n",
    "            True\n",
    "        )\n",
    "        activations = np.ctypeslib.as_array(activations_ptr, shape=(1,))\n",
    "\n",
    "        loss = mlp_model.mlpBackward(\n",
    "            nn,\n",
    "            activations.ctypes.data_as(ctypes.POINTER(ctypes.c_double)),\n",
    "            y.ctypes.data_as(ctypes.POINTER(ctypes.c_double)),\n",
    "            len(parameter),\n",
    "            True\n",
    "        )\n",
    "        epoch_loss += loss\n",
    "\n",
    "        mlp_model.mlpUpdateWeights(nn, learning_rate)\n",
    "\n",
    "    losses.append(epoch_loss / len(X_train))\n",
    "\n",
    "plt.plot(losses)\n",
    "plt.xlabel('Epochs')\n",
    "plt.ylabel('Loss')\n",
    "plt.title('Loss over Epochs')\n",
    "plt.show()\n"
   ]
  }
 ],
 "metadata": {
  "language_info": {
   "name": "python"
  }
 },
 "nbformat": 4,
 "nbformat_minor": 2
}
