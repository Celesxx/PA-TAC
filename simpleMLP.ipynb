{
 "cells": [
  {
   "cell_type": "code",
   "execution_count": 1,
   "metadata": {},
   "outputs": [],
   "source": [
    "import ctypes\n",
    "import numpy as np\n",
    "import matplotlib.pyplot as plt\n",
    "from tqdm.notebook import tqdm\n",
    "from script.plotDisplay import plotDisplay"
   ]
  },
  {
   "cell_type": "code",
   "execution_count": 2,
   "metadata": {},
   "outputs": [],
   "source": [
    "mlp_model = ctypes.CDLL(\"modele/mlp/target/release/libmlp_classification.so\")\n",
    "\n",
    "# Définir les types d'arguments et de retour des fonctions C\n",
    "PROGRESS_CALLBACK = ctypes.CFUNCTYPE(None, ctypes.c_int, ctypes.c_double)\n",
    "mlp_model.mlpInit.argtypes = [ctypes.POINTER(ctypes.c_size_t), ctypes.c_size_t, ctypes.c_double]\n",
    "mlp_model.mlpInit.restype = ctypes.c_void_p\n",
    "\n",
    "mlp_model.mlpTrain.argtypes = [\n",
    "    ctypes.c_void_p,\n",
    "    ctypes.POINTER(ctypes.c_double),\n",
    "    ctypes.POINTER(ctypes.c_double),\n",
    "    ctypes.c_size_t,\n",
    "    ctypes.c_size_t,\n",
    "    ctypes.c_size_t,\n",
    "    ctypes.c_size_t,\n",
    "    ctypes.c_size_t,\n",
    "    ctypes.c_bool,\n",
    "    PROGRESS_CALLBACK,\n",
    "    ctypes.c_size_t,\n",
    "    ctypes.c_bool,\n",
    "    ctypes.c_size_t,\n",
    "    ctypes.c_bool,\n",
    "    ctypes.c_char_p  \n",
    "]\n",
    "mlp_model.mlpTrain.restype = None\n",
    "\n",
    "\n",
    "mlp_model.mlpPredict.argtypes = [\n",
    "    ctypes.c_void_p,\n",
    "    ctypes.POINTER(ctypes.c_double),\n",
    "    ctypes.c_size_t,\n",
    "    ctypes.c_bool,\n",
    "    ctypes.POINTER(ctypes.c_double)\n",
    "]\n",
    "mlp_model.mlpPredict.restype = None\n",
    "\n",
    "mlp_model.mlpFree.argtypes = [ctypes.c_void_p]\n",
    "mlp_model.mlpFree.restype = None"
   ]
  },
  {
   "cell_type": "markdown",
   "metadata": {},
   "source": [
    "# First test case"
   ]
  },
  {
   "cell_type": "code",
   "execution_count": 3,
   "metadata": {},
   "outputs": [
    {
     "name": "stdout",
     "output_type": "stream",
     "text": [
      "vecteur [[0. 0.]\n",
      " [0. 1.]\n",
      " [1. 0.]]\n",
      "vecteur (3, 2)\n",
      "layer : 1\n",
      "neural matrix : [NeuralMatrix { matrix: [[-0.29734597933560103, -0.05622324061144557]], bias: [0.0], input_size: 2, output_size: 1 }]\n"
     ]
    }
   ],
   "source": [
    "parameter = np.array([2, 1], dtype=np.uintp)\n",
    "learning_rate = 0.1\n",
    "epochs = 1000000\n",
    "checkpoint_interval = 1000\n",
    "callback_interval = 1000\n",
    "checkpoint_enable = False\n",
    "log_enable = False\n",
    "log_tag = \"simpleTestCase\".encode('utf-8')\n",
    "\n",
    "# tensorboard_dir = \"./log/\"\n",
    "parameter_ptr = parameter.ctypes.data_as(ctypes.POINTER(ctypes.c_size_t))\n",
    "nn = mlp_model.mlpInit(parameter_ptr, parameter.size, learning_rate)\n",
    "\n",
    "X_train = np.array([\n",
    "    [0.0, 0.0],\n",
    "    [0.0, 1.0],\n",
    "    [1.0, 0.0]\n",
    "], dtype=np.float64)\n",
    "\n",
    "y_train = np.array([\n",
    "    [1.0],\n",
    "    [-1.0],\n",
    "    [1.0]\n",
    "], dtype=np.float64)\n",
    "\n",
    "print(f'vecteur {X_train}')\n",
    "print(f'vecteur {X_train.shape}')"
   ]
  },
  {
   "cell_type": "code",
   "execution_count": 4,
   "metadata": {},
   "outputs": [
    {
     "data": {
      "application/vnd.jupyter.widget-view+json": {
       "model_id": "0e649e9fd0344a05b07256d37c25641c",
       "version_major": 2,
       "version_minor": 0
      },
      "text/plain": [
       "Training Progress:   0%|          | 0/1000000 [00:00<?, ?it/s]"
      ]
     },
     "metadata": {},
     "output_type": "display_data"
    }
   ],
   "source": [
    "progress_bar = tqdm(total=epochs, desc=\"Training Progress\")\n",
    "\n",
    "def progress_callback(epochs, loss):\n",
    "    progress_bar.update(callback_interval)\n",
    "    progress_bar.set_postfix(loss=loss)\n",
    "\n",
    "callback_func = PROGRESS_CALLBACK(progress_callback)\n",
    "\n",
    "loss = mlp_model.mlpTrain(\n",
    "    nn,\n",
    "    X_train.ctypes.data_as(ctypes.POINTER(ctypes.c_double)),\n",
    "    y_train.ctypes.data_as(ctypes.POINTER(ctypes.c_double)),\n",
    "    X_train.shape[0],\n",
    "    X_train.shape[1],\n",
    "    1,\n",
    "    epochs,  # Nombre total d'époques\n",
    "    1,\n",
    "    True,  # is_classification\n",
    "    callback_func,  # Fonction de callback\n",
    "    callback_interval,\n",
    "    checkpoint_enable,\n",
    "    callback_interval,\n",
    "    log_enable,\n",
    "    log_tag,\n",
    ")\n",
    "progress_bar.close()"
   ]
  },
  {
   "cell_type": "code",
   "execution_count": 5,
   "metadata": {},
   "outputs": [
    {
     "name": "stdout",
     "output_type": "stream",
     "text": [
      "Sample [0. 0.] , predictions = [0.99996559]\n",
      "Sample [0. 1.] , predictions = [-0.99997625]\n",
      "Sample [1. 0.] , predictions = [0.99999881]\n",
      "ndim = 1\n"
     ]
    },
    {
     "data": {
      "image/png": "[encoded data removed]",
      "text/plain": [
       "<Figure size 640x480 with 1 Axes>"
      ]
     },
     "metadata": {},
     "output_type": "display_data"
    }
   ],
   "source": [
    "for k in range(len(X_train)):\n",
    "    predictions = np.zeros(1, dtype=np.float64)\n",
    "    mlp_model.mlpPredict(\n",
    "        nn,\n",
    "        X_train[k].ctypes.data_as(ctypes.POINTER(ctypes.c_double)),\n",
    "        X_train[k].size,\n",
    "        True,\n",
    "        predictions.ctypes.data_as(ctypes.POINTER(ctypes.c_double))\n",
    "    )\n",
    "    print(\"Sample\", X_train[k], \", predictions =\", predictions)\n",
    "\n",
    "\n",
    "plotDisplay(X_train, y_train, nn, mlp_model)\n",
    "\n",
    "\n",
    "mlp_model.mlpFree(nn)"
   ]
  },
  {
   "cell_type": "markdown",
   "metadata": {},
   "source": [
    "# Xor test case"
   ]
  },
  {
   "cell_type": "code",
   "execution_count": 65,
   "metadata": {},
   "outputs": [
    {
     "name": "stdout",
     "output_type": "stream",
     "text": [
      "layer : 2\n",
      "neural matrix : [NeuralMatrix { matrix: [[0.384444749088078, -0.7842633184815053], [-0.8816121786720661, -0.5108322417853559], [-0.3534068258666445, -0.026196544149842182]], bias: [0.0, 0.0, 0.0], input_size: 2, output_size: 3 }, NeuralMatrix { matrix: [[-0.404227125447699, -0.30678809188370737, -0.0018187504016982103]], bias: [0.0], input_size: 3, output_size: 1 }]\n"
     ]
    }
   ],
   "source": [
    "neurons_size = np.array([2, 3, 1], dtype=np.uintp)\n",
    "learning_rate = 0.01\n",
    "epochs = 10000000\n",
    "callback_interval = 10000\n",
    "checkpoint_enable = False\n",
    "log_enable = False\n",
    "log_tag = \"xorTestCase\".encode('utf-8')\n",
    "\n",
    "parameter_ptr = neurons_size.ctypes.data_as(ctypes.POINTER(ctypes.c_size_t))\n",
    "nn = mlp_model.mlpInit(parameter_ptr, neurons_size.size, learning_rate)\n",
    "\n",
    "X_train = np.array([\n",
    "    [0.0, 0.0],\n",
    "    [0.0, 1.0],\n",
    "    [1.0, 0.0],\n",
    "    [1.0, 1.0]\n",
    "], dtype=np.float64)\n",
    "\n",
    "y_train = np.array([\n",
    "    [-1.0],\n",
    "    [1.0],\n",
    "    [1.0],\n",
    "    [-1.0]\n",
    "], dtype=np.float64)"
   ]
  },
  {
   "cell_type": "code",
   "execution_count": 66,
   "metadata": {},
   "outputs": [
    {
     "data": {
      "application/vnd.jupyter.widget-view+json": {
       "model_id": "f192c50cf8dd4801a1dd418fedc80636",
       "version_major": 2,
       "version_minor": 0
      },
      "text/plain": [
       "Training Progress:   0%|          | 0/10000000 [00:00<?, ?it/s]"
      ]
     },
     "metadata": {},
     "output_type": "display_data"
    }
   ],
   "source": [
    "progress_bar = tqdm(total=epochs, desc=\"Training Progress\")\n",
    "\n",
    "def progress_callback(epochs, loss):\n",
    "    progress_bar.update(callback_interval)\n",
    "    progress_bar.set_postfix(loss=loss)\n",
    "\n",
    "callback_func = PROGRESS_CALLBACK(progress_callback)\n",
    "\n",
    "loss = mlp_model.mlpTrain(\n",
    "    nn,\n",
    "    X_train.ctypes.data_as(ctypes.POINTER(ctypes.c_double)),\n",
    "    y_train.ctypes.data_as(ctypes.POINTER(ctypes.c_double)),\n",
    "    X_train.shape[0],\n",
    "    X_train.shape[1],\n",
    "    y_train.shape[1],\n",
    "    epochs,\n",
    "    1,\n",
    "    True, \n",
    "    callback_func,\n",
    "    callback_interval,\n",
    "    checkpoint_enable,\n",
    "    callback_interval,\n",
    "    log_enable,\n",
    "    log_tag,\n",
    ")\n",
    "progress_bar.close()"
   ]
  },
  {
   "cell_type": "code",
   "execution_count": 67,
   "metadata": {},
   "outputs": [
    {
     "name": "stdout",
     "output_type": "stream",
     "text": [
      "Sample [0. 0.] , predictions = [-0.99579639]\n",
      "Sample [0. 1.] , predictions = [0.96843968]\n",
      "Sample [1. 0.] , predictions = [0.96832292]\n",
      "Sample [1. 1.] , predictions = [-0.94094958]\n",
      "ndim = 1\n"
     ]
    },
    {
     "data": {
      "image/png": "[encoded data removed]",
      "text/plain": [
       "<Figure size 640x480 with 1 Axes>"
      ]
     },
     "metadata": {},
     "output_type": "display_data"
    }
   ],
   "source": [
    "predictions = []\n",
    "for k in range(len(X_train)):\n",
    "    prediction = np.zeros(1, dtype=np.float64)\n",
    "    mlp_model.mlpPredict(\n",
    "        nn,\n",
    "        X_train[k].ctypes.data_as(ctypes.POINTER(ctypes.c_double)),\n",
    "        X_train[k].size,\n",
    "        True,\n",
    "        prediction.ctypes.data_as(ctypes.POINTER(ctypes.c_double))\n",
    "    )\n",
    "    predictions.append(prediction.tolist())\n",
    "    print(\"Sample\", X_train[k], \", predictions =\", prediction)\n",
    "\n",
    "\n",
    "plotDisplay(X_train, y_train, nn, mlp_model)\n",
    "\n",
    "mlp_model.mlpFree(nn)"
   ]
  },
  {
   "cell_type": "markdown",
   "metadata": {},
   "source": [
    "# Multi class test"
   ]
  },
  {
   "cell_type": "code",
   "execution_count": 68,
   "metadata": {},
   "outputs": [
    {
     "name": "stdout",
     "output_type": "stream",
     "text": [
      "layer : 1\n",
      "neural matrix : [NeuralMatrix { matrix: [[0.7278072592041749, 0.040720558268727114], [-0.6939354948946601, -0.4979619006942064], [-0.2802085725857224, 0.5727564913856051]], bias: [0.0, 0.0, 0.0], input_size: 2, output_size: 3 }]\n"
     ]
    }
   ],
   "source": [
    "neurons_size = np.array([2, 3], dtype=np.uintp)\n",
    "learning_rate = 0.001\n",
    "epochs = 1000000\n",
    "callback_interval = 1000\n",
    "checkpoint_enable = False\n",
    "callback_interval = 1000\n",
    "log_enable = False\n",
    "log_tag = \"simpleMultiTestCase\".encode('utf-8')\n",
    "\n",
    "parameter_ptr = neurons_size.ctypes.data_as(ctypes.POINTER(ctypes.c_size_t))\n",
    "nn = mlp_model.mlpInit(parameter_ptr, neurons_size.size, learning_rate)\n",
    "\n",
    "X_train = np.array([\n",
    "    [1.0, 1.0],  # Classe A\n",
    "    [5.0, 5.0],  # Classe B\n",
    "    [0, 3.0] \n",
    "], dtype=np.float64)\n",
    "\n",
    "y_train = np.array([\n",
    "    [1.0, 0.0, 0.0],  # Classe A\n",
    "    [0.0, 1.0, 0.0],  # Classe B\n",
    "    [0.0, 0.0, 1.0]   # Classe C\n",
    "], dtype=np.float64)\n"
   ]
  },
  {
   "cell_type": "code",
   "execution_count": 69,
   "metadata": {},
   "outputs": [
    {
     "data": {
      "application/vnd.jupyter.widget-view+json": {
       "model_id": "87f5cf9d07f34bfabff72d6047dedbc7",
       "version_major": 2,
       "version_minor": 0
      },
      "text/plain": [
       "Training Progress:   0%|          | 0/1000000 [00:00<?, ?it/s]"
      ]
     },
     "metadata": {},
     "output_type": "display_data"
    }
   ],
   "source": [
    "progress_bar = tqdm(total=epochs, desc=\"Training Progress\")\n",
    "\n",
    "def progress_callback(epochs, loss):\n",
    "    progress_bar.update(callback_interval)\n",
    "    progress_bar.set_postfix(loss=loss)\n",
    "\n",
    "callback_func = PROGRESS_CALLBACK(progress_callback)\n",
    "\n",
    "loss = mlp_model.mlpTrain(\n",
    "    nn,\n",
    "    X_train.ctypes.data_as(ctypes.POINTER(ctypes.c_double)),\n",
    "    y_train.ctypes.data_as(ctypes.POINTER(ctypes.c_double)),\n",
    "    X_train.shape[0],\n",
    "    X_train.shape[1],\n",
    "    3,\n",
    "    epochs,\n",
    "    16,\n",
    "    True,  \n",
    "    callback_func,\n",
    "    callback_interval,\n",
    "    checkpoint_enable,\n",
    "    callback_interval,\n",
    "    log_enable,\n",
    "    log_tag,\n",
    ")\n",
    "progress_bar.close()"
   ]
  },
  {
   "cell_type": "code",
   "execution_count": 70,
   "metadata": {},
   "outputs": [
    {
     "name": "stdout",
     "output_type": "stream",
     "text": [
      "Sample [1. 1.] , predictions = [0.9485613  0.03258781 0.01885088]\n",
      "Sample [5. 5.] , predictions = [1.92024400e-02 9.80677753e-01 1.19807070e-04]\n",
      "Sample [0. 3.] , predictions = [0.01597375 0.00595076 0.97807549]\n",
      "ndim = multi\n"
     ]
    },
    {
     "data": {
      "image/png": "[encoded data removed]",
      "text/plain": [
       "<Figure size 640x480 with 1 Axes>"
      ]
     },
     "metadata": {},
     "output_type": "display_data"
    }
   ],
   "source": [
    "for k in range(len(X_train)):\n",
    "    predictions = np.zeros(3, dtype=np.float64)\n",
    "    mlp_model.mlpPredict(\n",
    "        nn,\n",
    "        X_train[k].ctypes.data_as(ctypes.POINTER(ctypes.c_double)),\n",
    "        X_train[k].size,\n",
    "        True,\n",
    "        predictions.ctypes.data_as(ctypes.POINTER(ctypes.c_double))\n",
    "    )\n",
    "    print(\"Sample\", X_train[k], \", predictions =\", predictions)\n",
    "\n",
    "plotDisplay(X_train, y_train, nn, mlp_model)\n",
    "\n",
    "mlp_model.mlpFree(nn)"
   ]
  },
  {
   "cell_type": "markdown",
   "metadata": {},
   "source": [
    "## Cross entropy"
   ]
  },
  {
   "cell_type": "code",
   "execution_count": 149,
   "metadata": {},
   "outputs": [
    {
     "name": "stdout",
     "output_type": "stream",
     "text": [
      "layer : 2\n",
      "neural matrix : [NeuralMatrix { matrix: [[0.9352879604070883, 0.0025200379224075142], [-0.8724774006068126, -0.6135567199352723], [0.882655641685139, -0.8032142935406044], [-0.07258210478872673, 0.18750880277045257]], bias: [0.0, 0.0, 0.0, 0.0], input_size: 2, output_size: 4 }, NeuralMatrix { matrix: [[0.7008572511202518, -0.6283013137477234, 0.7774071827020399, -0.1910888880530468]], bias: [0.0], input_size: 4, output_size: 1 }]\n"
     ]
    }
   ],
   "source": [
    "\n",
    "# X_train = np.random.random((1000, 2)) * 2.0 - 1.0\n",
    "# y_train = np.array([\n",
    "#     [1, 0, 0] if abs(p[0] % 0.5) <= 0.25 and abs(p[1] % 0.5) > 0.25 else \n",
    "#     [0, 1, 0] if abs(p[0] % 0.5) > 0.25 and abs(p[1] % 0.5) <= 0.25 else \n",
    "#     [0, 0, 1] \n",
    "#     for p in X_train\n",
    "# ])\n",
    "\n",
    "# X_train = np.random.random((500, 2)) * 2.0 - 1.0\n",
    "# y_train = np.array([[1, 0, 0] if -p[0] - p[1] - 0.5 > 0 and p[1] < 0 and p[0] - p[1] - 0.5 < 0 else\n",
    "#               [0, 1, 0] if -p[0] - p[1] - 0.5 < 0 and p[1] > 0 and p[0] - p[1] - 0.5 < 0 else\n",
    "#               [0, 0, 1] if -p[0] - p[1] - 0.5 < 0 and p[1] < 0 and p[0] - p[1] - 0.5 > 0 else\n",
    "#               [0, 0, 0]for p in X_train])\n",
    "\n",
    "# X_train = X_train[[not np.all(arr == [0, 0, 0]) for arr in y_train]]\n",
    "# y_train = y_train[[not np.all(arr == [0, 0, 0]) for arr in y_train]]\n",
    "\n",
    "X_train = np.random.random((500, 2)) * 2.0 - 1.0\n",
    "y_train = np.array([[1.0] if abs(p[0]) <= 0.3 or abs(p[1]) <= 0.3 else [-1.0] for p in X_train])\n",
    "\n",
    "\n",
    "neurons_size = np.array([2, 4, 1], dtype=np.uintp)\n",
    "learning_rate = 0.000001\n",
    "epochs = 1000000\n",
    "callback_interval = 1000\n",
    "checkpoint_enable = False\n",
    "log_enable = False\n",
    "log_tag = \"crossLinearTestCase\".encode('utf-8')\n",
    "parameter_ptr = neurons_size.ctypes.data_as(ctypes.POINTER(ctypes.c_size_t))\n",
    "nn = mlp_model.mlpInit(parameter_ptr, neurons_size.size, learning_rate)\n",
    "\n",
    "# print(X_train)\n",
    "# print(y_train)\n"
   ]
  },
  {
   "cell_type": "code",
   "execution_count": 150,
   "metadata": {},
   "outputs": [
    {
     "data": {
      "application/vnd.jupyter.widget-view+json": {
       "model_id": "940d589061854018a91f3695f0233f1b",
       "version_major": 2,
       "version_minor": 0
      },
      "text/plain": [
       "Training Progress:   0%|          | 0/1000000 [00:00<?, ?it/s]"
      ]
     },
     "metadata": {},
     "output_type": "display_data"
    }
   ],
   "source": [
    "progress_bar = tqdm(total=epochs, desc=\"Training Progress\")\n",
    "\n",
    "def progress_callback(epochs, loss):\n",
    "    progress_bar.update(callback_interval)\n",
    "    progress_bar.set_postfix(loss=loss)\n",
    "\n",
    "callback_func = PROGRESS_CALLBACK(progress_callback)\n",
    "\n",
    "loss = mlp_model.mlpTrain(\n",
    "    nn,\n",
    "    X_train.ctypes.data_as(ctypes.POINTER(ctypes.c_double)),\n",
    "    y_train.ctypes.data_as(ctypes.POINTER(ctypes.c_double)),\n",
    "    X_train.shape[0],\n",
    "    X_train.shape[1],\n",
    "    y_train.shape[1],\n",
    "    epochs,\n",
    "    1,\n",
    "    True,  \n",
    "    callback_func,\n",
    "    callback_interval,\n",
    "    checkpoint_enable,\n",
    "    callback_interval,\n",
    "    log_enable,\n",
    "    log_tag,\n",
    ")\n",
    "progress_bar.close()"
   ]
  },
  {
   "cell_type": "code",
   "execution_count": 151,
   "metadata": {},
   "outputs": [
    {
     "name": "stdout",
     "output_type": "stream",
     "text": [
      "ndim = 1\n"
     ]
    },
    {
     "data": {
      "image/png": "[encoded data removed]",
      "text/plain": [
       "<Figure size 640x480 with 1 Axes>"
      ]
     },
     "metadata": {},
     "output_type": "display_data"
    }
   ],
   "source": [
    "plotDisplay(X_train, y_train, nn, mlp_model)\n",
    "mlp_model.mlpFree(nn)"
   ]
  },
  {
   "cell_type": "markdown",
   "metadata": {},
   "source": [
    "# Simple linear test"
   ]
  },
  {
   "cell_type": "code",
   "execution_count": 117,
   "metadata": {},
   "outputs": [
    {
     "name": "stdout",
     "output_type": "stream",
     "text": [
      "layer : 1\n",
      "neural matrix : [NeuralMatrix { matrix: [[0.1105157048162071]], bias: [0.0], input_size: 1, output_size: 1 }]\n"
     ]
    }
   ],
   "source": [
    "neurons_size = np.array([1, 1], dtype=np.uintp)\n",
    "learning_rate = 0.001\n",
    "epochs = 1000000\n",
    "callback_interval = 1000\n",
    "checkpoint_enable = False\n",
    "callback_interval = 1000\n",
    "log_enable = False\n",
    "log_tag = \"simpleLinearTestCase\".encode('utf-8')\n",
    "parameter_ptr = neurons_size.ctypes.data_as(ctypes.POINTER(ctypes.c_size_t))\n",
    "nn = mlp_model.mlpInit(parameter_ptr, neurons_size.size, learning_rate)\n",
    "\n",
    "X_train = np.array([\n",
    "    [3.0],\n",
    "    [7.0],\n",
    "], dtype=np.float64)\n",
    "\n",
    "y_train = np.array([\n",
    "    [-3.0],\n",
    "    [2.0],\n",
    "], dtype=np.float64)"
   ]
  },
  {
   "cell_type": "code",
   "execution_count": 118,
   "metadata": {},
   "outputs": [
    {
     "data": {
      "application/vnd.jupyter.widget-view+json": {
       "model_id": "0cf26b5b709443bebf6d318fa50a33e3",
       "version_major": 2,
       "version_minor": 0
      },
      "text/plain": [
       "Training Progress:   0%|          | 0/1000000 [00:00<?, ?it/s]"
      ]
     },
     "metadata": {},
     "output_type": "display_data"
    }
   ],
   "source": [
    "progress_bar = tqdm(total=epochs, desc=\"Training Progress\")\n",
    "\n",
    "def progress_callback(epochs, loss):\n",
    "    progress_bar.update(callback_interval)\n",
    "    progress_bar.set_postfix(loss=loss)\n",
    "\n",
    "callback_func = PROGRESS_CALLBACK(progress_callback)\n",
    "\n",
    "loss = mlp_model.mlpTrain(\n",
    "    nn,\n",
    "    X_train.ctypes.data_as(ctypes.POINTER(ctypes.c_double)),\n",
    "    y_train.ctypes.data_as(ctypes.POINTER(ctypes.c_double)),\n",
    "    X_train.shape[0],\n",
    "    X_train.shape[1],\n",
    "    1,\n",
    "    epochs,\n",
    "    1,\n",
    "    False,\n",
    "    callback_func,\n",
    "    callback_interval,\n",
    "    checkpoint_enable,\n",
    "    callback_interval,\n",
    "    log_enable,\n",
    "    log_tag\n",
    ")\n",
    "progress_bar.close()"
   ]
  },
  {
   "cell_type": "code",
   "execution_count": 119,
   "metadata": {},
   "outputs": [
    {
     "name": "stdout",
     "output_type": "stream",
     "text": [
      "Sample [3.] , predictions = [-3.]\n",
      "Sample [7.] , predictions = [2.]\n"
     ]
    }
   ],
   "source": [
    "for k in range(len(X_train)):\n",
    "    predictions = np.zeros(1, dtype=np.float64)\n",
    "    mlp_model.mlpPredict(\n",
    "        nn,\n",
    "        X_train[k].ctypes.data_as(ctypes.POINTER(ctypes.c_double)),\n",
    "        X_train[k].size,\n",
    "        False,\n",
    "        predictions.ctypes.data_as(ctypes.POINTER(ctypes.c_double))\n",
    "    )\n",
    "    print(\"Sample\", X_train[k], \", predictions =\", predictions)\n",
    "\n",
    "# plotDisplay(X_train, y_train, nn, mlp_model)\n",
    "mlp_model.mlpFree(nn)"
   ]
  },
  {
   "cell_type": "markdown",
   "metadata": {},
   "source": [
    "# Linear test"
   ]
  },
  {
   "cell_type": "code",
   "execution_count": 120,
   "metadata": {},
   "outputs": [
    {
     "name": "stdout",
     "output_type": "stream",
     "text": [
      "layer : 2\n",
      "neural matrix : [NeuralMatrix { matrix: [[-0.6270270455131652], [0.872076725075718], [0.1302992828835472]], bias: [0.0, 0.0, 0.0], input_size: 1, output_size: 3 }, NeuralMatrix { matrix: [[0.44252050416216404, 0.1575314786204567, 0.19161878519097364]], bias: [0.0], input_size: 3, output_size: 1 }]\n"
     ]
    }
   ],
   "source": [
    "neurons_size = np.array([1, 3, 1], dtype=np.uintp)\n",
    "learning_rate = 0.01\n",
    "epochs = 10000000\n",
    "callback_interval = 10000\n",
    "checkpoint_enable = False\n",
    "callback_interval = 1000\n",
    "log_enable = False\n",
    "log_tag = \"linearTestCase\".encode('utf-8')\n",
    "parameter_ptr = neurons_size.ctypes.data_as(ctypes.POINTER(ctypes.c_size_t))\n",
    "nn = mlp_model.mlpInit(parameter_ptr, neurons_size.size, learning_rate)\n",
    "\n",
    "X_train = np.array([\n",
    "    [3.0],\n",
    "    [7.0],\n",
    "    [9.0],\n",
    "], dtype=np.float64)\n",
    "\n",
    "y_train = np.array([\n",
    "    [8.0],\n",
    "    [2.0],\n",
    "    [6.0],\n",
    "], dtype=np.float64)"
   ]
  },
  {
   "cell_type": "code",
   "execution_count": 121,
   "metadata": {},
   "outputs": [
    {
     "data": {
      "application/vnd.jupyter.widget-view+json": {
       "model_id": "302151c0b6eb448e8eeda1d626234a75",
       "version_major": 2,
       "version_minor": 0
      },
      "text/plain": [
       "Training Progress:   0%|          | 0/10000000 [00:00<?, ?it/s]"
      ]
     },
     "metadata": {},
     "output_type": "display_data"
    }
   ],
   "source": [
    "progress_bar = tqdm(total=epochs, desc=\"Training Progress\")\n",
    "\n",
    "def progress_callback(epochs, loss):\n",
    "    progress_bar.update(callback_interval)\n",
    "    progress_bar.set_postfix(loss=loss)\n",
    "\n",
    "callback_func = PROGRESS_CALLBACK(progress_callback)\n",
    "\n",
    "loss = mlp_model.mlpTrain(\n",
    "    nn,\n",
    "    X_train.ctypes.data_as(ctypes.POINTER(ctypes.c_double)),\n",
    "    y_train.ctypes.data_as(ctypes.POINTER(ctypes.c_double)),\n",
    "    X_train.shape[0],\n",
    "    X_train.shape[1],\n",
    "    1,\n",
    "    epochs,\n",
    "    16,\n",
    "    False,\n",
    "    callback_func,\n",
    "    callback_interval,\n",
    "    checkpoint_enable,\n",
    "    callback_interval,\n",
    "    log_enable,\n",
    "    log_tag,\n",
    ")\n",
    "progress_bar.close()"
   ]
  },
  {
   "cell_type": "code",
   "execution_count": 122,
   "metadata": {},
   "outputs": [
    {
     "name": "stdout",
     "output_type": "stream",
     "text": [
      "Sample [3.] , predictions = [5.33333333]\n",
      "Sample [7.] , predictions = [5.33333333]\n",
      "Sample [9.] , predictions = [5.33333333]\n"
     ]
    }
   ],
   "source": [
    "allPrediction = []\n",
    "for k in range(len(X_train)):\n",
    "    predictions = np.zeros(1, dtype=np.float64)\n",
    "    mlp_model.mlpPredict(\n",
    "        nn,\n",
    "        X_train[k].ctypes.data_as(ctypes.POINTER(ctypes.c_double)),\n",
    "        X_train[k].size,\n",
    "        False,\n",
    "        predictions.ctypes.data_as(ctypes.POINTER(ctypes.c_double))\n",
    "    )\n",
    "    allPrediction.append(predictions)\n",
    "    print(\"Sample\", X_train[k], \", predictions =\", predictions)\n",
    "\n",
    "# plotDisplay(X_train, y_train, nn, mlp_model)\n",
    "mlp_model.mlpFree(nn)"
   ]
  },
  {
   "cell_type": "code",
   "execution_count": null,
   "metadata": {},
   "outputs": [],
   "source": [
    "plt.scatter(X_train, y_train)\n",
    "plt.scatter(X_train, allPrediction, c='red')\n",
    "plt.show()"
   ]
  }
 ],
 "metadata": {
  "kernelspec": {
   "display_name": "PA",
   "language": "python",
   "name": "python3"
  },
  "language_info": {
   "codemirror_mode": {
    "name": "ipython",
    "version": 3
   },
   "file_extension": ".py",
   "mimetype": "text/x-python",
   "name": "python",
   "nbconvert_exporter": "python",
   "pygments_lexer": "ipython3",
   "version": "3.12.3"
  }
 },
 "nbformat": 4,
 "nbformat_minor": 2
}
