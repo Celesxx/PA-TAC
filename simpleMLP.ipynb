{
 "cells": [
  {
   "cell_type": "code",
   "execution_count": 1,
   "metadata": {},
   "outputs": [],
   "source": [
    "import ctypes\n",
    "import numpy as np\n",
    "import matplotlib.pyplot as plt\n",
    "from tqdm.notebook import tqdm\n",
    "from script.plotDisplay import plotDisplay"
   ]
  },
  {
   "cell_type": "code",
   "execution_count": 2,
   "metadata": {},
   "outputs": [],
   "source": [
    "mlp_model = ctypes.CDLL(\"modele/mlp/target/release/libmlp_classification.so\")\n",
    "\n",
    "# Définir les types d'arguments et de retour des fonctions C\n",
    "PROGRESS_CALLBACK = ctypes.CFUNCTYPE(None, ctypes.c_int, ctypes.c_double)\n",
    "mlp_model.mlpInit.argtypes = [ctypes.POINTER(ctypes.c_size_t), ctypes.c_size_t, ctypes.c_double]\n",
    "mlp_model.mlpInit.restype = ctypes.c_void_p\n",
    "\n",
    "mlp_model.mlpTrain.argtypes = [\n",
    "    ctypes.c_void_p,\n",
    "    ctypes.POINTER(ctypes.c_double),\n",
    "    ctypes.POINTER(ctypes.c_double),\n",
    "    ctypes.c_size_t,\n",
    "    ctypes.c_size_t,\n",
    "    ctypes.c_size_t,\n",
    "    ctypes.c_size_t,\n",
    "    ctypes.c_size_t,\n",
    "    ctypes.c_bool,\n",
    "    PROGRESS_CALLBACK,\n",
    "    ctypes.c_size_t,\n",
    "]\n",
    "mlp_model.mlpTrain.restype = None\n",
    "\n",
    "\n",
    "mlp_model.mlpPredict.argtypes = [\n",
    "    ctypes.c_void_p,\n",
    "    ctypes.POINTER(ctypes.c_double),\n",
    "    ctypes.c_size_t,\n",
    "    ctypes.c_bool,\n",
    "    ctypes.POINTER(ctypes.c_double)\n",
    "]\n",
    "mlp_model.mlpPredict.restype = None\n",
    "\n",
    "mlp_model.mlpFree.argtypes = [ctypes.c_void_p]\n",
    "mlp_model.mlpFree.restype = None\n"
   ]
  },
  {
   "cell_type": "markdown",
   "metadata": {},
   "source": [
    "# First test case"
   ]
  },
  {
   "cell_type": "code",
   "execution_count": 3,
   "metadata": {},
   "outputs": [
    {
     "name": "stdout",
     "output_type": "stream",
     "text": [
      "layer : 1\n",
      "neural matrix : [NeuralMatrix { matrix: [[0.9723070278819597, -0.0830382487864254]], bias: [0.0], input_size: 2, output_size: 1 }]\n",
      "vecteur [[0. 0.]\n",
      " [0. 1.]\n",
      " [1. 0.]]\n",
      "vecteur (3, 2)\n"
     ]
    }
   ],
   "source": [
    "parameter = np.array([2, 1], dtype=np.uintp)\n",
    "learning_rate = 0.1\n",
    "epochs = 1000000\n",
    "callback_interval = 100\n",
    "tensorboard_dir = \"./log/\"\n",
    "parameter_ptr = parameter.ctypes.data_as(ctypes.POINTER(ctypes.c_size_t))\n",
    "nn = mlp_model.mlpInit(parameter_ptr, parameter.size, learning_rate)\n",
    "\n",
    "X_train = np.array([\n",
    "    [0.0, 0.0],\n",
    "    [0.0, 1.0],\n",
    "    [1.0, 0.0]\n",
    "], dtype=np.float64)\n",
    "\n",
    "y_train = np.array([\n",
    "    [1.0],\n",
    "    [-1.0],\n",
    "    [1.0]\n",
    "], dtype=np.float64)\n",
    "\n",
    "print(f'vecteur {X_train}')\n",
    "print(f'vecteur {X_train.shape}')"
   ]
  },
  {
   "cell_type": "code",
   "execution_count": 4,
   "metadata": {},
   "outputs": [
    {
     "data": {
      "application/vnd.jupyter.widget-view+json": {
       "model_id": "e254f95662d4481aa3dcefa33da45cd9",
       "version_major": 2,
       "version_minor": 0
      },
      "text/plain": [
       "Training Progress:   0%|          | 0/1000000 [00:00<?, ?it/s]"
      ]
     },
     "metadata": {},
     "output_type": "display_data"
    }
   ],
   "source": [
    "progress_bar = tqdm(total=epochs, desc=\"Training Progress\")\n",
    "\n",
    "def progress_callback(epochs, loss):\n",
    "    progress_bar.update(callback_interval)\n",
    "    progress_bar.set_postfix(loss=loss)\n",
    "\n",
    "callback_func = PROGRESS_CALLBACK(progress_callback)\n",
    "\n",
    "loss = mlp_model.mlpTrain(\n",
    "    nn,\n",
    "    X_train.ctypes.data_as(ctypes.POINTER(ctypes.c_double)),\n",
    "    y_train.ctypes.data_as(ctypes.POINTER(ctypes.c_double)),\n",
    "    X_train.shape[0],\n",
    "    X_train.shape[1],\n",
    "    1,\n",
    "    epochs,  # Nombre total d'époques\n",
    "    1,\n",
    "    True,  # is_classification\n",
    "    callback_func,  # Fonction de callback\n",
    "    callback_interval,\n",
    ")\n",
    "progress_bar.close()"
   ]
  },
  {
   "cell_type": "code",
   "execution_count": 5,
   "metadata": {},
   "outputs": [
    {
     "name": "stdout",
     "output_type": "stream",
     "text": [
      "Sample [0. 0.] , predictions = [0.9999653]\n",
      "Sample [0. 1.] , predictions = [-0.99997623]\n",
      "Sample [1. 0.] , predictions = [0.99999905]\n",
      "ndim = 1\n"
     ]
    },
    {
     "data": {
      "image/png": "[encoded data removed]",
      "text/plain": [
       "<Figure size 640x480 with 1 Axes>"
      ]
     },
     "metadata": {},
     "output_type": "display_data"
    }
   ],
   "source": [
    "for k in range(len(X_train)):\n",
    "    predictions = np.zeros(1, dtype=np.float64)\n",
    "    mlp_model.mlpPredict(\n",
    "        nn,\n",
    "        X_train[k].ctypes.data_as(ctypes.POINTER(ctypes.c_double)),\n",
    "        X_train[k].size,\n",
    "        True,\n",
    "        predictions.ctypes.data_as(ctypes.POINTER(ctypes.c_double))\n",
    "    )\n",
    "    print(\"Sample\", X_train[k], \", predictions =\", predictions)\n",
    "\n",
    "\n",
    "plotDisplay(X_train, y_train, nn, mlp_model)\n",
    "\n",
    "\n",
    "mlp_model.mlpFree(nn)"
   ]
  },
  {
   "cell_type": "markdown",
   "metadata": {},
   "source": [
    "# Xor test case"
   ]
  },
  {
   "cell_type": "code",
   "execution_count": 19,
   "metadata": {},
   "outputs": [
    {
     "name": "stdout",
     "output_type": "stream",
     "text": [
      "layer : 2\n",
      "neural matrix : [NeuralMatrix { matrix: [[0.0790283268623031, -0.7027205397114735], [-0.27130039286720153, 0.2758736932222132]], bias: [0.0, 0.0], input_size: 2, output_size: 2 }, NeuralMatrix { matrix: [[0.2374904385784382, 0.037346417014829214]], bias: [0.0], input_size: 2, output_size: 1 }]\n"
     ]
    }
   ],
   "source": [
    "neurons_size = np.array([2, 2, 1], dtype=np.uintp)\n",
    "learning_rate = 0.01\n",
    "epochs = 10000000\n",
    "callback_interval = 10000\n",
    "\n",
    "parameter_ptr = neurons_size.ctypes.data_as(ctypes.POINTER(ctypes.c_size_t))\n",
    "nn = mlp_model.mlpInit(parameter_ptr, neurons_size.size, learning_rate)\n",
    "\n",
    "X_train = np.array([\n",
    "    [0.0, 0.0],\n",
    "    [0.0, 1.0],\n",
    "    [1.0, 0.0],\n",
    "    [1.0, 1.0]\n",
    "], dtype=np.float64)\n",
    "\n",
    "y_train = np.array([\n",
    "    [-1.0],\n",
    "    [1.0],\n",
    "    [1.0],\n",
    "    [-1.0]\n",
    "], dtype=np.float64)"
   ]
  },
  {
   "cell_type": "code",
   "execution_count": 20,
   "metadata": {},
   "outputs": [
    {
     "data": {
      "application/vnd.jupyter.widget-view+json": {
       "model_id": "4057df6501b44b08bab24a6c6bbac759",
       "version_major": 2,
       "version_minor": 0
      },
      "text/plain": [
       "Training Progress:   0%|          | 0/10000000 [00:00<?, ?it/s]"
      ]
     },
     "metadata": {},
     "output_type": "display_data"
    }
   ],
   "source": [
    "progress_bar = tqdm(total=epochs, desc=\"Training Progress\")\n",
    "\n",
    "def progress_callback(epochs, loss):\n",
    "    progress_bar.update(callback_interval)\n",
    "    progress_bar.set_postfix(loss=loss)\n",
    "\n",
    "callback_func = PROGRESS_CALLBACK(progress_callback)\n",
    "\n",
    "loss = mlp_model.mlpTrain(\n",
    "    nn,\n",
    "    X_train.ctypes.data_as(ctypes.POINTER(ctypes.c_double)),\n",
    "    y_train.ctypes.data_as(ctypes.POINTER(ctypes.c_double)),\n",
    "    X_train.shape[0],\n",
    "    X_train.shape[1],\n",
    "    1,\n",
    "    epochs,  # Nombre total d'époques\n",
    "    1,\n",
    "    True,  # is_classification\n",
    "    callback_func,  # Fonction de callback\n",
    "    callback_interval  \n",
    ")\n",
    "progress_bar.close()"
   ]
  },
  {
   "cell_type": "code",
   "execution_count": 21,
   "metadata": {},
   "outputs": [
    {
     "name": "stdout",
     "output_type": "stream",
     "text": [
      "Sample [0. 0.] , predictions = [-0.99547204]\n",
      "Sample [0. 1.] , predictions = [0.96787614]\n",
      "Sample [1. 0.] , predictions = [0.96779493]\n",
      "Sample [1. 1.] , predictions = [-0.94025547]\n",
      "ndim = 1\n"
     ]
    },
    {
     "data": {
      "image/png": "[encoded data removed]",
      "text/plain": [
       "<Figure size 640x480 with 1 Axes>"
      ]
     },
     "metadata": {},
     "output_type": "display_data"
    }
   ],
   "source": [
    "predictions = []\n",
    "for k in range(len(X_train)):\n",
    "    prediction = np.zeros(1, dtype=np.float64)\n",
    "    mlp_model.mlpPredict(\n",
    "        nn,\n",
    "        X_train[k].ctypes.data_as(ctypes.POINTER(ctypes.c_double)),\n",
    "        X_train[k].size,\n",
    "        True,\n",
    "        prediction.ctypes.data_as(ctypes.POINTER(ctypes.c_double))\n",
    "    )\n",
    "    predictions.append(prediction.tolist())\n",
    "    print(\"Sample\", X_train[k], \", predictions =\", prediction)\n",
    "\n",
    "\n",
    "plotDisplay(X_train, y_train, nn, mlp_model)\n",
    "\n",
    "mlp_model.mlpFree(nn)"
   ]
  },
  {
   "cell_type": "markdown",
   "metadata": {},
   "source": [
    "# Multi class test"
   ]
  },
  {
   "cell_type": "code",
   "execution_count": 9,
   "metadata": {},
   "outputs": [
    {
     "name": "stdout",
     "output_type": "stream",
     "text": [
      "layer : 1\n",
      "neural matrix : [NeuralMatrix { matrix: [[0.1751588922830818, -0.6248367562635639], [-0.16365388929877778, -0.2620676576782488], [0.5745212460039815, -0.9256286047027058]], bias: [0.0, 0.0, 0.0], input_size: 2, output_size: 3 }]\n"
     ]
    }
   ],
   "source": [
    "neurons_size = np.array([2, 3], dtype=np.uintp)\n",
    "learning_rate = 0.001\n",
    "epochs = 1000000\n",
    "callback_interval = 1000\n",
    "\n",
    "parameter_ptr = neurons_size.ctypes.data_as(ctypes.POINTER(ctypes.c_size_t))\n",
    "nn = mlp_model.mlpInit(parameter_ptr, neurons_size.size, learning_rate)\n",
    "\n",
    "X_train = np.array([\n",
    "    [1.0, 1.0],  # Classe A\n",
    "    [5.0, 5.0],  # Classe B\n",
    "    [0, 3.0] \n",
    "], dtype=np.float64)\n",
    "\n",
    "y_train = np.array([\n",
    "    [1.0, 0.0, 0.0],  # Classe A\n",
    "    [0.0, 1.0, 0.0],  # Classe B\n",
    "    [0.0, 0.0, 1.0]   # Classe C\n",
    "], dtype=np.float64)\n"
   ]
  },
  {
   "cell_type": "code",
   "execution_count": 10,
   "metadata": {},
   "outputs": [
    {
     "data": {
      "application/vnd.jupyter.widget-view+json": {
       "model_id": "36464eecc7fc4424842b85fc0a74a071",
       "version_major": 2,
       "version_minor": 0
      },
      "text/plain": [
       "Training Progress:   0%|          | 0/1000000 [00:00<?, ?it/s]"
      ]
     },
     "metadata": {},
     "output_type": "display_data"
    }
   ],
   "source": [
    "progress_bar = tqdm(total=epochs, desc=\"Training Progress\")\n",
    "\n",
    "def progress_callback(epochs, loss):\n",
    "    progress_bar.update(callback_interval)\n",
    "    progress_bar.set_postfix(loss=loss)\n",
    "\n",
    "callback_func = PROGRESS_CALLBACK(progress_callback)\n",
    "\n",
    "loss = mlp_model.mlpTrain(\n",
    "    nn,\n",
    "    X_train.ctypes.data_as(ctypes.POINTER(ctypes.c_double)),\n",
    "    y_train.ctypes.data_as(ctypes.POINTER(ctypes.c_double)),\n",
    "    X_train.shape[0],\n",
    "    X_train.shape[1],\n",
    "    3,\n",
    "    epochs,\n",
    "    16,\n",
    "    True,  \n",
    "    callback_func,\n",
    "    callback_interval  \n",
    ")\n",
    "progress_bar.close()"
   ]
  },
  {
   "cell_type": "code",
   "execution_count": 11,
   "metadata": {},
   "outputs": [
    {
     "name": "stdout",
     "output_type": "stream",
     "text": [
      "Sample [1. 1.] , predictions = [9.98742799e-01 8.19074036e-04 4.38127076e-04]\n",
      "Sample [5. 5.] , predictions = [2.09561982e-04 9.99790412e-01 2.62699763e-08]\n",
      "Sample [0. 3.] , predictions = [1.98975075e-04 4.48041445e-05 9.99756221e-01]\n",
      "ndim = multi\n"
     ]
    },
    {
     "data": {
      "image/png": "[encoded data removed]",
      "text/plain": [
       "<Figure size 640x480 with 1 Axes>"
      ]
     },
     "metadata": {},
     "output_type": "display_data"
    }
   ],
   "source": [
    "for k in range(len(X_train)):\n",
    "    predictions = np.zeros(3, dtype=np.float64)\n",
    "    mlp_model.mlpPredict(\n",
    "        nn,\n",
    "        X_train[k].ctypes.data_as(ctypes.POINTER(ctypes.c_double)),\n",
    "        X_train[k].size,\n",
    "        True,\n",
    "        predictions.ctypes.data_as(ctypes.POINTER(ctypes.c_double))\n",
    "    )\n",
    "    print(\"Sample\", X_train[k], \", predictions =\", predictions)\n",
    "\n",
    "plotDisplay(X_train, y_train, nn, mlp_model)\n",
    "\n",
    "mlp_model.mlpFree(nn)"
   ]
  },
  {
   "cell_type": "markdown",
   "metadata": {},
   "source": [
    "# Simple linear test"
   ]
  },
  {
   "cell_type": "code",
   "execution_count": 12,
   "metadata": {},
   "outputs": [
    {
     "name": "stdout",
     "output_type": "stream",
     "text": [
      "layer : 1\n",
      "neural matrix : [NeuralMatrix { matrix: [[-0.5113148212785465]], bias: [0.0], input_size: 1, output_size: 1 }]\n"
     ]
    }
   ],
   "source": [
    "neurons_size = np.array([1, 1], dtype=np.uintp)\n",
    "learning_rate = 0.001\n",
    "epochs = 1000000\n",
    "callback_interval = 1000\n",
    "\n",
    "parameter_ptr = neurons_size.ctypes.data_as(ctypes.POINTER(ctypes.c_size_t))\n",
    "nn = mlp_model.mlpInit(parameter_ptr, neurons_size.size, learning_rate)\n",
    "\n",
    "X_train = np.array([\n",
    "    [3.0],\n",
    "    [7.0],\n",
    "], dtype=np.float64)\n",
    "\n",
    "y_train = np.array([\n",
    "    [-3.0],\n",
    "    [2.0],\n",
    "], dtype=np.float64)"
   ]
  },
  {
   "cell_type": "code",
   "execution_count": 13,
   "metadata": {},
   "outputs": [
    {
     "data": {
      "application/vnd.jupyter.widget-view+json": {
       "model_id": "8c9192da05864c0988241ea3e73cb028",
       "version_major": 2,
       "version_minor": 0
      },
      "text/plain": [
       "Training Progress:   0%|          | 0/1000000 [00:00<?, ?it/s]"
      ]
     },
     "metadata": {},
     "output_type": "display_data"
    }
   ],
   "source": [
    "progress_bar = tqdm(total=epochs, desc=\"Training Progress\")\n",
    "\n",
    "def progress_callback(epochs, loss):\n",
    "    progress_bar.update(callback_interval)\n",
    "    progress_bar.set_postfix(loss=loss)\n",
    "\n",
    "callback_func = PROGRESS_CALLBACK(progress_callback)\n",
    "\n",
    "loss = mlp_model.mlpTrain(\n",
    "    nn,\n",
    "    X_train.ctypes.data_as(ctypes.POINTER(ctypes.c_double)),\n",
    "    y_train.ctypes.data_as(ctypes.POINTER(ctypes.c_double)),\n",
    "    X_train.shape[0],\n",
    "    X_train.shape[1],\n",
    "    1,\n",
    "    epochs,\n",
    "    1,\n",
    "    False,\n",
    "    callback_func,\n",
    "    callback_interval  \n",
    ")\n",
    "progress_bar.close()"
   ]
  },
  {
   "cell_type": "code",
   "execution_count": 14,
   "metadata": {},
   "outputs": [
    {
     "name": "stdout",
     "output_type": "stream",
     "text": [
      "Sample [3.] , predictions = [-3.]\n",
      "Sample [7.] , predictions = [2.]\n"
     ]
    }
   ],
   "source": [
    "for k in range(len(X_train)):\n",
    "    predictions = np.zeros(1, dtype=np.float64)\n",
    "    mlp_model.mlpPredict(\n",
    "        nn,\n",
    "        X_train[k].ctypes.data_as(ctypes.POINTER(ctypes.c_double)),\n",
    "        X_train[k].size,\n",
    "        False,\n",
    "        predictions.ctypes.data_as(ctypes.POINTER(ctypes.c_double))\n",
    "    )\n",
    "    print(\"Sample\", X_train[k], \", predictions =\", predictions)\n",
    "\n",
    "# plotDisplay(X_train, y_train, nn, mlp_model)\n",
    "mlp_model.mlpFree(nn)"
   ]
  },
  {
   "cell_type": "markdown",
   "metadata": {},
   "source": [
    "# Linear test"
   ]
  },
  {
   "cell_type": "code",
   "execution_count": 15,
   "metadata": {},
   "outputs": [
    {
     "name": "stdout",
     "output_type": "stream",
     "text": [
      "layer : 2\n",
      "neural matrix : [NeuralMatrix { matrix: [[0.05553881012462769], [-0.7725635780835414], [-0.9894484727610342], [-0.6680902444995063], [-0.7333564640535788], [-0.22724338373643693], [-0.5288578621663831], [-0.10007982467212662], [-0.9156768795755061], [0.29791340287707024]], bias: [0.0, 0.0, 0.0, 0.0, 0.0, 0.0, 0.0, 0.0, 0.0, 0.0], input_size: 1, output_size: 10 }, NeuralMatrix { matrix: [[0.7463161297022949, -0.534216501158713, 0.054500041710731306, -0.7213799259143201, 0.8954856554434909, 0.02418102995157323, -0.41693574656649535, 0.889387996000953, 0.49308741535588085, 0.025166873756005348]], bias: [0.0], input_size: 10, output_size: 1 }]\n"
     ]
    }
   ],
   "source": [
    "neurons_size = np.array([1, 10, 1], dtype=np.uintp)\n",
    "learning_rate = 0.1\n",
    "epochs = 100000\n",
    "callback_interval = 1000\n",
    "\n",
    "parameter_ptr = neurons_size.ctypes.data_as(ctypes.POINTER(ctypes.c_size_t))\n",
    "nn = mlp_model.mlpInit(parameter_ptr, neurons_size.size, learning_rate)\n",
    "\n",
    "X_train = np.array([\n",
    "    [3.0],\n",
    "    [7.0],\n",
    "    [9.0],\n",
    "], dtype=np.float64)\n",
    "\n",
    "y_train = np.array([\n",
    "    [8.0],\n",
    "    [2.0],\n",
    "    [6.0],\n",
    "], dtype=np.float64)"
   ]
  },
  {
   "cell_type": "code",
   "execution_count": 16,
   "metadata": {},
   "outputs": [
    {
     "data": {
      "application/vnd.jupyter.widget-view+json": {
       "model_id": "f56b1f6c39dd439b840bc3906e6ba38a",
       "version_major": 2,
       "version_minor": 0
      },
      "text/plain": [
       "Training Progress:   0%|          | 0/100000 [00:00<?, ?it/s]"
      ]
     },
     "metadata": {},
     "output_type": "display_data"
    }
   ],
   "source": [
    "progress_bar = tqdm(total=epochs, desc=\"Training Progress\")\n",
    "\n",
    "def progress_callback(epochs, loss):\n",
    "    progress_bar.update(callback_interval)\n",
    "    progress_bar.set_postfix(loss=loss)\n",
    "\n",
    "callback_func = PROGRESS_CALLBACK(progress_callback)\n",
    "\n",
    "loss = mlp_model.mlpTrain(\n",
    "    nn,\n",
    "    X_train.ctypes.data_as(ctypes.POINTER(ctypes.c_double)),\n",
    "    y_train.ctypes.data_as(ctypes.POINTER(ctypes.c_double)),\n",
    "    X_train.shape[0],\n",
    "    X_train.shape[1],\n",
    "    1,\n",
    "    epochs,\n",
    "    16,\n",
    "    False,\n",
    "    callback_func,\n",
    "    callback_interval  \n",
    ")\n",
    "progress_bar.close()"
   ]
  },
  {
   "cell_type": "code",
   "execution_count": 17,
   "metadata": {},
   "outputs": [
    {
     "name": "stdout",
     "output_type": "stream",
     "text": [
      "Sample [3.] , predictions = [1.62661562]\n",
      "Sample [7.] , predictions = [1.62661562]\n",
      "Sample [9.] , predictions = [1.62661562]\n"
     ]
    }
   ],
   "source": [
    "allPrediction = []\n",
    "for k in range(len(X_train)):\n",
    "    predictions = np.zeros(1, dtype=np.float64)\n",
    "    mlp_model.mlpPredict(\n",
    "        nn,\n",
    "        X_train[k].ctypes.data_as(ctypes.POINTER(ctypes.c_double)),\n",
    "        X_train[k].size,\n",
    "        False,\n",
    "        predictions.ctypes.data_as(ctypes.POINTER(ctypes.c_double))\n",
    "    )\n",
    "    allPrediction.append(predictions)\n",
    "    print(\"Sample\", X_train[k], \", predictions =\", predictions)\n",
    "\n",
    "# plotDisplay(X_train, y_train, nn, mlp_model)\n",
    "mlp_model.mlpFree(nn)"
   ]
  },
  {
   "cell_type": "code",
   "execution_count": 18,
   "metadata": {},
   "outputs": [
    {
     "data": {
      "image/png": "[encoded data removed]",
      "text/plain": [
       "<Figure size 640x480 with 1 Axes>"
      ]
     },
     "metadata": {},
     "output_type": "display_data"
    }
   ],
   "source": [
    "plt.scatter(X_train, y_train)\n",
    "plt.scatter(X_train, allPrediction, c='red')\n",
    "plt.show()"
   ]
  },
  {
   "cell_type": "code",
   "execution_count": null,
   "metadata": {},
   "outputs": [],
   "source": []
  }
 ],
 "metadata": {
  "kernelspec": {
   "display_name": "PA",
   "language": "python",
   "name": "python3"
  },
  "language_info": {
   "codemirror_mode": {
    "name": "ipython",
    "version": 3
   },
   "file_extension": ".py",
   "mimetype": "text/x-python",
   "name": "python",
   "nbconvert_exporter": "python",
   "pygments_lexer": "ipython3",
   "version": "3.12.2"
  }
 },
 "nbformat": 4,
 "nbformat_minor": 2
}
