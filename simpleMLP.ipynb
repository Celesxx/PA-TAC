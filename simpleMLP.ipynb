{
 "cells": [
  {
   "cell_type": "code",
   "execution_count": 1,
   "metadata": {},
   "outputs": [],
   "source": [
    "import ctypes\n",
    "import numpy as np\n",
    "import matplotlib.pyplot as plt\n",
    "from tqdm.notebook import tqdm"
   ]
  },
  {
   "cell_type": "code",
   "execution_count": 2,
   "metadata": {},
   "outputs": [],
   "source": [
    "mlp_model = ctypes.CDLL(\"modele/mlp/target/release/libmlp_classification.so\")\n",
    "\n",
    "# Définir les types d'arguments et de retour des fonctions C\n",
    "PROGRESS_CALLBACK = ctypes.CFUNCTYPE(None, ctypes.c_int, ctypes.c_double)\n",
    "mlp_model.mlpInit.argtypes = [ctypes.POINTER(ctypes.c_uint), ctypes.c_size_t, ctypes.c_double]\n",
    "mlp_model.mlpInit.restype = ctypes.POINTER(ctypes.c_void_p)\n",
    "\n",
    "mlp_model.mlpTrain.argtypes = [\n",
    "    ctypes.POINTER(ctypes.c_void_p),\n",
    "    ctypes.POINTER(ctypes.c_double),\n",
    "    ctypes.POINTER(ctypes.c_double),\n",
    "    ctypes.c_size_t,\n",
    "    ctypes.c_size_t,\n",
    "    ctypes.c_size_t,\n",
    "    ctypes.c_size_t,\n",
    "    ctypes.c_size_t,\n",
    "    ctypes.c_bool,\n",
    "    PROGRESS_CALLBACK,\n",
    "    ctypes.c_size_t\n",
    "]\n",
    "mlp_model.mlpTrain.restype = ctypes.c_double\n",
    "\n",
    "\n",
    "mlp_model.mlpPredict.argtypes = [\n",
    "    ctypes.POINTER(ctypes.c_void_p),\n",
    "    ctypes.POINTER(ctypes.c_double),\n",
    "    ctypes.c_size_t,\n",
    "    ctypes.c_bool,\n",
    "    ctypes.POINTER(ctypes.c_double)\n",
    "]\n",
    "mlp_model.mlpPredict.restype = None\n",
    "\n",
    "mlp_model.mlpFree.argtypes = [ctypes.POINTER(ctypes.c_void_p)]\n",
    "mlp_model.mlpFree.restype = None\n"
   ]
  },
  {
   "cell_type": "markdown",
   "metadata": {},
   "source": [
    "# First test case"
   ]
  },
  {
   "cell_type": "code",
   "execution_count": 3,
   "metadata": {},
   "outputs": [
    {
     "name": "stdout",
     "output_type": "stream",
     "text": [
      "layer : 1\n",
      "neural matrix : [NeuralMatrix { matrix: [[-0.31323118643762493, 0.7630317642285571]], bias: [0.0], input_size: 2, output_size: 1 }]\n",
      "vecteur [[0. 0.]\n",
      " [0. 1.]\n",
      " [1. 0.]]\n",
      "vecteur (3, 2)\n"
     ]
    }
   ],
   "source": [
    "parameter = np.array([2, 1], dtype=np.uintp)\n",
    "learning_rate = 0.1\n",
    "epochs = 1000000\n",
    "callback_interval = 100\n",
    "\n",
    "parameter_ptr = parameter.ctypes.data_as(ctypes.POINTER(ctypes.c_uint))\n",
    "nn = mlp_model.mlpInit(parameter_ptr, parameter.size, learning_rate)\n",
    "\n",
    "X_train = np.array([\n",
    "    [0.0, 0.0],\n",
    "    [0.0, 1.0],\n",
    "    [1.0, 0.0]\n",
    "], dtype=np.float64)\n",
    "\n",
    "y_train = np.array([\n",
    "    [-1.0],\n",
    "    [1.0],\n",
    "    [1.0]\n",
    "], dtype=np.float64)\n",
    "\n",
    "print(f'vecteur {X_train}')\n",
    "print(f'vecteur {X_train.shape}')"
   ]
  },
  {
   "cell_type": "code",
   "execution_count": 4,
   "metadata": {},
   "outputs": [
    {
     "data": {
      "application/vnd.jupyter.widget-view+json": {
       "model_id": "eb3ac5f33f444685bdb0f7bf89416e6a",
       "version_major": 2,
       "version_minor": 0
      },
      "text/plain": [
       "Training Progress:   0%|          | 0/1000000 [00:00<?, ?it/s]"
      ]
     },
     "metadata": {},
     "output_type": "display_data"
    }
   ],
   "source": [
    "progress_bar = tqdm(total=epochs, desc=\"Training Progress\")\n",
    "\n",
    "def progress_callback(epochs, loss):\n",
    "    progress_bar.update(callback_interval)\n",
    "    progress_bar.set_postfix(loss=loss)\n",
    "\n",
    "callback_func = PROGRESS_CALLBACK(progress_callback)\n",
    "\n",
    "loss = mlp_model.mlpTrain(\n",
    "    nn,\n",
    "    X_train.ctypes.data_as(ctypes.POINTER(ctypes.c_double)),\n",
    "    y_train.ctypes.data_as(ctypes.POINTER(ctypes.c_double)),\n",
    "    X_train.shape[0],\n",
    "    X_train.shape[1],\n",
    "    1,\n",
    "    epochs,  # Nombre total d'époques\n",
    "    1,\n",
    "    True,  # is_classification\n",
    "    callback_func,  # Fonction de callback\n",
    "    callback_interval  \n",
    ")\n",
    "progress_bar.close()"
   ]
  },
  {
   "cell_type": "code",
   "execution_count": 5,
   "metadata": {},
   "outputs": [
    {
     "name": "stdout",
     "output_type": "stream",
     "text": [
      "Sample [0. 0.] , predictions = [-0.9999405]\n",
      "Sample [0. 1.] , predictions = [0.9999762]\n",
      "Sample [1. 0.] , predictions = [0.9999762]\n"
     ]
    }
   ],
   "source": [
    "for k in range(len(X_train)):\n",
    "    predictions = np.zeros(1, dtype=np.float64)\n",
    "    mlp_model.mlpPredict(\n",
    "        nn,\n",
    "        X_train[k].ctypes.data_as(ctypes.POINTER(ctypes.c_double)),\n",
    "        X_train[k].size,\n",
    "        True,\n",
    "        predictions.ctypes.data_as(ctypes.POINTER(ctypes.c_double))\n",
    "    )\n",
    "    print(\"Sample\", X_train[k], \", predictions =\", predictions)\n",
    "\n",
    "mlp_model.mlpFree(nn)"
   ]
  },
  {
   "cell_type": "markdown",
   "metadata": {},
   "source": [
    "# Xor test case"
   ]
  },
  {
   "cell_type": "code",
   "execution_count": 6,
   "metadata": {},
   "outputs": [
    {
     "name": "stdout",
     "output_type": "stream",
     "text": [
      "layer : 2\n",
      "neural matrix : [NeuralMatrix { matrix: [[0.46626457206765615, 0.8908084395716771], [0.26660317402734046, -0.21125663834197628], [0.670207443785622, -0.3802487127580356]], bias: [0.0, 0.0, 0.0], input_size: 2, output_size: 3 }, NeuralMatrix { matrix: [[0.4857869289816037, 0.014738796039909463, 0.5636678692090973]], bias: [0.0], input_size: 3, output_size: 1 }]\n"
     ]
    }
   ],
   "source": [
    "neurons_size = np.array([2, 3, 1], dtype=np.uintp)\n",
    "learning_rate = 0.001\n",
    "epochs = 1000000\n",
    "callback_interval = 1000\n",
    "\n",
    "parameter_ptr = neurons_size.ctypes.data_as(ctypes.POINTER(ctypes.c_uint))\n",
    "nn = mlp_model.mlpInit(parameter_ptr, neurons_size.size, learning_rate)\n",
    "\n",
    "X_train = np.array([\n",
    "    [0.0, 0.0],\n",
    "    [0.0, 1.0],\n",
    "    [1.0, 0.0],\n",
    "    [1.0, 1.0]\n",
    "], dtype=np.float64)\n",
    "\n",
    "y_train = np.array([\n",
    "    [-1.0],\n",
    "    [1.0],\n",
    "    [1.0],\n",
    "    [-1.0]\n",
    "], dtype=np.float64)"
   ]
  },
  {
   "cell_type": "code",
   "execution_count": 7,
   "metadata": {},
   "outputs": [
    {
     "data": {
      "application/vnd.jupyter.widget-view+json": {
       "model_id": "cb73c71140ce447fa6cc7fd2387bedff",
       "version_major": 2,
       "version_minor": 0
      },
      "text/plain": [
       "Training Progress:   0%|          | 0/1000000 [00:00<?, ?it/s]"
      ]
     },
     "metadata": {},
     "output_type": "display_data"
    }
   ],
   "source": [
    "progress_bar = tqdm(total=epochs, desc=\"Training Progress\")\n",
    "\n",
    "def progress_callback(epochs, loss):\n",
    "    progress_bar.update(callback_interval)\n",
    "    progress_bar.set_postfix(loss=loss)\n",
    "\n",
    "callback_func = PROGRESS_CALLBACK(progress_callback)\n",
    "\n",
    "loss = mlp_model.mlpTrain(\n",
    "    nn,\n",
    "    X_train.ctypes.data_as(ctypes.POINTER(ctypes.c_double)),\n",
    "    y_train.ctypes.data_as(ctypes.POINTER(ctypes.c_double)),\n",
    "    X_train.shape[0],\n",
    "    X_train.shape[1],\n",
    "    1,\n",
    "    epochs,  # Nombre total d'époques\n",
    "    16,\n",
    "    True,  # is_classification\n",
    "    callback_func,  # Fonction de callback\n",
    "    callback_interval  \n",
    ")\n",
    "progress_bar.close()"
   ]
  },
  {
   "cell_type": "code",
   "execution_count": 8,
   "metadata": {},
   "outputs": [
    {
     "name": "stdout",
     "output_type": "stream",
     "text": [
      "Sample [0. 0.] , predictions = [-0.99853411]\n",
      "Sample [0. 1.] , predictions = [0.99864035]\n",
      "Sample [1. 0.] , predictions = [0.99864031]\n",
      "Sample [1. 1.] , predictions = [-0.9986794]\n"
     ]
    }
   ],
   "source": [
    "for k in range(len(X_train)):\n",
    "    predictions = np.zeros(1, dtype=np.float64)\n",
    "    mlp_model.mlpPredict(\n",
    "        nn,\n",
    "        X_train[k].ctypes.data_as(ctypes.POINTER(ctypes.c_double)),\n",
    "        X_train[k].size,\n",
    "        True,\n",
    "        predictions.ctypes.data_as(ctypes.POINTER(ctypes.c_double))\n",
    "    )\n",
    "    print(\"Sample\", X_train[k], \", predictions =\", predictions)\n",
    "mlp_model.mlpFree(nn)"
   ]
  },
  {
   "cell_type": "markdown",
   "metadata": {},
   "source": [
    "# Multi class test"
   ]
  },
  {
   "cell_type": "code",
   "execution_count": 9,
   "metadata": {},
   "outputs": [
    {
     "name": "stdout",
     "output_type": "stream",
     "text": [
      "layer : 1\n",
      "neural matrix : [NeuralMatrix { matrix: [[-0.23959959936843145, 0.3039162160688602], [0.6267960523261049, -0.4271689227211559], [-0.78067338579844, -0.6368446696301016]], bias: [0.0, 0.0, 0.0], input_size: 2, output_size: 3 }]\n"
     ]
    }
   ],
   "source": [
    "neurons_size = np.array([2, 3], dtype=np.uintp)\n",
    "learning_rate = 0.001\n",
    "epochs = 1000000\n",
    "callback_interval = 1000\n",
    "\n",
    "parameter_ptr = neurons_size.ctypes.data_as(ctypes.POINTER(ctypes.c_uint))\n",
    "nn = mlp_model.mlpInit(parameter_ptr, neurons_size.size, learning_rate)\n",
    "\n",
    "X_train = np.array([\n",
    "    [1.0, 1.0],  # Classe A\n",
    "    [5.0, 5.0],  # Classe B\n",
    "    [9.0, 9.0] \n",
    "], dtype=np.float64)\n",
    "\n",
    "y_train = np.array([\n",
    "    [1.0, 0.0, 0.0],  # Classe A\n",
    "    [0.0, 1.0, 0.0],  # Classe B\n",
    "    [0.0, 0.0, 1.0]   # Classe C\n",
    "], dtype=np.float64)\n"
   ]
  },
  {
   "cell_type": "code",
   "execution_count": 10,
   "metadata": {},
   "outputs": [
    {
     "data": {
      "application/vnd.jupyter.widget-view+json": {
       "model_id": "b1a9b9675a82482c991cafd20471aa75",
       "version_major": 2,
       "version_minor": 0
      },
      "text/plain": [
       "Training Progress:   0%|          | 0/1000000 [00:00<?, ?it/s]"
      ]
     },
     "metadata": {},
     "output_type": "display_data"
    }
   ],
   "source": [
    "progress_bar = tqdm(total=epochs, desc=\"Training Progress\")\n",
    "\n",
    "def progress_callback(epochs, loss):\n",
    "    progress_bar.update(callback_interval)\n",
    "    progress_bar.set_postfix(loss=loss)\n",
    "\n",
    "callback_func = PROGRESS_CALLBACK(progress_callback)\n",
    "\n",
    "loss = mlp_model.mlpTrain(\n",
    "    nn,\n",
    "    X_train.ctypes.data_as(ctypes.POINTER(ctypes.c_double)),\n",
    "    y_train.ctypes.data_as(ctypes.POINTER(ctypes.c_double)),\n",
    "    X_train.shape[0],\n",
    "    X_train.shape[1],\n",
    "    3,\n",
    "    epochs,\n",
    "    16,\n",
    "    True,  \n",
    "    callback_func,\n",
    "    callback_interval  \n",
    ")\n",
    "progress_bar.close()"
   ]
  },
  {
   "cell_type": "code",
   "execution_count": 11,
   "metadata": {},
   "outputs": [
    {
     "name": "stdout",
     "output_type": "stream",
     "text": [
      "Sample [1. 1.] , predictions = [9.97190234e-01 2.80976541e-03 4.46040260e-10]\n",
      "Sample [5. 5.] , predictions = [6.12546773e-04 9.92856666e-01 6.53078698e-03]\n",
      "Sample [9. 9.] , predictions = [3.92060434e-12 3.65557392e-03 9.96344426e-01]\n"
     ]
    }
   ],
   "source": [
    "for k in range(len(X_train)):\n",
    "    predictions = np.zeros(3, dtype=np.float64)\n",
    "    mlp_model.mlpPredict(\n",
    "        nn,\n",
    "        X_train[k].ctypes.data_as(ctypes.POINTER(ctypes.c_double)),\n",
    "        X_train[k].size,\n",
    "        True,\n",
    "        predictions.ctypes.data_as(ctypes.POINTER(ctypes.c_double))\n",
    "    )\n",
    "    print(\"Sample\", X_train[k], \", predictions =\", predictions)\n",
    "mlp_model.mlpFree(nn)"
   ]
  },
  {
   "cell_type": "markdown",
   "metadata": {},
   "source": [
    "# Simple linear test"
   ]
  },
  {
   "cell_type": "code",
   "execution_count": 12,
   "metadata": {},
   "outputs": [
    {
     "name": "stdout",
     "output_type": "stream",
     "text": [
      "layer : 1\n",
      "neural matrix : [NeuralMatrix { matrix: [[0.8320288128328697]], bias: [0.0], input_size: 1, output_size: 1 }]\n"
     ]
    }
   ],
   "source": [
    "neurons_size = np.array([1, 1], dtype=np.uintp)\n",
    "learning_rate = 0.001\n",
    "epochs = 1000000\n",
    "callback_interval = 1000\n",
    "\n",
    "parameter_ptr = neurons_size.ctypes.data_as(ctypes.POINTER(ctypes.c_uint))\n",
    "nn = mlp_model.mlpInit(parameter_ptr, neurons_size.size, learning_rate)\n",
    "\n",
    "X_train = np.array([\n",
    "    [3.0],\n",
    "    [7.0],\n",
    "], dtype=np.float64)\n",
    "\n",
    "y_train = np.array([\n",
    "    [8.0],\n",
    "    [2.0],\n",
    "], dtype=np.float64)"
   ]
  },
  {
   "cell_type": "code",
   "execution_count": 13,
   "metadata": {},
   "outputs": [
    {
     "data": {
      "application/vnd.jupyter.widget-view+json": {
       "model_id": "b255397d08f44bed8d0dcbdfda2de64d",
       "version_major": 2,
       "version_minor": 0
      },
      "text/plain": [
       "Training Progress:   0%|          | 0/1000000 [00:00<?, ?it/s]"
      ]
     },
     "metadata": {},
     "output_type": "display_data"
    }
   ],
   "source": [
    "progress_bar = tqdm(total=epochs, desc=\"Training Progress\")\n",
    "\n",
    "def progress_callback(epochs, loss):\n",
    "    progress_bar.update(callback_interval)\n",
    "    progress_bar.set_postfix(loss=loss)\n",
    "\n",
    "callback_func = PROGRESS_CALLBACK(progress_callback)\n",
    "\n",
    "loss = mlp_model.mlpTrain(\n",
    "    nn,\n",
    "    X_train.ctypes.data_as(ctypes.POINTER(ctypes.c_double)),\n",
    "    y_train.ctypes.data_as(ctypes.POINTER(ctypes.c_double)),\n",
    "    X_train.shape[0],\n",
    "    X_train.shape[1],\n",
    "    1,\n",
    "    epochs,\n",
    "    1,\n",
    "    False,\n",
    "    callback_func,\n",
    "    callback_interval  \n",
    ")\n",
    "progress_bar.close()"
   ]
  },
  {
   "cell_type": "code",
   "execution_count": 14,
   "metadata": {},
   "outputs": [
    {
     "name": "stdout",
     "output_type": "stream",
     "text": [
      "Sample [3.] , predictions = [8.]\n",
      "Sample [7.] , predictions = [2.]\n"
     ]
    }
   ],
   "source": [
    "for k in range(len(X_train)):\n",
    "    predictions = np.zeros(1, dtype=np.float64)\n",
    "    mlp_model.mlpPredict(\n",
    "        nn,\n",
    "        X_train[k].ctypes.data_as(ctypes.POINTER(ctypes.c_double)),\n",
    "        X_train[k].size,\n",
    "        False,\n",
    "        predictions.ctypes.data_as(ctypes.POINTER(ctypes.c_double))\n",
    "    )\n",
    "    print(\"Sample\", X_train[k], \", predictions =\", predictions)\n",
    "mlp_model.mlpFree(nn)"
   ]
  },
  {
   "cell_type": "markdown",
   "metadata": {},
   "source": [
    "# Linear test"
   ]
  },
  {
   "cell_type": "code",
   "execution_count": 15,
   "metadata": {},
   "outputs": [
    {
     "name": "stdout",
     "output_type": "stream",
     "text": [
      "layer : 1\n",
      "neural matrix : [NeuralMatrix { matrix: [[0.3039069364161402]], bias: [0.0], input_size: 1, output_size: 1 }]\n"
     ]
    }
   ],
   "source": [
    "neurons_size = np.array([1, 1], dtype=np.uintp)\n",
    "learning_rate = 0.001\n",
    "epochs = 100000\n",
    "callback_interval = 1000\n",
    "\n",
    "parameter_ptr = neurons_size.ctypes.data_as(ctypes.POINTER(ctypes.c_uint))\n",
    "nn = mlp_model.mlpInit(parameter_ptr, neurons_size.size, learning_rate)\n",
    "\n",
    "X_train = np.array([\n",
    "    [3.0],\n",
    "    [7.0],\n",
    "    [9.0],\n",
    "], dtype=np.float64)\n",
    "\n",
    "y_train = np.array([\n",
    "    [8.0],\n",
    "    [2.0],\n",
    "    [6.0],\n",
    "], dtype=np.float64)"
   ]
  },
  {
   "cell_type": "code",
   "execution_count": 16,
   "metadata": {},
   "outputs": [
    {
     "data": {
      "application/vnd.jupyter.widget-view+json": {
       "model_id": "98d6d84950f2457783b7315b6b25e16d",
       "version_major": 2,
       "version_minor": 0
      },
      "text/plain": [
       "Training Progress:   0%|          | 0/100000 [00:00<?, ?it/s]"
      ]
     },
     "metadata": {},
     "output_type": "display_data"
    }
   ],
   "source": [
    "progress_bar = tqdm(total=epochs, desc=\"Training Progress\")\n",
    "\n",
    "def progress_callback(epochs, loss):\n",
    "    progress_bar.update(callback_interval)\n",
    "    progress_bar.set_postfix(loss=loss)\n",
    "\n",
    "callback_func = PROGRESS_CALLBACK(progress_callback)\n",
    "\n",
    "loss = mlp_model.mlpTrain(\n",
    "    nn,\n",
    "    X_train.ctypes.data_as(ctypes.POINTER(ctypes.c_double)),\n",
    "    y_train.ctypes.data_as(ctypes.POINTER(ctypes.c_double)),\n",
    "    X_train.shape[0],\n",
    "    X_train.shape[1],\n",
    "    1,\n",
    "    epochs,\n",
    "    16,\n",
    "    False,\n",
    "    callback_func,\n",
    "    callback_interval  \n",
    ")\n",
    "progress_bar.close()"
   ]
  },
  {
   "cell_type": "code",
   "execution_count": 17,
   "metadata": {},
   "outputs": [
    {
     "name": "stdout",
     "output_type": "stream",
     "text": [
      "Sample [3.] , predictions = [6.98901604]\n",
      "Sample [7.] , predictions = [5.03605573]\n",
      "Sample [9.] , predictions = [4.05957558]\n"
     ]
    }
   ],
   "source": [
    "allPrediction = []\n",
    "for k in range(len(X_train)):\n",
    "    predictions = np.zeros(1, dtype=np.float64)\n",
    "    mlp_model.mlpPredict(\n",
    "        nn,\n",
    "        X_train[k].ctypes.data_as(ctypes.POINTER(ctypes.c_double)),\n",
    "        X_train[k].size,\n",
    "        False,\n",
    "        predictions.ctypes.data_as(ctypes.POINTER(ctypes.c_double))\n",
    "    )\n",
    "    allPrediction.append(predictions)\n",
    "    print(\"Sample\", X_train[k], \", predictions =\", predictions)\n",
    "mlp_model.mlpFree(nn)"
   ]
  },
  {
   "cell_type": "code",
   "execution_count": 18,
   "metadata": {},
   "outputs": [
    {
     "data": {
      "image/png": "[encoded data removed]",
      "text/plain": [
       "<Figure size 640x480 with 1 Axes>"
      ]
     },
     "metadata": {},
     "output_type": "display_data"
    }
   ],
   "source": [
    "plt.scatter(X_train, y_train)\n",
    "plt.scatter(X_train, allPrediction, c='red')\n",
    "plt.show()"
   ]
  },
  {
   "cell_type": "code",
   "execution_count": null,
   "metadata": {},
   "outputs": [],
   "source": []
  }
 ],
 "metadata": {
  "kernelspec": {
   "display_name": "PA",
   "language": "python",
   "name": "python3"
  },
  "language_info": {
   "codemirror_mode": {
    "name": "ipython",
    "version": 3
   },
   "file_extension": ".py",
   "mimetype": "text/x-python",
   "name": "python",
   "nbconvert_exporter": "python",
   "pygments_lexer": "ipython3",
   "version": "3.12.2"
  }
 },
 "nbformat": 4,
 "nbformat_minor": 2
}
