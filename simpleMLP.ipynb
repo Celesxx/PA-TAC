{
 "cells": [
  {
   "cell_type": "code",
   "execution_count": 1,
   "metadata": {},
   "outputs": [],
   "source": [
    "import ctypes\n",
    "import numpy as np\n",
    "import matplotlib.pyplot as plt\n",
    "from tqdm.notebook import tqdm\n",
    "from script.plotDisplay import plotDisplay"
   ]
  },
  {
   "cell_type": "code",
   "execution_count": 2,
   "metadata": {},
   "outputs": [],
   "source": [
    "mlp_model = ctypes.CDLL(\"modele/mlp/target/release/libmlp_classification.so\")\n",
    "\n",
    "# Définir les types d'arguments et de retour des fonctions C\n",
    "PROGRESS_CALLBACK = ctypes.CFUNCTYPE(None, ctypes.c_int, ctypes.c_double)\n",
    "mlp_model.mlpInit.argtypes = [ctypes.POINTER(ctypes.c_size_t), ctypes.c_size_t, ctypes.c_double]\n",
    "mlp_model.mlpInit.restype = ctypes.c_void_p\n",
    "\n",
    "mlp_model.mlpTrain.argtypes = [\n",
    "    ctypes.c_void_p,\n",
    "    ctypes.POINTER(ctypes.c_double),\n",
    "    ctypes.POINTER(ctypes.c_double),\n",
    "    ctypes.c_size_t,\n",
    "    ctypes.c_size_t,\n",
    "    ctypes.c_size_t,\n",
    "    ctypes.c_size_t,\n",
    "    ctypes.c_size_t,\n",
    "    ctypes.c_bool,\n",
    "    PROGRESS_CALLBACK,\n",
    "    ctypes.c_size_t,\n",
    "    ctypes.c_bool,\n",
    "    ctypes.c_size_t,\n",
    "    ctypes.c_bool,\n",
    "    ctypes.c_char_p  \n",
    "]\n",
    "mlp_model.mlpTrain.restype = None\n",
    "\n",
    "\n",
    "mlp_model.mlpPredict.argtypes = [\n",
    "    ctypes.c_void_p,\n",
    "    ctypes.POINTER(ctypes.c_double),\n",
    "    ctypes.c_size_t,\n",
    "    ctypes.c_bool,\n",
    "    ctypes.POINTER(ctypes.c_double)\n",
    "]\n",
    "mlp_model.mlpPredict.restype = None\n",
    "\n",
    "mlp_model.mlpFree.argtypes = [ctypes.c_void_p]\n",
    "mlp_model.mlpFree.restype = None"
   ]
  },
  {
   "cell_type": "markdown",
   "metadata": {},
   "source": [
    "# First test case"
   ]
  },
  {
   "cell_type": "code",
   "execution_count": 3,
   "metadata": {},
   "outputs": [
    {
     "name": "stdout",
     "output_type": "stream",
     "text": [
      "vecteur [[0. 0.]\n",
      " [0. 1.]\n",
      " [1. 0.]]\n",
      "vecteur (3, 2)\n",
      "layer : 1\n",
      "neural matrix : [NeuralMatrix { matrix: [[-0.5185478909812056, 0.09044212409931296]], bias: [0.0], input_size: 2, output_size: 1 }]\n"
     ]
    }
   ],
   "source": [
    "parameter = np.array([2, 1], dtype=np.uintp)\n",
    "learning_rate = 0.1\n",
    "epochs = 1000000\n",
    "checkpoint_interval = 1000\n",
    "callback_interval = 1000\n",
    "checkpoint_enable = False\n",
    "log_enable = False\n",
    "log_tag = \"simpleTestCase\".encode('utf-8')\n",
    "\n",
    "# tensorboard_dir = \"./log/\"\n",
    "parameter_ptr = parameter.ctypes.data_as(ctypes.POINTER(ctypes.c_size_t))\n",
    "nn = mlp_model.mlpInit(parameter_ptr, parameter.size, learning_rate)\n",
    "\n",
    "X_train = np.array([\n",
    "    [0.0, 0.0],\n",
    "    [0.0, 1.0],\n",
    "    [1.0, 0.0]\n",
    "], dtype=np.float64)\n",
    "\n",
    "y_train = np.array([\n",
    "    [1.0],\n",
    "    [-1.0],\n",
    "    [1.0]\n",
    "], dtype=np.float64)\n",
    "\n",
    "print(f'vecteur {X_train}')\n",
    "print(f'vecteur {X_train.shape}')"
   ]
  },
  {
   "cell_type": "code",
   "execution_count": 4,
   "metadata": {},
   "outputs": [
    {
     "data": {
      "application/vnd.jupyter.widget-view+json": {
       "model_id": "60c8919d14d043fb965bdc8f75ce2145",
       "version_major": 2,
       "version_minor": 0
      },
      "text/plain": [
       "Training Progress:   0%|          | 0/1000000 [00:00<?, ?it/s]"
      ]
     },
     "metadata": {},
     "output_type": "display_data"
    }
   ],
   "source": [
    "progress_bar = tqdm(total=epochs, desc=\"Training Progress\")\n",
    "\n",
    "def progress_callback(epochs, loss):\n",
    "    progress_bar.update(callback_interval)\n",
    "    progress_bar.set_postfix(loss=loss)\n",
    "\n",
    "callback_func = PROGRESS_CALLBACK(progress_callback)\n",
    "\n",
    "loss = mlp_model.mlpTrain(\n",
    "    nn,\n",
    "    X_train.ctypes.data_as(ctypes.POINTER(ctypes.c_double)),\n",
    "    y_train.ctypes.data_as(ctypes.POINTER(ctypes.c_double)),\n",
    "    X_train.shape[0],\n",
    "    X_train.shape[1],\n",
    "    1,\n",
    "    epochs,  # Nombre total d'époques\n",
    "    1,\n",
    "    True,  # is_classification\n",
    "    callback_func,  # Fonction de callback\n",
    "    callback_interval,\n",
    "    checkpoint_enable,\n",
    "    callback_interval,\n",
    "    log_enable,\n",
    "    log_tag,\n",
    ")\n",
    "progress_bar.close()"
   ]
  },
  {
   "cell_type": "code",
   "execution_count": 5,
   "metadata": {},
   "outputs": [
    {
     "name": "stdout",
     "output_type": "stream",
     "text": [
      "Sample [0. 0.] , predictions = [0.99996561]\n",
      "Sample [0. 1.] , predictions = [-0.99997625]\n",
      "Sample [1. 0.] , predictions = [0.99999879]\n",
      "ndim = 1\n"
     ]
    },
    {
     "data": {
      "image/png": "[encoded data removed]",
      "text/plain": [
       "<Figure size 640x480 with 1 Axes>"
      ]
     },
     "metadata": {},
     "output_type": "display_data"
    }
   ],
   "source": [
    "for k in range(len(X_train)):\n",
    "    predictions = np.zeros(1, dtype=np.float64)\n",
    "    mlp_model.mlpPredict(\n",
    "        nn,\n",
    "        X_train[k].ctypes.data_as(ctypes.POINTER(ctypes.c_double)),\n",
    "        X_train[k].size,\n",
    "        True,\n",
    "        predictions.ctypes.data_as(ctypes.POINTER(ctypes.c_double))\n",
    "    )\n",
    "    print(\"Sample\", X_train[k], \", predictions =\", predictions)\n",
    "\n",
    "\n",
    "plotDisplay(X_train, y_train, nn, mlp_model)\n",
    "\n",
    "\n",
    "mlp_model.mlpFree(nn)"
   ]
  },
  {
   "cell_type": "markdown",
   "metadata": {},
   "source": [
    "# Xor test case"
   ]
  },
  {
   "cell_type": "code",
   "execution_count": 6,
   "metadata": {},
   "outputs": [
    {
     "name": "stdout",
     "output_type": "stream",
     "text": [
      "layer : 2\n",
      "neural matrix : [NeuralMatrix { matrix: [[0.8308783370549149, -0.7828199115891818], [0.7062267598047511, 0.8505956177191969], [-0.11096910822471484, -0.28760809270744936]], bias: [0.0, 0.0, 0.0], input_size: 2, output_size: 3 }, NeuralMatrix { matrix: [[-0.07975865167764828, 0.6442171209664305, -0.9288618050729816]], bias: [0.0], input_size: 3, output_size: 1 }]\n"
     ]
    }
   ],
   "source": [
    "neurons_size = np.array([2, 3, 1], dtype=np.uintp)\n",
    "learning_rate = 0.001\n",
    "epochs = 10000000\n",
    "callback_interval = 100000\n",
    "checkpoint_enable = False\n",
    "callback_interval = 10000\n",
    "log_enable = False\n",
    "log_tag = \"xorTestCase\".encode('utf-8')\n",
    "\n",
    "parameter_ptr = neurons_size.ctypes.data_as(ctypes.POINTER(ctypes.c_size_t))\n",
    "nn = mlp_model.mlpInit(parameter_ptr, neurons_size.size, learning_rate)\n",
    "\n",
    "X_train = np.array([\n",
    "    [0.0, 0.0],\n",
    "    [0.0, 1.0],\n",
    "    [1.0, 0.0],\n",
    "    [1.0, 1.0]\n",
    "], dtype=np.float64)\n",
    "\n",
    "y_train = np.array([\n",
    "    [-1.0],\n",
    "    [1.0],\n",
    "    [1.0],\n",
    "    [-1.0]\n",
    "], dtype=np.float64)"
   ]
  },
  {
   "cell_type": "code",
   "execution_count": 7,
   "metadata": {},
   "outputs": [
    {
     "data": {
      "application/vnd.jupyter.widget-view+json": {
       "model_id": "5ac0085ea63546c498fda8cf27c4e540",
       "version_major": 2,
       "version_minor": 0
      },
      "text/plain": [
       "Training Progress:   0%|          | 0/10000000 [00:00<?, ?it/s]"
      ]
     },
     "metadata": {},
     "output_type": "display_data"
    }
   ],
   "source": [
    "progress_bar = tqdm(total=epochs, desc=\"Training Progress\")\n",
    "\n",
    "def progress_callback(epochs, loss):\n",
    "    progress_bar.update(callback_interval)\n",
    "    progress_bar.set_postfix(loss=loss)\n",
    "\n",
    "callback_func = PROGRESS_CALLBACK(progress_callback)\n",
    "\n",
    "loss = mlp_model.mlpTrain(\n",
    "    nn,\n",
    "    X_train.ctypes.data_as(ctypes.POINTER(ctypes.c_double)),\n",
    "    y_train.ctypes.data_as(ctypes.POINTER(ctypes.c_double)),\n",
    "    X_train.shape[0],\n",
    "    X_train.shape[1],\n",
    "    1,\n",
    "    epochs,\n",
    "    1,\n",
    "    True, \n",
    "    callback_func,\n",
    "    callback_interval,\n",
    "    checkpoint_enable,\n",
    "    callback_interval,\n",
    "    log_enable,\n",
    "    log_tag,\n",
    ")\n",
    "progress_bar.close()"
   ]
  },
  {
   "cell_type": "code",
   "execution_count": 8,
   "metadata": {},
   "outputs": [
    {
     "name": "stdout",
     "output_type": "stream",
     "text": [
      "Sample [0. 0.] , predictions = [-0.99934737]\n",
      "Sample [0. 1.] , predictions = [0.33410515]\n",
      "Sample [1. 0.] , predictions = [0.33410515]\n",
      "Sample [1. 1.] , predictions = [0.33410515]\n",
      "ndim = 1\n"
     ]
    },
    {
     "data": {
      "image/png": "[encoded data removed]",
      "text/plain": [
       "<Figure size 640x480 with 1 Axes>"
      ]
     },
     "metadata": {},
     "output_type": "display_data"
    }
   ],
   "source": [
    "predictions = []\n",
    "for k in range(len(X_train)):\n",
    "    prediction = np.zeros(1, dtype=np.float64)\n",
    "    mlp_model.mlpPredict(\n",
    "        nn,\n",
    "        X_train[k].ctypes.data_as(ctypes.POINTER(ctypes.c_double)),\n",
    "        X_train[k].size,\n",
    "        True,\n",
    "        prediction.ctypes.data_as(ctypes.POINTER(ctypes.c_double))\n",
    "    )\n",
    "    predictions.append(prediction.tolist())\n",
    "    print(\"Sample\", X_train[k], \", predictions =\", prediction)\n",
    "\n",
    "\n",
    "plotDisplay(X_train, y_train, nn, mlp_model)\n",
    "\n",
    "mlp_model.mlpFree(nn)"
   ]
  },
  {
   "cell_type": "markdown",
   "metadata": {},
   "source": [
    "# Multi class test"
   ]
  },
  {
   "cell_type": "code",
   "execution_count": 9,
   "metadata": {},
   "outputs": [
    {
     "name": "stdout",
     "output_type": "stream",
     "text": [
      "layer : 1\n",
      "neural matrix : [NeuralMatrix { matrix: [[0.9872077519283238, -0.9425768082615069], [0.7745130374590556, 0.17965248539926826], [0.09224122722719663, 0.11816120693037346]], bias: [0.0, 0.0, 0.0], input_size: 2, output_size: 3 }]\n"
     ]
    }
   ],
   "source": [
    "neurons_size = np.array([2, 3], dtype=np.uintp)\n",
    "learning_rate = 0.001\n",
    "epochs = 1000000\n",
    "callback_interval = 1000\n",
    "checkpoint_enable = False\n",
    "callback_interval = 1000\n",
    "log_enable = False\n",
    "log_tag = \"simpleMultiTestCase\".encode('utf-8')\n",
    "\n",
    "parameter_ptr = neurons_size.ctypes.data_as(ctypes.POINTER(ctypes.c_size_t))\n",
    "nn = mlp_model.mlpInit(parameter_ptr, neurons_size.size, learning_rate)\n",
    "\n",
    "X_train = np.array([\n",
    "    [1.0, 1.0],  # Classe A\n",
    "    [5.0, 5.0],  # Classe B\n",
    "    [0, 3.0] \n",
    "], dtype=np.float64)\n",
    "\n",
    "y_train = np.array([\n",
    "    [1.0, 0.0, 0.0],  # Classe A\n",
    "    [0.0, 1.0, 0.0],  # Classe B\n",
    "    [0.0, 0.0, 1.0]   # Classe C\n",
    "], dtype=np.float64)\n"
   ]
  },
  {
   "cell_type": "code",
   "execution_count": 10,
   "metadata": {},
   "outputs": [
    {
     "data": {
      "application/vnd.jupyter.widget-view+json": {
       "model_id": "e85588e174e143508626ad399016b537",
       "version_major": 2,
       "version_minor": 0
      },
      "text/plain": [
       "Training Progress:   0%|          | 0/1000000 [00:00<?, ?it/s]"
      ]
     },
     "metadata": {},
     "output_type": "display_data"
    }
   ],
   "source": [
    "progress_bar = tqdm(total=epochs, desc=\"Training Progress\")\n",
    "\n",
    "def progress_callback(epochs, loss):\n",
    "    progress_bar.update(callback_interval)\n",
    "    progress_bar.set_postfix(loss=loss)\n",
    "\n",
    "callback_func = PROGRESS_CALLBACK(progress_callback)\n",
    "\n",
    "loss = mlp_model.mlpTrain(\n",
    "    nn,\n",
    "    X_train.ctypes.data_as(ctypes.POINTER(ctypes.c_double)),\n",
    "    y_train.ctypes.data_as(ctypes.POINTER(ctypes.c_double)),\n",
    "    X_train.shape[0],\n",
    "    X_train.shape[1],\n",
    "    3,\n",
    "    epochs,\n",
    "    16,\n",
    "    True,  \n",
    "    callback_func,\n",
    "    callback_interval,\n",
    "    checkpoint_enable,\n",
    "    callback_interval,\n",
    "    log_enable,\n",
    "    log_tag,\n",
    ")\n",
    "progress_bar.close()"
   ]
  },
  {
   "cell_type": "code",
   "execution_count": 11,
   "metadata": {},
   "outputs": [
    {
     "name": "stdout",
     "output_type": "stream",
     "text": [
      "Sample [1. 1.] , predictions = [0.97150902 0.01788449 0.01060649]\n",
      "Sample [5. 5.] , predictions = [1.06887971e-02 9.89286671e-01 2.45321759e-05]\n",
      "Sample [0. 3.] , predictions = [0.00898285 0.00332136 0.98769579]\n",
      "ndim = multi\n"
     ]
    },
    {
     "data": {
      "image/png": "[encoded data removed]",
      "text/plain": [
       "<Figure size 640x480 with 1 Axes>"
      ]
     },
     "metadata": {},
     "output_type": "display_data"
    }
   ],
   "source": [
    "for k in range(len(X_train)):\n",
    "    predictions = np.zeros(3, dtype=np.float64)\n",
    "    mlp_model.mlpPredict(\n",
    "        nn,\n",
    "        X_train[k].ctypes.data_as(ctypes.POINTER(ctypes.c_double)),\n",
    "        X_train[k].size,\n",
    "        True,\n",
    "        predictions.ctypes.data_as(ctypes.POINTER(ctypes.c_double))\n",
    "    )\n",
    "    print(\"Sample\", X_train[k], \", predictions =\", predictions)\n",
    "\n",
    "plotDisplay(X_train, y_train, nn, mlp_model)\n",
    "\n",
    "mlp_model.mlpFree(nn)"
   ]
  },
  {
   "cell_type": "code",
   "execution_count": 12,
   "metadata": {},
   "outputs": [
    {
     "name": "stdout",
     "output_type": "stream",
     "text": [
      "layer : 3\n",
      "neural matrix : [NeuralMatrix { matrix: [[-0.9209411100875391, 0.4051237016792717], [0.8852671763262094, 0.9890781305781879], [-0.36531832018265886, -0.49297131993565246], [0.8776984421750118, -0.8767313129307612], [0.9744513444712521, 0.4520056063053004], [-0.4327617670085706, -0.3757969516190771], [0.9128010889400264, 0.21544316532715913], [0.6405869038855223, 0.6416351230339608], [-0.06437785359034054, 0.8738098101480376], [-0.6378734664823198, -0.5072588816514805]], bias: [0.0, 0.0, 0.0, 0.0, 0.0, 0.0, 0.0, 0.0, 0.0, 0.0], input_size: 2, output_size: 10 }, NeuralMatrix { matrix: [[0.6266331683616215, 0.1991097141962359, -0.29960514673343486, -0.010056878694447047, -0.05230100017631223, -0.055147963263410205, -0.40183961961570747, -0.3478855265731031, -0.3293044456933263, 0.5139028163173318], [0.5322346066353671, -0.7988926647224037, -0.027075362690879068, -0.9085511206795083, 0.479661706298645, -0.182944618600962, -0.6559840222976505, -0.8434355937729499, -0.2589616859481847, 0.8794730077816642], [-0.8048724452898575, 0.903430248327862, 0.7451551194442732, -0.2320447064796345, 0.5544002415327993, 0.14099098296844792, -0.016854773245844168, 0.21176107130978883, 0.9992391388015083, -0.6662897535537597], [-0.16059965846928748, -0.2593449810099129, -0.2719824718941175, 0.2220432812502109, -0.8894923266170744, -0.9976926938812478, -0.6758489016250722, 0.4363073588081625, 0.15837308180710696, -0.3351456499600909], [-0.2131433562203937, -0.9382018355687793, 0.8436919425725735, -0.8795750197927963, -0.4999481506564436, -0.8808533280090485, -0.24088556778648007, -0.6253063212471694, -0.1813421974447733, 0.6672176993618599]], bias: [0.0, 0.0, 0.0, 0.0, 0.0], input_size: 10, output_size: 5 }, NeuralMatrix { matrix: [[0.2691200747591611, 0.7106861161887945, 0.8294846257160358, -0.64189803775903, -0.10706953341092262]], bias: [0.0], input_size: 5, output_size: 1 }]\n"
     ]
    }
   ],
   "source": [
    "\n",
    "# X_train = np.random.random((1000, 2)) * 2.0 - 1.0\n",
    "# y_train = np.array([\n",
    "#     [1, 0, 0] if abs(p[0] % 0.5) <= 0.25 and abs(p[1] % 0.5) > 0.25 else \n",
    "#     [0, 1, 0] if abs(p[0] % 0.5) > 0.25 and abs(p[1] % 0.5) <= 0.25 else \n",
    "#     [0, 0, 1] \n",
    "#     for p in X_train\n",
    "# ])\n",
    "\n",
    "# X_train = np.random.random((500, 2)) * 2.0 - 1.0\n",
    "# y_train = np.array([[1, 0, 0] if -p[0] - p[1] - 0.5 > 0 and p[1] < 0 and p[0] - p[1] - 0.5 < 0 else\n",
    "#               [0, 1, 0] if -p[0] - p[1] - 0.5 < 0 and p[1] > 0 and p[0] - p[1] - 0.5 < 0 else\n",
    "#               [0, 0, 1] if -p[0] - p[1] - 0.5 < 0 and p[1] < 0 and p[0] - p[1] - 0.5 > 0 else\n",
    "#               [0, 0, 0]for p in X_train])\n",
    "\n",
    "# X_train = X_train[[not np.all(arr == [0, 0, 0]) for arr in y_train]]\n",
    "# y_train = y_train[[not np.all(arr == [0, 0, 0]) for arr in y_train]]\n",
    "\n",
    "X_train = np.random.random((500, 2)) * 2.0 - 1.0\n",
    "y_train = np.array([[1.0] if abs(p[0]) <= 0.3 or abs(p[1]) <= 0.3 else [-1.0] for p in X_train])\n",
    "\n",
    "\n",
    "neurons_size = np.array([2, 10, 5, 1], dtype=np.uintp)\n",
    "learning_rate = 0.0001\n",
    "epochs = 1000000\n",
    "callback_interval = 1000\n",
    "checkpoint_enable = False\n",
    "callback_interval = 1000\n",
    "log_enable = False\n",
    "log_tag = \"crossLinearTestCase\".encode('utf-8')\n",
    "parameter_ptr = neurons_size.ctypes.data_as(ctypes.POINTER(ctypes.c_size_t))\n",
    "nn = mlp_model.mlpInit(parameter_ptr, neurons_size.size, learning_rate)\n",
    "\n",
    "# print(X_train)\n",
    "# print(y_train)\n"
   ]
  },
  {
   "cell_type": "code",
   "execution_count": 13,
   "metadata": {},
   "outputs": [
    {
     "data": {
      "application/vnd.jupyter.widget-view+json": {
       "model_id": "3da245c457e14e108e8eaf2c5facc9d3",
       "version_major": 2,
       "version_minor": 0
      },
      "text/plain": [
       "Training Progress:   0%|          | 0/1000000 [00:00<?, ?it/s]"
      ]
     },
     "metadata": {},
     "output_type": "display_data"
    }
   ],
   "source": [
    "progress_bar = tqdm(total=epochs, desc=\"Training Progress\")\n",
    "\n",
    "def progress_callback(epochs, loss):\n",
    "    progress_bar.update(callback_interval)\n",
    "    progress_bar.set_postfix(loss=loss)\n",
    "\n",
    "callback_func = PROGRESS_CALLBACK(progress_callback)\n",
    "\n",
    "loss = mlp_model.mlpTrain(\n",
    "    nn,\n",
    "    X_train.ctypes.data_as(ctypes.POINTER(ctypes.c_double)),\n",
    "    y_train.ctypes.data_as(ctypes.POINTER(ctypes.c_double)),\n",
    "    X_train.shape[0],\n",
    "    X_train.shape[1],\n",
    "    1,\n",
    "    epochs,\n",
    "    1,\n",
    "    True,  \n",
    "    callback_func,\n",
    "    callback_interval,\n",
    "    checkpoint_enable,\n",
    "    callback_interval,\n",
    "    log_enable,\n",
    "    log_tag,\n",
    ")\n",
    "progress_bar.close()"
   ]
  },
  {
   "cell_type": "code",
   "execution_count": 14,
   "metadata": {},
   "outputs": [
    {
     "name": "stdout",
     "output_type": "stream",
     "text": [
      "ndim = 1\n"
     ]
    },
    {
     "data": {
      "image/png": "[encoded data removed]",
      "text/plain": [
       "<Figure size 640x480 with 1 Axes>"
      ]
     },
     "metadata": {},
     "output_type": "display_data"
    }
   ],
   "source": [
    "plotDisplay(X_train, y_train, nn, mlp_model)\n",
    "mlp_model.mlpFree(nn)"
   ]
  },
  {
   "cell_type": "markdown",
   "metadata": {},
   "source": [
    "# Simple linear test"
   ]
  },
  {
   "cell_type": "code",
   "execution_count": 15,
   "metadata": {},
   "outputs": [
    {
     "name": "stdout",
     "output_type": "stream",
     "text": [
      "layer : 1\n",
      "neural matrix : [NeuralMatrix { matrix: [[-0.12572158369353037]], bias: [0.0], input_size: 1, output_size: 1 }]\n"
     ]
    }
   ],
   "source": [
    "neurons_size = np.array([1, 1], dtype=np.uintp)\n",
    "learning_rate = 0.001\n",
    "epochs = 1000000\n",
    "callback_interval = 1000\n",
    "checkpoint_enable = False\n",
    "callback_interval = 1000\n",
    "log_enable = False\n",
    "log_tag = \"simpleLinearTestCase\".encode('utf-8')\n",
    "parameter_ptr = neurons_size.ctypes.data_as(ctypes.POINTER(ctypes.c_size_t))\n",
    "nn = mlp_model.mlpInit(parameter_ptr, neurons_size.size, learning_rate)\n",
    "\n",
    "X_train = np.array([\n",
    "    [3.0],\n",
    "    [7.0],\n",
    "], dtype=np.float64)\n",
    "\n",
    "y_train = np.array([\n",
    "    [-3.0],\n",
    "    [2.0],\n",
    "], dtype=np.float64)"
   ]
  },
  {
   "cell_type": "code",
   "execution_count": 16,
   "metadata": {},
   "outputs": [
    {
     "data": {
      "application/vnd.jupyter.widget-view+json": {
       "model_id": "7ce380b9607245df9a54e49f5b5de1c4",
       "version_major": 2,
       "version_minor": 0
      },
      "text/plain": [
       "Training Progress:   0%|          | 0/1000000 [00:00<?, ?it/s]"
      ]
     },
     "metadata": {},
     "output_type": "display_data"
    }
   ],
   "source": [
    "progress_bar = tqdm(total=epochs, desc=\"Training Progress\")\n",
    "\n",
    "def progress_callback(epochs, loss):\n",
    "    progress_bar.update(callback_interval)\n",
    "    progress_bar.set_postfix(loss=loss)\n",
    "\n",
    "callback_func = PROGRESS_CALLBACK(progress_callback)\n",
    "\n",
    "loss = mlp_model.mlpTrain(\n",
    "    nn,\n",
    "    X_train.ctypes.data_as(ctypes.POINTER(ctypes.c_double)),\n",
    "    y_train.ctypes.data_as(ctypes.POINTER(ctypes.c_double)),\n",
    "    X_train.shape[0],\n",
    "    X_train.shape[1],\n",
    "    1,\n",
    "    epochs,\n",
    "    1,\n",
    "    False,\n",
    "    callback_func,\n",
    "    callback_interval,\n",
    "    checkpoint_enable,\n",
    "    callback_interval,\n",
    "    log_enable,\n",
    "    log_tag\n",
    ")\n",
    "progress_bar.close()"
   ]
  },
  {
   "cell_type": "code",
   "execution_count": 17,
   "metadata": {},
   "outputs": [
    {
     "name": "stdout",
     "output_type": "stream",
     "text": [
      "Sample [3.] , predictions = [-3.]\n",
      "Sample [7.] , predictions = [2.]\n"
     ]
    }
   ],
   "source": [
    "for k in range(len(X_train)):\n",
    "    predictions = np.zeros(1, dtype=np.float64)\n",
    "    mlp_model.mlpPredict(\n",
    "        nn,\n",
    "        X_train[k].ctypes.data_as(ctypes.POINTER(ctypes.c_double)),\n",
    "        X_train[k].size,\n",
    "        False,\n",
    "        predictions.ctypes.data_as(ctypes.POINTER(ctypes.c_double))\n",
    "    )\n",
    "    print(\"Sample\", X_train[k], \", predictions =\", predictions)\n",
    "\n",
    "# plotDisplay(X_train, y_train, nn, mlp_model)\n",
    "mlp_model.mlpFree(nn)"
   ]
  },
  {
   "cell_type": "markdown",
   "metadata": {},
   "source": [
    "# Linear test"
   ]
  },
  {
   "cell_type": "code",
   "execution_count": 18,
   "metadata": {},
   "outputs": [
    {
     "name": "stdout",
     "output_type": "stream",
     "text": [
      "layer : 2\n",
      "neural matrix : [NeuralMatrix { matrix: [[-0.889900006036314], [0.1736037607707499], [-0.4312539785968519], [0.4620983120049309], [0.24162984865316828], [0.5362840600010594], [-0.4845775475739731], [-0.016793849593862653], [0.02071581020583313], [0.7967493477048597]], bias: [0.0, 0.0, 0.0, 0.0, 0.0, 0.0, 0.0, 0.0, 0.0, 0.0], input_size: 1, output_size: 10 }, NeuralMatrix { matrix: [[-0.9552920432779488, 0.7477435888514106, 0.7479709064922173, -0.8795682927285577, 0.8019437358295436, 0.691383334924522, 0.7552922249883038, -0.1131282380291534, -0.931271479100483, 0.7291835672921563]], bias: [0.0], input_size: 10, output_size: 1 }]\n"
     ]
    }
   ],
   "source": [
    "neurons_size = np.array([1, 10, 1], dtype=np.uintp)\n",
    "learning_rate = 0.1\n",
    "epochs = 100000\n",
    "callback_interval = 1000\n",
    "checkpoint_enable = False\n",
    "callback_interval = 1000\n",
    "log_enable = False\n",
    "log_tag = \"linearTestCase\".encode('utf-8')\n",
    "parameter_ptr = neurons_size.ctypes.data_as(ctypes.POINTER(ctypes.c_size_t))\n",
    "nn = mlp_model.mlpInit(parameter_ptr, neurons_size.size, learning_rate)\n",
    "\n",
    "X_train = np.array([\n",
    "    [3.0],\n",
    "    [7.0],\n",
    "    [9.0],\n",
    "], dtype=np.float64)\n",
    "\n",
    "y_train = np.array([\n",
    "    [8.0],\n",
    "    [2.0],\n",
    "    [6.0],\n",
    "], dtype=np.float64)"
   ]
  },
  {
   "cell_type": "code",
   "execution_count": 19,
   "metadata": {},
   "outputs": [
    {
     "data": {
      "application/vnd.jupyter.widget-view+json": {
       "model_id": "4972f9fabfdf4fd4a28789b1dff77082",
       "version_major": 2,
       "version_minor": 0
      },
      "text/plain": [
       "Training Progress:   0%|          | 0/100000 [00:00<?, ?it/s]"
      ]
     },
     "metadata": {},
     "output_type": "display_data"
    }
   ],
   "source": [
    "progress_bar = tqdm(total=epochs, desc=\"Training Progress\")\n",
    "\n",
    "def progress_callback(epochs, loss):\n",
    "    progress_bar.update(callback_interval)\n",
    "    progress_bar.set_postfix(loss=loss)\n",
    "\n",
    "callback_func = PROGRESS_CALLBACK(progress_callback)\n",
    "\n",
    "loss = mlp_model.mlpTrain(\n",
    "    nn,\n",
    "    X_train.ctypes.data_as(ctypes.POINTER(ctypes.c_double)),\n",
    "    y_train.ctypes.data_as(ctypes.POINTER(ctypes.c_double)),\n",
    "    X_train.shape[0],\n",
    "    X_train.shape[1],\n",
    "    1,\n",
    "    epochs,\n",
    "    16,\n",
    "    False,\n",
    "    callback_func,\n",
    "    callback_interval,\n",
    "    checkpoint_enable,\n",
    "    callback_interval,\n",
    "    log_enable,\n",
    "    log_tag,\n",
    ")\n",
    "progress_bar.close()"
   ]
  },
  {
   "cell_type": "code",
   "execution_count": 20,
   "metadata": {},
   "outputs": [
    {
     "name": "stdout",
     "output_type": "stream",
     "text": [
      "Sample [3.] , predictions = [8.15554016]\n",
      "Sample [7.] , predictions = [8.15554016]\n",
      "Sample [9.] , predictions = [8.15554016]\n"
     ]
    }
   ],
   "source": [
    "allPrediction = []\n",
    "for k in range(len(X_train)):\n",
    "    predictions = np.zeros(1, dtype=np.float64)\n",
    "    mlp_model.mlpPredict(\n",
    "        nn,\n",
    "        X_train[k].ctypes.data_as(ctypes.POINTER(ctypes.c_double)),\n",
    "        X_train[k].size,\n",
    "        False,\n",
    "        predictions.ctypes.data_as(ctypes.POINTER(ctypes.c_double))\n",
    "    )\n",
    "    allPrediction.append(predictions)\n",
    "    print(\"Sample\", X_train[k], \", predictions =\", predictions)\n",
    "\n",
    "# plotDisplay(X_train, y_train, nn, mlp_model)\n",
    "mlp_model.mlpFree(nn)"
   ]
  },
  {
   "cell_type": "code",
   "execution_count": 21,
   "metadata": {},
   "outputs": [
    {
     "data": {
      "image/png": "[encoded data removed]",
      "text/plain": [
       "<Figure size 640x480 with 1 Axes>"
      ]
     },
     "metadata": {},
     "output_type": "display_data"
    }
   ],
   "source": [
    "plt.scatter(X_train, y_train)\n",
    "plt.scatter(X_train, allPrediction, c='red')\n",
    "plt.show()"
   ]
  },
  {
   "cell_type": "code",
   "execution_count": null,
   "metadata": {},
   "outputs": [],
   "source": []
  }
 ],
 "metadata": {
  "kernelspec": {
   "display_name": "PA",
   "language": "python",
   "name": "python3"
  },
  "language_info": {
   "codemirror_mode": {
    "name": "ipython",
    "version": 3
   },
   "file_extension": ".py",
   "mimetype": "text/x-python",
   "name": "python",
   "nbconvert_exporter": "python",
   "pygments_lexer": "ipython3",
   "version": "3.12.3"
  }
 },
 "nbformat": 4,
 "nbformat_minor": 2
}
