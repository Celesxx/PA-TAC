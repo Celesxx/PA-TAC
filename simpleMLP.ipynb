{
 "cells": [
  {
   "cell_type": "code",
   "execution_count": 13,
   "metadata": {},
   "outputs": [],
   "source": [
    "import ctypes\n",
    "import numpy as np\n",
    "import matplotlib.pyplot as plt"
   ]
  },
  {
   "cell_type": "code",
   "execution_count": 16,
   "metadata": {},
   "outputs": [],
   "source": [
    "mlp_model = ctypes.CDLL(\"modele/mlp/target/release/libmlp_classification.so\")\n",
    "\n",
    "# Définir les types d'arguments et de retour des fonctions C\n",
    "mlp_model.mlpInit.argtypes = [ctypes.POINTER(ctypes.c_uint), ctypes.c_size_t, ctypes.c_double]\n",
    "mlp_model.mlpInit.restype = ctypes.POINTER(ctypes.c_void_p)\n",
    "\n",
    "mlp_model.mlpTrain.argtypes = [\n",
    "    ctypes.POINTER(ctypes.c_void_p),\n",
    "    ctypes.POINTER(ctypes.c_double),\n",
    "    ctypes.POINTER(ctypes.c_double),\n",
    "    ctypes.c_size_t,\n",
    "    ctypes.c_size_t,\n",
    "    ctypes.c_size_t,\n",
    "    ctypes.c_bool\n",
    "]\n",
    "mlp_model.mlpTrain.restype = None\n",
    "\n",
    "\n",
    "mlp_model.mlpBackward.argtypes = [\n",
    "    ctypes.POINTER(ctypes.c_void_p),\n",
    "    ctypes.POINTER(ctypes.c_double),\n",
    "    ctypes.POINTER(ctypes.c_double),\n",
    "    ctypes.c_size_t,\n",
    "    ctypes.c_bool\n",
    "]\n",
    "mlp_model.mlpBackward.restype = ctypes.c_double\n",
    "\n",
    "mlp_model.mlpUpdateWeights.argtypes = [ctypes.POINTER(ctypes.c_void_p), ctypes.c_double]\n",
    "mlp_model.mlpUpdateWeights.restype = None\n",
    "\n",
    "mlp_model.mlpForward.argtypes = [\n",
    "    ctypes.POINTER(ctypes.c_void_p),\n",
    "    ctypes.POINTER(ctypes.c_double),\n",
    "    ctypes.c_size_t,\n",
    "    ctypes.c_bool\n",
    "]\n",
    "mlp_model.mlpForward.restype = ctypes.POINTER(ctypes.c_double)\n",
    "\n",
    "\n",
    "mlp_model.mlpPredict.argtypes = [\n",
    "    ctypes.POINTER(ctypes.c_void_p),\n",
    "    ctypes.POINTER(ctypes.c_double),\n",
    "    ctypes.c_size_t,\n",
    "    ctypes.c_bool,\n",
    "    ctypes.POINTER(ctypes.c_double)\n",
    "]\n",
    "mlp_model.mlpPredict.restype = None\n",
    "\n",
    "mlp_model.mlpFree.argtypes = [ctypes.POINTER(ctypes.c_void_p)]\n",
    "mlp_model.mlpFree.restype = None\n"
   ]
  },
  {
   "cell_type": "code",
   "execution_count": 27,
   "metadata": {},
   "outputs": [
    {
     "name": "stdout",
     "output_type": "stream",
     "text": [
      "layer : 2\n",
      "neural matrix : [NeuralMatrix { matrix: [[-0.3338119710298133, 0.4878312006149472], [0.5273773279647744, 0.8585058101269558], [-0.6694291133156929, -0.10367661887602919]], bias: [0.0, 0.0, 0.0], input_size: 2, output_size: 3 }, NeuralMatrix { matrix: [[-0.7723849847067554, 0.7702260747489023, 0.35157248084715764]], bias: [0.0], input_size: 3, output_size: 1 }]\n"
     ]
    }
   ],
   "source": [
    "parameter = np.array([2, 3, 1], dtype=np.uintp)\n",
    "learning_rate = 0.01\n",
    "epochs = 100000\n",
    "parameter_ptr = parameter.ctypes.data_as(ctypes.POINTER(ctypes.c_uint))\n",
    "nn = mlp_model.mlpInit(parameter_ptr, parameter.size, learning_rate)\n",
    "\n",
    "X_train = np.array([\n",
    "    [0.0, 0.0],\n",
    "    [0.0, 1.0],\n",
    "    [1.0, 0.0],\n",
    "    [1.0, 1.0]\n",
    "], dtype=np.float64)\n",
    "\n",
    "y_train = np.array([\n",
    "    [-1.0],\n",
    "    [1.0],\n",
    "    [1.0],\n",
    "    [-1.0]\n",
    "], dtype=np.float64)"
   ]
  },
  {
   "cell_type": "code",
   "execution_count": 28,
   "metadata": {},
   "outputs": [],
   "source": [
    "mlp_model.mlpTrain(\n",
    "    nn,\n",
    "    X_train.ctypes.data_as(ctypes.POINTER(ctypes.c_double)),\n",
    "    y_train.ctypes.data_as(ctypes.POINTER(ctypes.c_double)),\n",
    "    X_train.shape[0],\n",
    "    X_train.shape[1],\n",
    "    epochs,  # epochs\n",
    "    True   # is_classification\n",
    ")"
   ]
  },
  {
   "cell_type": "code",
   "execution_count": 29,
   "metadata": {},
   "outputs": [
    {
     "name": "stdout",
     "output_type": "stream",
     "text": [
      "Sample [0. 0.] , predictions = [-1.]\n",
      "Sample [0. 1.] , predictions = [-1.]\n",
      "Sample [1. 0.] , predictions = [-1.]\n",
      "Sample [1. 1.] , predictions = [-1.]\n"
     ]
    }
   ],
   "source": [
    "for k in range(len(X_train)):\n",
    "    predictions = np.zeros(1, dtype=np.float64)\n",
    "    mlp_model.mlpPredict(\n",
    "        nn,\n",
    "        X_train[k].ctypes.data_as(ctypes.POINTER(ctypes.c_double)),\n",
    "        X_train[k].size,\n",
    "        True,\n",
    "        predictions.ctypes.data_as(ctypes.POINTER(ctypes.c_double))\n",
    "    )\n",
    "    print(\"Sample\", X_train[k], \", predictions =\", predictions)\n"
   ]
  },
  {
   "cell_type": "code",
   "execution_count": 25,
   "metadata": {},
   "outputs": [
    {
     "data": {
      "image/png": "[encoded data removed]",
      "text/plain": [
       "<Figure size 640x480 with 1 Axes>"
      ]
     },
     "metadata": {},
     "output_type": "display_data"
    }
   ],
   "source": [
    "losses = []\n",
    "for epoch in range(1000):\n",
    "    epoch_loss = 0.0\n",
    "    for x, y in zip(X_train, y_train):\n",
    "        activations_ptr = mlp_model.mlpForward(\n",
    "            nn,\n",
    "            x.ctypes.data_as(ctypes.POINTER(ctypes.c_double)),\n",
    "            x.size,\n",
    "            True\n",
    "        )\n",
    "        activations = np.ctypeslib.as_array(activations_ptr, shape=(1,))\n",
    "\n",
    "        loss = mlp_model.mlpBackward(\n",
    "            nn,\n",
    "            activations.ctypes.data_as(ctypes.POINTER(ctypes.c_double)),\n",
    "            y.ctypes.data_as(ctypes.POINTER(ctypes.c_double)),\n",
    "            len(parameter),\n",
    "            True\n",
    "        )\n",
    "        epoch_loss += loss\n",
    "\n",
    "        mlp_model.mlpUpdateWeights(nn, learning_rate)\n",
    "\n",
    "    losses.append(epoch_loss / len(X_train))\n",
    "\n",
    "plt.plot(losses)\n",
    "plt.xlabel('Epochs')\n",
    "plt.ylabel('Loss')\n",
    "plt.title('Loss over Epochs')\n",
    "plt.show()\n"
   ]
  },
  {
   "cell_type": "code",
   "execution_count": 26,
   "metadata": {},
   "outputs": [],
   "source": [
    "mlp_model.mlpFree(nn)"
   ]
  },
  {
   "cell_type": "code",
   "execution_count": null,
   "metadata": {},
   "outputs": [],
   "source": []
  }
 ],
 "metadata": {
  "kernelspec": {
   "display_name": "PA",
   "language": "python",
   "name": "python3"
  },
  "language_info": {
   "codemirror_mode": {
    "name": "ipython",
    "version": 3
   },
   "file_extension": ".py",
   "mimetype": "text/x-python",
   "name": "python",
   "nbconvert_exporter": "python",
   "pygments_lexer": "ipython3",
   "version": "3.12.3"
  }
 },
 "nbformat": 4,
 "nbformat_minor": 2
}
